{
 "cells": [
  {
   "cell_type": "markdown",
   "metadata": {},
   "source": [
    "# Introduction to Statsmodels\n",
    "\n",
    "Statsmodels is a Python module that provides classes and functions for the estimation of many different statistical models, as well as for conducting statistical tests, and statistical data exploration. An extensive list of result statistics are available for each estimator. The results are tested against existing statistical packages to ensure that they are correct. The package is released under the open source Modified BSD (3-clause) license. The online documentation is hosted at <a href='https://www.statsmodels.org/stable/index.html'>statsmodels.org</a>. The statsmodels version used in the development of this course is 0.9.0.\n",
    "\n",
    "<div class=\"alert alert-info\"><h3>For Further Reading:</h3>\n",
    "<strong>\n",
    "<a href='http://www.statsmodels.org/stable/tsa.html'>Statsmodels Tutorial:</a></strong>&nbsp;&nbsp;<font color=black>Time Series Analysis</font></div>\n",
    "\n",
    "Let's walk through a very simple example of using statsmodels!"
   ]
  },
  {
   "cell_type": "markdown",
   "metadata": {},
   "source": [
    "### Perform standard imports and load the dataset\n",
    "For these exercises we'll be using a statsmodels built-in macroeconomics dataset:\n",
    "\n",
    "<pre><strong>US Macroeconomic Data for 1959Q1 - 2009Q3</strong>\n",
    "Number of Observations - 203\n",
    "Number of Variables - 14\n",
    "Variable name definitions:\n",
    "    year      - 1959q1 - 2009q3\n",
    "    quarter   - 1-4\n",
    "    realgdp   - Real gross domestic product (Bil. of chained 2005 US$,\n",
    "                seasonally adjusted annual rate)\n",
    "    realcons  - Real personal consumption expenditures (Bil. of chained\n",
    "                2005 US$, seasonally adjusted annual rate)\n",
    "    realinv   - Real gross private domestic investment (Bil. of chained\n",
    "                2005 US$, seasonally adjusted annual rate)\n",
    "    realgovt  - Real federal consumption expenditures & gross investment\n",
    "                (Bil. of chained 2005 US$, seasonally adjusted annual rate)\n",
    "    realdpi   - Real private disposable income (Bil. of chained 2005\n",
    "                US$, seasonally adjusted annual rate)\n",
    "    cpi       - End of the quarter consumer price index for all urban\n",
    "                consumers: all items (1982-84 = 100, seasonally adjusted).\n",
    "    m1        - End of the quarter M1 nominal money stock (Seasonally\n",
    "                adjusted)\n",
    "    tbilrate  - Quarterly monthly average of the monthly 3-month\n",
    "                treasury bill: secondary market rate\n",
    "    unemp     - Seasonally adjusted unemployment rate (%)\n",
    "    pop       - End of the quarter total population: all ages incl. armed\n",
    "                forces over seas\n",
    "    infl      - Inflation rate (ln(cpi_{t}/cpi_{t-1}) * 400)\n",
    "    realint   - Real interest rate (tbilrate - infl)</pre>\n",
    "    \n",
    "<div class=\"alert alert-info\"><strong>NOTE:</strong> Although we've provided a .csv file in the Data folder, you can also build this DataFrame with the following code:<br>\n",
    "<tt>&nbsp;&nbsp;&nbsp;&nbsp;import pandas as pd<br>\n",
    "&nbsp;&nbsp;&nbsp;&nbsp;import statsmodels.api as sm<br>\n",
    "&nbsp;&nbsp;&nbsp;&nbsp;df = sm.datasets.macrodata.load_pandas().data<br>\n",
    "&nbsp;&nbsp;&nbsp;&nbsp;df.index = pd.Index(sm.tsa.datetools.dates_from_range('1959Q1', '2009Q3'))<br>\n",
    "&nbsp;&nbsp;&nbsp;&nbsp;print(sm.datasets.macrodata.NOTE)</tt></div>"
   ]
  },
  {
   "cell_type": "code",
   "execution_count": 1,
   "metadata": {
    "ExecuteTime": {
     "end_time": "2020-06-28T12:21:13.667236Z",
     "start_time": "2020-06-28T12:21:12.456867Z"
    }
   },
   "outputs": [
    {
     "data": {
      "text/html": [
       "<div>\n",
       "<style scoped>\n",
       "    .dataframe tbody tr th:only-of-type {\n",
       "        vertical-align: middle;\n",
       "    }\n",
       "\n",
       "    .dataframe tbody tr th {\n",
       "        vertical-align: top;\n",
       "    }\n",
       "\n",
       "    .dataframe thead th {\n",
       "        text-align: right;\n",
       "    }\n",
       "</style>\n",
       "<table border=\"1\" class=\"dataframe\">\n",
       "  <thead>\n",
       "    <tr style=\"text-align: right;\">\n",
       "      <th></th>\n",
       "      <th>year</th>\n",
       "      <th>quarter</th>\n",
       "      <th>realgdp</th>\n",
       "      <th>realcons</th>\n",
       "      <th>realinv</th>\n",
       "      <th>realgovt</th>\n",
       "      <th>realdpi</th>\n",
       "      <th>cpi</th>\n",
       "      <th>m1</th>\n",
       "      <th>tbilrate</th>\n",
       "      <th>unemp</th>\n",
       "      <th>pop</th>\n",
       "      <th>infl</th>\n",
       "      <th>realint</th>\n",
       "    </tr>\n",
       "  </thead>\n",
       "  <tbody>\n",
       "    <tr>\n",
       "      <th>1959-03-31</th>\n",
       "      <td>1959</td>\n",
       "      <td>1</td>\n",
       "      <td>2710.349</td>\n",
       "      <td>1707.4</td>\n",
       "      <td>286.898</td>\n",
       "      <td>470.045</td>\n",
       "      <td>1886.9</td>\n",
       "      <td>28.98</td>\n",
       "      <td>139.7</td>\n",
       "      <td>2.82</td>\n",
       "      <td>5.8</td>\n",
       "      <td>177.146</td>\n",
       "      <td>0.00</td>\n",
       "      <td>0.00</td>\n",
       "    </tr>\n",
       "    <tr>\n",
       "      <th>1959-06-30</th>\n",
       "      <td>1959</td>\n",
       "      <td>2</td>\n",
       "      <td>2778.801</td>\n",
       "      <td>1733.7</td>\n",
       "      <td>310.859</td>\n",
       "      <td>481.301</td>\n",
       "      <td>1919.7</td>\n",
       "      <td>29.15</td>\n",
       "      <td>141.7</td>\n",
       "      <td>3.08</td>\n",
       "      <td>5.1</td>\n",
       "      <td>177.830</td>\n",
       "      <td>2.34</td>\n",
       "      <td>0.74</td>\n",
       "    </tr>\n",
       "    <tr>\n",
       "      <th>1959-09-30</th>\n",
       "      <td>1959</td>\n",
       "      <td>3</td>\n",
       "      <td>2775.488</td>\n",
       "      <td>1751.8</td>\n",
       "      <td>289.226</td>\n",
       "      <td>491.260</td>\n",
       "      <td>1916.4</td>\n",
       "      <td>29.35</td>\n",
       "      <td>140.5</td>\n",
       "      <td>3.82</td>\n",
       "      <td>5.3</td>\n",
       "      <td>178.657</td>\n",
       "      <td>2.74</td>\n",
       "      <td>1.09</td>\n",
       "    </tr>\n",
       "    <tr>\n",
       "      <th>1959-12-31</th>\n",
       "      <td>1959</td>\n",
       "      <td>4</td>\n",
       "      <td>2785.204</td>\n",
       "      <td>1753.7</td>\n",
       "      <td>299.356</td>\n",
       "      <td>484.052</td>\n",
       "      <td>1931.3</td>\n",
       "      <td>29.37</td>\n",
       "      <td>140.0</td>\n",
       "      <td>4.33</td>\n",
       "      <td>5.6</td>\n",
       "      <td>179.386</td>\n",
       "      <td>0.27</td>\n",
       "      <td>4.06</td>\n",
       "    </tr>\n",
       "    <tr>\n",
       "      <th>1960-03-31</th>\n",
       "      <td>1960</td>\n",
       "      <td>1</td>\n",
       "      <td>2847.699</td>\n",
       "      <td>1770.5</td>\n",
       "      <td>331.722</td>\n",
       "      <td>462.199</td>\n",
       "      <td>1955.5</td>\n",
       "      <td>29.54</td>\n",
       "      <td>139.6</td>\n",
       "      <td>3.50</td>\n",
       "      <td>5.2</td>\n",
       "      <td>180.007</td>\n",
       "      <td>2.31</td>\n",
       "      <td>1.19</td>\n",
       "    </tr>\n",
       "  </tbody>\n",
       "</table>\n",
       "</div>"
      ],
      "text/plain": [
       "            year  quarter   realgdp  realcons  realinv  realgovt  realdpi  \\\n",
       "1959-03-31  1959        1  2710.349    1707.4  286.898   470.045   1886.9   \n",
       "1959-06-30  1959        2  2778.801    1733.7  310.859   481.301   1919.7   \n",
       "1959-09-30  1959        3  2775.488    1751.8  289.226   491.260   1916.4   \n",
       "1959-12-31  1959        4  2785.204    1753.7  299.356   484.052   1931.3   \n",
       "1960-03-31  1960        1  2847.699    1770.5  331.722   462.199   1955.5   \n",
       "\n",
       "              cpi     m1  tbilrate  unemp      pop  infl  realint  \n",
       "1959-03-31  28.98  139.7      2.82    5.8  177.146  0.00     0.00  \n",
       "1959-06-30  29.15  141.7      3.08    5.1  177.830  2.34     0.74  \n",
       "1959-09-30  29.35  140.5      3.82    5.3  178.657  2.74     1.09  \n",
       "1959-12-31  29.37  140.0      4.33    5.6  179.386  0.27     4.06  \n",
       "1960-03-31  29.54  139.6      3.50    5.2  180.007  2.31     1.19  "
      ]
     },
     "execution_count": 1,
     "metadata": {},
     "output_type": "execute_result"
    }
   ],
   "source": [
    "import numpy as np\n",
    "import pandas as pd\n",
    "%matplotlib inline\n",
    "\n",
    "df = pd.read_csv('../Data/macrodata.csv',index_col=0,parse_dates=True)\n",
    "df.head()"
   ]
  },
  {
   "cell_type": "markdown",
   "metadata": {},
   "source": [
    "### Plot the dataset"
   ]
  },
  {
   "cell_type": "code",
   "execution_count": 7,
   "metadata": {
    "ExecuteTime": {
     "end_time": "2020-06-28T12:22:00.602410Z",
     "start_time": "2020-06-28T12:22:00.294948Z"
    }
   },
   "outputs": [
    {
     "data": {
      "image/png": "[encoded data removed]",
      "text/plain": [
       "<Figure size 864x360 with 1 Axes>"
      ]
     },
     "metadata": {
      "needs_background": "light"
     },
     "output_type": "display_data"
    }
   ],
   "source": [
    "ax = df['realgdp'].plot(figsize = (12,5))\n",
    "ax.autoscale(axis='x',tight=True)\n",
    "ax.set(ylabel='REAL GDP');"
   ]
  },
  {
   "cell_type": "markdown",
   "metadata": {},
   "source": [
    "## Using Statsmodels to get the trend\n",
    "<div class=\"alert alert-info\"><h3>Related Function:</h3>\n",
    "<tt><a href='https://www.statsmodels.org/stable/generated/statsmodels.tsa.filters.hp_filter.hpfilter.html'><strong>statsmodels.tsa.filters.hp_filter.hpfilter</strong></a><font color=black>(X, lamb=1600)</font>&nbsp;&nbsp;Hodrick-Prescott filter</div>\n",
    "    \n",
    "The <a href='https://en.wikipedia.org/wiki/Hodrick%E2%80%93Prescott_filter'>Hodrick-Prescott filter</a> separates a time-series  $y_t$ into a trend component $\\tau_t$ and a cyclical component $c_t$\n",
    "\n",
    "$y_t = \\tau_t + c_t$\n",
    "\n",
    "The components are determined by minimizing the following quadratic loss function, where $\\lambda$ is a smoothing parameter:\n",
    "\n",
    "$\\min_{\\\\{ \\tau_{t}\\\\} }\\sum_{t=1}^{T}c_{t}^{2}+\\lambda\\sum_{t=1}^{T}\\left[\\left(\\tau_{t}-\\tau_{t-1}\\right)-\\left(\\tau_{t-1}-\\tau_{t-2}\\right)\\right]^{2}$\n",
    "\n",
    "\n",
    "The $\\lambda$ value above handles variations in the growth rate of the trend component.<br>When analyzing quarterly data, the default lambda value of 1600 is recommended. Use 6.25 for annual data, and 129,600 for monthly data."
   ]
  },
  {
   "cell_type": "code",
   "execution_count": 8,
   "metadata": {
    "ExecuteTime": {
     "end_time": "2020-06-28T12:22:39.891704Z",
     "start_time": "2020-06-28T12:22:23.082364Z"
    }
   },
   "outputs": [],
   "source": [
    "from statsmodels.tsa.filters.hp_filter import hpfilter\n",
    "\n",
    "# Tuple unpacking\n",
    "gdp_cycle, gdp_trend = hpfilter(df['realgdp'], lamb=1600)"
   ]
  },
  {
   "cell_type": "code",
   "execution_count": 9,
   "metadata": {
    "ExecuteTime": {
     "end_time": "2020-06-28T12:22:52.206791Z",
     "start_time": "2020-06-28T12:22:52.194790Z"
    },
    "scrolled": true
   },
   "outputs": [
    {
     "data": {
      "text/plain": [
       "1959-03-31     39.511915\n",
       "1959-06-30     80.088532\n",
       "1959-09-30     48.875455\n",
       "1959-12-31     30.591933\n",
       "1960-03-31     64.882667\n",
       "                 ...    \n",
       "2008-09-30    102.018455\n",
       "2008-12-31   -107.269472\n",
       "2009-03-31   -349.047706\n",
       "2009-06-30   -397.557073\n",
       "2009-09-30   -333.115243\n",
       "Name: realgdp_cycle, Length: 203, dtype: float64"
      ]
     },
     "execution_count": 9,
     "metadata": {},
     "output_type": "execute_result"
    }
   ],
   "source": [
    "gdp_cycle"
   ]
  },
  {
   "cell_type": "markdown",
   "metadata": {},
   "source": [
    "We see from these numbers that for the period from <strong>1960-09-30</strong> to <strong>1965-06-30</strong> actual values fall below the trendline."
   ]
  },
  {
   "cell_type": "code",
   "execution_count": 10,
   "metadata": {
    "ExecuteTime": {
     "end_time": "2020-06-28T12:24:26.192705Z",
     "start_time": "2020-06-28T12:24:26.181704Z"
    }
   },
   "outputs": [
    {
     "data": {
      "text/plain": [
       "pandas.core.series.Series"
      ]
     },
     "execution_count": 10,
     "metadata": {},
     "output_type": "execute_result"
    }
   ],
   "source": [
    "type(gdp_cycle)"
   ]
  },
  {
   "cell_type": "code",
   "execution_count": 12,
   "metadata": {
    "ExecuteTime": {
     "end_time": "2020-06-28T12:24:47.297501Z",
     "start_time": "2020-06-28T12:24:47.285459Z"
    }
   },
   "outputs": [],
   "source": [
    "df['trend'] = gdp_trend"
   ]
  },
  {
   "cell_type": "code",
   "execution_count": 13,
   "metadata": {
    "ExecuteTime": {
     "end_time": "2020-06-28T12:24:49.408405Z",
     "start_time": "2020-06-28T12:24:49.032373Z"
    }
   },
   "outputs": [
    {
     "data": {
      "image/png": "[encoded data removed]",
      "text/plain": [
       "<Figure size 432x288 with 1 Axes>"
      ]
     },
     "metadata": {
      "needs_background": "light"
     },
     "output_type": "display_data"
    }
   ],
   "source": [
    "df[['trend','realgdp']].plot().autoscale(axis='x',tight=True);"
   ]
  },
  {
   "cell_type": "code",
   "execution_count": 14,
   "metadata": {
    "ExecuteTime": {
     "end_time": "2020-06-28T12:24:58.004940Z",
     "start_time": "2020-06-28T12:24:57.539378Z"
    }
   },
   "outputs": [
    {
     "data": {
      "image/png": "[encoded data removed]",
      "text/plain": [
       "<Figure size 864x576 with 1 Axes>"
      ]
     },
     "metadata": {
      "needs_background": "light"
     },
     "output_type": "display_data"
    }
   ],
   "source": [
    "df[['trend','realgdp']]['2000-03-31':].plot(figsize=(12,8)).autoscale(axis='x',tight=True);"
   ]
  },
  {
   "cell_type": "markdown",
   "metadata": {},
   "source": [
    "---"
   ]
  }
 ],
 "metadata": {
  "anaconda-cloud": {},
  "kernelspec": {
   "display_name": "Python 3",
   "language": "python",
   "name": "python3"
  },
  "language_info": {
   "codemirror_mode": {
    "name": "ipython",
    "version": 3
   },
   "file_extension": ".py",
   "mimetype": "text/x-python",
   "name": "python",
   "nbconvert_exporter": "python",
   "pygments_lexer": "ipython3",
   "version": "3.7.6"
  },
  "toc": {
   "base_numbering": 1,
   "nav_menu": {},
   "number_sections": true,
   "sideBar": true,
   "skip_h1_title": false,
   "title_cell": "Table of Contents",
   "title_sidebar": "Contents",
   "toc_cell": false,
   "toc_position": {},
   "toc_section_display": true,
   "toc_window_display": true
  },
  "varInspector": {
   "cols": {
    "lenName": 16,
    "lenType": 16,
    "lenVar": 40
   },
   "kernels_config": {
    "python": {
     "delete_cmd_postfix": "",
     "delete_cmd_prefix": "del ",
     "library": "var_list.py",
     "varRefreshCmd": "print(var_dic_list())"
    },
    "r": {
     "delete_cmd_postfix": ") ",
     "delete_cmd_prefix": "rm(",
     "library": "var_list.r",
     "varRefreshCmd": "cat(var_dic_list()) "
    }
   },
   "types_to_exclude": [
    "module",
    "function",
    "builtin_function_or_method",
    "instance",
    "_Feature"
   ],
   "window_display": false
  }
 },
 "nbformat": 4,
 "nbformat_minor": 2
}
