{
 "cells": [
  {
   "cell_type": "markdown",
   "metadata": {},
   "source": [
    "# Keras Basics"
   ]
  },
  {
   "cell_type": "code",
   "execution_count": 31,
   "metadata": {
    "ExecuteTime": {
     "end_time": "2020-07-18T05:31:02.048621Z",
     "start_time": "2020-07-18T05:31:02.036218Z"
    }
   },
   "outputs": [],
   "source": [
    "# You can safely ignore any warnings on importing this\n",
    "# import keras\n",
    "# from tensorflow import keras\n",
    "\n",
    "from tensorflow.keras.layers import Dense\n",
    "from tensorflow.keras import Sequential\n",
    "import matplotlib.pyplot as plt\n",
    "import pandas as pd\n",
    "import numpy as np"
   ]
  },
  {
   "cell_type": "markdown",
   "metadata": {},
   "source": [
    "## Simple y=mx+b+noise data"
   ]
  },
  {
   "cell_type": "code",
   "execution_count": 32,
   "metadata": {
    "ExecuteTime": {
     "end_time": "2020-07-18T05:31:03.654882Z",
     "start_time": "2020-07-18T05:31:03.641939Z"
    }
   },
   "outputs": [],
   "source": [
    "m = 2\n",
    "b = 3\n",
    "x = np.linspace(0,50,100)\n",
    "\n",
    "# 101 is an arbitrary choice to make sure your random values are same as mine!\n",
    "np.random.seed(101) \n",
    "noise = np.random.normal(loc=0.0,scale=4.0,size=len(x))"
   ]
  },
  {
   "cell_type": "code",
   "execution_count": 33,
   "metadata": {
    "ExecuteTime": {
     "end_time": "2020-07-18T05:31:03.827971Z",
     "start_time": "2020-07-18T05:31:03.822326Z"
    }
   },
   "outputs": [],
   "source": [
    "y = 2*x + b + noise"
   ]
  },
  {
   "cell_type": "code",
   "execution_count": 34,
   "metadata": {
    "ExecuteTime": {
     "end_time": "2020-07-18T05:31:04.178367Z",
     "start_time": "2020-07-18T05:31:04.004239Z"
    }
   },
   "outputs": [
    {
     "data": {
      "text/plain": [
       "[<matplotlib.lines.Line2D at 0x1de0b7df9c8>]"
      ]
     },
     "execution_count": 34,
     "metadata": {},
     "output_type": "execute_result"
    },
    {
     "data": {
      "image/png": "[encoded data removed]",
      "text/plain": [
       "<Figure size 864x360 with 1 Axes>"
      ]
     },
     "metadata": {
      "needs_background": "light"
     },
     "output_type": "display_data"
    }
   ],
   "source": [
    "plt.figure(figsize=(12,5))\n",
    "plt.plot(x,y,'*')"
   ]
  },
  {
   "cell_type": "markdown",
   "metadata": {},
   "source": [
    "## Creating a Neural Network for a Line of Best Fit"
   ]
  },
  {
   "cell_type": "code",
   "execution_count": 35,
   "metadata": {
    "ExecuteTime": {
     "end_time": "2020-07-18T05:31:04.599478Z",
     "start_time": "2020-07-18T05:31:04.594611Z"
    }
   },
   "outputs": [],
   "source": [
    "from tensorflow.keras.layers import Dense\n",
    "from tensorflow.keras import Sequential"
   ]
  },
  {
   "cell_type": "code",
   "execution_count": 54,
   "metadata": {
    "ExecuteTime": {
     "end_time": "2020-07-18T05:34:51.244473Z",
     "start_time": "2020-07-18T05:34:51.171754Z"
    }
   },
   "outputs": [],
   "source": [
    "model = Sequential()\n",
    "# 4 Neurons, expecting only 1 feature with input_dim=1\n",
    "model.add(Dense(4, input_dim=1, activation='relu'))\n",
    "# 4 Neurons (Play around with this number!)\n",
    "model.add(Dense(4, activation='relu'))\n",
    "# One final output of y, so only 1 neuron\n",
    "model.add(Dense(1, activation='linear'))\n",
    "# Compil the layers\n",
    "model.compile(loss='mse', optimizer='adam')"
   ]
  },
  {
   "cell_type": "code",
   "execution_count": 55,
   "metadata": {
    "ExecuteTime": {
     "end_time": "2020-07-18T05:34:51.775564Z",
     "start_time": "2020-07-18T05:34:51.769921Z"
    }
   },
   "outputs": [
    {
     "name": "stdout",
     "output_type": "stream",
     "text": [
      "Model: \"sequential_4\"\n",
      "_________________________________________________________________\n",
      "Layer (type)                 Output Shape              Param #   \n",
      "=================================================================\n",
      "dense_3 (Dense)              (None, 4)                 8         \n",
      "_________________________________________________________________\n",
      "dense_4 (Dense)              (None, 4)                 20        \n",
      "_________________________________________________________________\n",
      "dense_5 (Dense)              (None, 1)                 5         \n",
      "=================================================================\n",
      "Total params: 33\n",
      "Trainable params: 33\n",
      "Non-trainable params: 0\n",
      "_________________________________________________________________\n"
     ]
    }
   ],
   "source": [
    "model.summary()"
   ]
  },
  {
   "cell_type": "markdown",
   "metadata": {},
   "source": [
    "## Train on Data\n",
    "\n",
    "** NOTE: FOR THIS SIMPLE EXAMPLE, I WILL SKIP THE TRAIN TEST SPLIT!!!! **"
   ]
  },
  {
   "cell_type": "code",
   "execution_count": 56,
   "metadata": {
    "ExecuteTime": {
     "end_time": "2020-07-18T05:35:00.571615Z",
     "start_time": "2020-07-18T05:34:57.660527Z"
    }
   },
   "outputs": [
    {
     "name": "stdout",
     "output_type": "stream",
     "text": [
      "Train on 100 samples\n",
      "Epoch 1/200\n",
      "100/100 [==============================] - 0s 4ms/sample - loss: 2775.0023\n",
      "Epoch 2/200\n",
      "100/100 [==============================] - 0s 75us/sample - loss: 2757.3558\n",
      "Epoch 3/200\n",
      "100/100 [==============================] - 0s 86us/sample - loss: 2738.6767\n",
      "Epoch 4/200\n",
      "100/100 [==============================] - 0s 114us/sample - loss: 2720.4035\n",
      "Epoch 5/200\n",
      "100/100 [==============================] - 0s 111us/sample - loss: 2701.6780\n",
      "Epoch 6/200\n",
      "100/100 [==============================] - 0s 129us/sample - loss: 2682.6559\n",
      "Epoch 7/200\n",
      "100/100 [==============================] - 0s 140us/sample - loss: 2664.5209\n",
      "Epoch 8/200\n",
      "100/100 [==============================] - 0s 122us/sample - loss: 2644.0462\n",
      "Epoch 9/200\n",
      "100/100 [==============================] - 0s 116us/sample - loss: 2625.6226\n",
      "Epoch 10/200\n",
      "100/100 [==============================] - 0s 89us/sample - loss: 2605.4926\n",
      "Epoch 11/200\n",
      "100/100 [==============================] - 0s 106us/sample - loss: 2585.3662\n",
      "Epoch 12/200\n",
      "100/100 [==============================] - 0s 95us/sample - loss: 2565.2686\n",
      "Epoch 13/200\n",
      "100/100 [==============================] - 0s 112us/sample - loss: 2545.3987\n",
      "Epoch 14/200\n",
      "100/100 [==============================] - 0s 86us/sample - loss: 2525.1995\n",
      "Epoch 15/200\n",
      "100/100 [==============================] - 0s 106us/sample - loss: 2504.4084\n",
      "Epoch 16/200\n",
      "100/100 [==============================] - 0s 113us/sample - loss: 2484.1212\n",
      "Epoch 17/200\n",
      "100/100 [==============================] - 0s 89us/sample - loss: 2463.9801\n",
      "Epoch 18/200\n",
      "100/100 [==============================] - 0s 117us/sample - loss: 2442.5460\n",
      "Epoch 19/200\n",
      "100/100 [==============================] - 0s 105us/sample - loss: 2421.2953\n",
      "Epoch 20/200\n",
      "100/100 [==============================] - 0s 128us/sample - loss: 2400.3238\n",
      "Epoch 21/200\n",
      "100/100 [==============================] - 0s 114us/sample - loss: 2378.4338\n",
      "Epoch 22/200\n",
      "100/100 [==============================] - 0s 94us/sample - loss: 2355.7772\n",
      "Epoch 23/200\n",
      "100/100 [==============================] - 0s 114us/sample - loss: 2333.7288\n",
      "Epoch 24/200\n",
      "100/100 [==============================] - 0s 99us/sample - loss: 2310.6653\n",
      "Epoch 25/200\n",
      "100/100 [==============================] - 0s 136us/sample - loss: 2288.1928\n",
      "Epoch 26/200\n",
      "100/100 [==============================] - 0s 80us/sample - loss: 2266.0249\n",
      "Epoch 27/200\n",
      "100/100 [==============================] - 0s 104us/sample - loss: 2244.0079\n",
      "Epoch 28/200\n",
      "100/100 [==============================] - 0s 114us/sample - loss: 2221.2917\n",
      "Epoch 29/200\n",
      "100/100 [==============================] - 0s 124us/sample - loss: 2197.1998\n",
      "Epoch 30/200\n",
      "100/100 [==============================] - 0s 113us/sample - loss: 2174.5739\n",
      "Epoch 31/200\n",
      "100/100 [==============================] - 0s 80us/sample - loss: 2150.1302\n",
      "Epoch 32/200\n",
      "100/100 [==============================] - 0s 113us/sample - loss: 2127.1896\n",
      "Epoch 33/200\n",
      "100/100 [==============================] - 0s 112us/sample - loss: 2102.6312\n",
      "Epoch 34/200\n",
      "100/100 [==============================] - 0s 74us/sample - loss: 2079.3029\n",
      "Epoch 35/200\n",
      "100/100 [==============================] - 0s 105us/sample - loss: 2055.8460\n",
      "Epoch 36/200\n",
      "100/100 [==============================] - 0s 127us/sample - loss: 2032.1742\n",
      "Epoch 37/200\n",
      "100/100 [==============================] - 0s 90us/sample - loss: 2007.7499\n",
      "Epoch 38/200\n",
      "100/100 [==============================] - 0s 110us/sample - loss: 1984.4987\n",
      "Epoch 39/200\n",
      "100/100 [==============================] - 0s 93us/sample - loss: 1959.0229\n",
      "Epoch 40/200\n",
      "100/100 [==============================] - 0s 126us/sample - loss: 1935.6311\n",
      "Epoch 41/200\n",
      "100/100 [==============================] - 0s 100us/sample - loss: 1909.6324\n",
      "Epoch 42/200\n",
      "100/100 [==============================] - 0s 108us/sample - loss: 1885.0156\n",
      "Epoch 43/200\n",
      "100/100 [==============================] - 0s 100us/sample - loss: 1860.6882\n",
      "Epoch 44/200\n",
      "100/100 [==============================] - 0s 122us/sample - loss: 1835.4792\n",
      "Epoch 45/200\n",
      "100/100 [==============================] - 0s 107us/sample - loss: 1810.7308\n",
      "Epoch 46/200\n",
      "100/100 [==============================] - 0s 90us/sample - loss: 1786.7163\n",
      "Epoch 47/200\n",
      "100/100 [==============================] - 0s 135us/sample - loss: 1762.3232\n",
      "Epoch 48/200\n",
      "100/100 [==============================] - 0s 95us/sample - loss: 1737.6782\n",
      "Epoch 49/200\n",
      "100/100 [==============================] - 0s 132us/sample - loss: 1712.4926\n",
      "Epoch 50/200\n",
      "100/100 [==============================] - 0s 216us/sample - loss: 1687.4571\n",
      "Epoch 51/200\n",
      "100/100 [==============================] - 0s 145us/sample - loss: 1660.7243\n",
      "Epoch 52/200\n",
      "100/100 [==============================] - 0s 88us/sample - loss: 1634.2626\n",
      "Epoch 53/200\n",
      "100/100 [==============================] - 0s 108us/sample - loss: 1607.7046\n",
      "Epoch 54/200\n",
      "100/100 [==============================] - 0s 116us/sample - loss: 1581.3650\n",
      "Epoch 55/200\n",
      "100/100 [==============================] - 0s 76us/sample - loss: 1553.3892\n",
      "Epoch 56/200\n",
      "100/100 [==============================] - 0s 77us/sample - loss: 1527.6957\n",
      "Epoch 57/200\n",
      "100/100 [==============================] - 0s 118us/sample - loss: 1500.8689\n",
      "Epoch 58/200\n",
      "100/100 [==============================] - 0s 92us/sample - loss: 1474.4397\n",
      "Epoch 59/200\n",
      "100/100 [==============================] - 0s 105us/sample - loss: 1449.4398\n",
      "Epoch 60/200\n",
      "100/100 [==============================] - 0s 93us/sample - loss: 1424.4822\n",
      "Epoch 61/200\n",
      "100/100 [==============================] - 0s 106us/sample - loss: 1399.3074\n",
      "Epoch 62/200\n",
      "100/100 [==============================] - 0s 109us/sample - loss: 1373.1626\n",
      "Epoch 63/200\n",
      "100/100 [==============================] - 0s 128us/sample - loss: 1346.5331\n",
      "Epoch 64/200\n",
      "100/100 [==============================] - 0s 80us/sample - loss: 1320.5208\n",
      "Epoch 65/200\n",
      "100/100 [==============================] - 0s 112us/sample - loss: 1294.2883\n",
      "Epoch 66/200\n",
      "100/100 [==============================] - 0s 104us/sample - loss: 1268.2093\n",
      "Epoch 67/200\n",
      "100/100 [==============================] - 0s 76us/sample - loss: 1242.2680\n",
      "Epoch 68/200\n",
      "100/100 [==============================] - 0s 115us/sample - loss: 1216.6373\n",
      "Epoch 69/200\n",
      "100/100 [==============================] - 0s 113us/sample - loss: 1190.4905\n",
      "Epoch 70/200\n",
      "100/100 [==============================] - 0s 84us/sample - loss: 1165.8050\n",
      "Epoch 71/200\n",
      "100/100 [==============================] - 0s 90us/sample - loss: 1139.2142\n",
      "Epoch 72/200\n",
      "100/100 [==============================] - 0s 105us/sample - loss: 1114.6986\n",
      "Epoch 73/200\n",
      "100/100 [==============================] - 0s 103us/sample - loss: 1088.9921\n",
      "Epoch 74/200\n",
      "100/100 [==============================] - 0s 80us/sample - loss: 1065.0342\n",
      "Epoch 75/200\n",
      "100/100 [==============================] - 0s 100us/sample - loss: 1041.5443\n",
      "Epoch 76/200\n",
      "100/100 [==============================] - 0s 111us/sample - loss: 1015.3026\n",
      "Epoch 77/200\n",
      "100/100 [==============================] - 0s 85us/sample - loss: 989.7769\n",
      "Epoch 78/200\n",
      "100/100 [==============================] - 0s 110us/sample - loss: 964.2027\n",
      "Epoch 79/200\n",
      "100/100 [==============================] - 0s 99us/sample - loss: 941.5749\n",
      "Epoch 80/200\n",
      "100/100 [==============================] - 0s 81us/sample - loss: 916.6699\n",
      "Epoch 81/200\n",
      "100/100 [==============================] - 0s 97us/sample - loss: 893.1431\n",
      "Epoch 82/200\n",
      "100/100 [==============================] - 0s 111us/sample - loss: 867.7934\n",
      "Epoch 83/200\n",
      "100/100 [==============================] - 0s 104us/sample - loss: 845.0305\n",
      "Epoch 84/200\n",
      "100/100 [==============================] - 0s 74us/sample - loss: 820.8715\n",
      "Epoch 85/200\n",
      "100/100 [==============================] - 0s 89us/sample - loss: 797.9916\n",
      "Epoch 86/200\n",
      "100/100 [==============================] - 0s 108us/sample - loss: 775.1326\n",
      "Epoch 87/200\n",
      "100/100 [==============================] - 0s 87us/sample - loss: 753.4179\n",
      "Epoch 88/200\n",
      "100/100 [==============================] - 0s 51us/sample - loss: 731.0937\n",
      "Epoch 89/200\n",
      "100/100 [==============================] - 0s 107us/sample - loss: 708.7674\n",
      "Epoch 90/200\n",
      "100/100 [==============================] - 0s 73us/sample - loss: 687.1802\n",
      "Epoch 91/200\n",
      "100/100 [==============================] - 0s 75us/sample - loss: 665.8130\n",
      "Epoch 92/200\n",
      "100/100 [==============================] - 0s 80us/sample - loss: 645.1686\n",
      "Epoch 93/200\n",
      "100/100 [==============================] - 0s 110us/sample - loss: 625.4733\n",
      "Epoch 94/200\n",
      "100/100 [==============================] - 0s 116us/sample - loss: 606.4131\n",
      "Epoch 95/200\n",
      "100/100 [==============================] - 0s 84us/sample - loss: 587.1551\n",
      "Epoch 96/200\n",
      "100/100 [==============================] - 0s 112us/sample - loss: 569.2059\n",
      "Epoch 97/200\n",
      "100/100 [==============================] - 0s 88us/sample - loss: 552.5100\n",
      "Epoch 98/200\n",
      "100/100 [==============================] - 0s 104us/sample - loss: 534.8854\n",
      "Epoch 99/200\n",
      "100/100 [==============================] - 0s 82us/sample - loss: 517.6773\n",
      "Epoch 100/200\n",
      "100/100 [==============================] - 0s 94us/sample - loss: 500.3503\n",
      "Epoch 101/200\n",
      "100/100 [==============================] - 0s 94us/sample - loss: 481.5736\n",
      "Epoch 102/200\n",
      "100/100 [==============================] - 0s 107us/sample - loss: 465.9972\n",
      "Epoch 103/200\n",
      "100/100 [==============================] - 0s 88us/sample - loss: 449.5730\n",
      "Epoch 104/200\n",
      "100/100 [==============================] - 0s 94us/sample - loss: 434.0188\n",
      "Epoch 105/200\n",
      "100/100 [==============================] - 0s 111us/sample - loss: 418.3571\n",
      "Epoch 106/200\n",
      "100/100 [==============================] - 0s 106us/sample - loss: 403.0853\n",
      "Epoch 107/200\n",
      "100/100 [==============================] - 0s 112us/sample - loss: 387.3516\n",
      "Epoch 108/200\n",
      "100/100 [==============================] - 0s 103us/sample - loss: 371.8916\n",
      "Epoch 109/200\n",
      "100/100 [==============================] - 0s 79us/sample - loss: 358.1422\n",
      "Epoch 110/200\n",
      "100/100 [==============================] - 0s 88us/sample - loss: 344.0779\n",
      "Epoch 111/200\n",
      "100/100 [==============================] - 0s 112us/sample - loss: 331.2958\n",
      "Epoch 112/200\n",
      "100/100 [==============================] - 0s 102us/sample - loss: 318.2640\n",
      "Epoch 113/200\n",
      "100/100 [==============================] - 0s 107us/sample - loss: 306.3162\n",
      "Epoch 114/200\n",
      "100/100 [==============================] - 0s 90us/sample - loss: 293.6495\n",
      "Epoch 115/200\n",
      "100/100 [==============================] - 0s 109us/sample - loss: 282.0675\n",
      "Epoch 116/200\n",
      "100/100 [==============================] - 0s 96us/sample - loss: 270.1355\n",
      "Epoch 117/200\n",
      "100/100 [==============================] - 0s 98us/sample - loss: 259.0413\n",
      "Epoch 118/200\n",
      "100/100 [==============================] - 0s 96us/sample - loss: 248.2591\n",
      "Epoch 119/200\n",
      "100/100 [==============================] - 0s 102us/sample - loss: 238.0875\n",
      "Epoch 120/200\n",
      "100/100 [==============================] - 0s 106us/sample - loss: 228.1919\n",
      "Epoch 121/200\n",
      "100/100 [==============================] - 0s 92us/sample - loss: 218.7279\n",
      "Epoch 122/200\n",
      "100/100 [==============================] - 0s 113us/sample - loss: 209.3714\n",
      "Epoch 123/200\n",
      "100/100 [==============================] - 0s 122us/sample - loss: 200.9278\n",
      "Epoch 124/200\n",
      "100/100 [==============================] - 0s 57us/sample - loss: 192.3219\n",
      "Epoch 125/200\n",
      "100/100 [==============================] - 0s 95us/sample - loss: 184.1139\n",
      "Epoch 126/200\n",
      "100/100 [==============================] - 0s 122us/sample - loss: 175.8868\n",
      "Epoch 127/200\n",
      "100/100 [==============================] - 0s 101us/sample - loss: 168.3557\n",
      "Epoch 128/200\n",
      "100/100 [==============================] - 0s 113us/sample - loss: 160.6879\n",
      "Epoch 129/200\n",
      "100/100 [==============================] - 0s 128us/sample - loss: 153.3823\n",
      "Epoch 130/200\n",
      "100/100 [==============================] - 0s 110us/sample - loss: 146.2161\n",
      "Epoch 131/200\n",
      "100/100 [==============================] - 0s 90us/sample - loss: 139.3937\n",
      "Epoch 132/200\n",
      "100/100 [==============================] - 0s 107us/sample - loss: 133.0756\n",
      "Epoch 133/200\n",
      "100/100 [==============================] - 0s 114us/sample - loss: 126.8202\n",
      "Epoch 134/200\n",
      "100/100 [==============================] - 0s 117us/sample - loss: 120.6466\n",
      "Epoch 135/200\n",
      "100/100 [==============================] - 0s 96us/sample - loss: 114.8118\n",
      "Epoch 136/200\n",
      "100/100 [==============================] - 0s 100us/sample - loss: 109.4265\n",
      "Epoch 137/200\n",
      "100/100 [==============================] - 0s 88us/sample - loss: 104.5339\n",
      "Epoch 138/200\n",
      "100/100 [==============================] - 0s 91us/sample - loss: 99.5238\n",
      "Epoch 139/200\n",
      "100/100 [==============================] - 0s 114us/sample - loss: 94.9677\n",
      "Epoch 140/200\n",
      "100/100 [==============================] - 0s 97us/sample - loss: 90.3987\n",
      "Epoch 141/200\n",
      "100/100 [==============================] - 0s 106us/sample - loss: 86.0753\n",
      "Epoch 142/200\n",
      "100/100 [==============================] - 0s 83us/sample - loss: 82.1472\n",
      "Epoch 143/200\n",
      "100/100 [==============================] - 0s 89us/sample - loss: 78.0644\n",
      "Epoch 144/200\n",
      "100/100 [==============================] - 0s 119us/sample - loss: 74.3734\n",
      "Epoch 145/200\n",
      "100/100 [==============================] - 0s 74us/sample - loss: 70.8422\n",
      "Epoch 146/200\n",
      "100/100 [==============================] - 0s 109us/sample - loss: 67.5841\n",
      "Epoch 147/200\n",
      "100/100 [==============================] - 0s 112us/sample - loss: 64.5213\n",
      "Epoch 148/200\n",
      "100/100 [==============================] - 0s 86us/sample - loss: 61.6965\n",
      "Epoch 149/200\n",
      "100/100 [==============================] - 0s 80us/sample - loss: 58.9220\n",
      "Epoch 150/200\n",
      "100/100 [==============================] - 0s 92us/sample - loss: 56.2424\n",
      "Epoch 151/200\n",
      "100/100 [==============================] - 0s 99us/sample - loss: 53.8238\n",
      "Epoch 152/200\n",
      "100/100 [==============================] - 0s 85us/sample - loss: 51.5343\n",
      "Epoch 153/200\n",
      "100/100 [==============================] - 0s 72us/sample - loss: 49.2731\n",
      "Epoch 154/200\n",
      "100/100 [==============================] - 0s 83us/sample - loss: 47.2734\n",
      "Epoch 155/200\n",
      "100/100 [==============================] - 0s 86us/sample - loss: 45.3854\n",
      "Epoch 156/200\n",
      "100/100 [==============================] - 0s 117us/sample - loss: 43.5601\n",
      "Epoch 157/200\n",
      "100/100 [==============================] - 0s 115us/sample - loss: 41.8325\n",
      "Epoch 158/200\n",
      "100/100 [==============================] - 0s 103us/sample - loss: 40.1673\n",
      "Epoch 159/200\n",
      "100/100 [==============================] - 0s 109us/sample - loss: 38.6715\n",
      "Epoch 160/200\n",
      "100/100 [==============================] - 0s 74us/sample - loss: 37.2873\n",
      "Epoch 161/200\n",
      "100/100 [==============================] - 0s 91us/sample - loss: 36.0015\n",
      "Epoch 162/200\n",
      "100/100 [==============================] - 0s 82us/sample - loss: 34.8111\n",
      "Epoch 163/200\n",
      "100/100 [==============================] - 0s 141us/sample - loss: 33.6474\n",
      "Epoch 164/200\n",
      "100/100 [==============================] - 0s 102us/sample - loss: 32.6077\n",
      "Epoch 165/200\n",
      "100/100 [==============================] - 0s 121us/sample - loss: 31.6442\n",
      "Epoch 166/200\n",
      "100/100 [==============================] - 0s 100us/sample - loss: 30.6840\n",
      "Epoch 167/200\n",
      "100/100 [==============================] - 0s 112us/sample - loss: 29.8245\n",
      "Epoch 168/200\n",
      "100/100 [==============================] - 0s 129us/sample - loss: 28.9932\n",
      "Epoch 169/200\n",
      "100/100 [==============================] - 0s 83us/sample - loss: 28.1512\n",
      "Epoch 170/200\n",
      "100/100 [==============================] - 0s 107us/sample - loss: 27.4072\n",
      "Epoch 171/200\n",
      "100/100 [==============================] - 0s 113us/sample - loss: 26.7022\n",
      "Epoch 172/200\n",
      "100/100 [==============================] - 0s 118us/sample - loss: 26.0529\n",
      "Epoch 173/200\n",
      "100/100 [==============================] - 0s 103us/sample - loss: 25.4330\n",
      "Epoch 174/200\n",
      "100/100 [==============================] - 0s 111us/sample - loss: 24.9148\n",
      "Epoch 175/200\n",
      "100/100 [==============================] - 0s 89us/sample - loss: 24.4644\n",
      "Epoch 176/200\n",
      "100/100 [==============================] - 0s 114us/sample - loss: 23.9676\n",
      "Epoch 177/200\n",
      "100/100 [==============================] - 0s 93us/sample - loss: 23.5713\n",
      "Epoch 178/200\n",
      "100/100 [==============================] - 0s 116us/sample - loss: 23.1526\n",
      "Epoch 179/200\n",
      "100/100 [==============================] - 0s 77us/sample - loss: 22.7380\n",
      "Epoch 180/200\n",
      "100/100 [==============================] - 0s 88us/sample - loss: 22.3973\n",
      "Epoch 181/200\n",
      "100/100 [==============================] - 0s 88us/sample - loss: 22.1007\n",
      "Epoch 182/200\n",
      "100/100 [==============================] - 0s 83us/sample - loss: 21.8040\n",
      "Epoch 183/200\n",
      "100/100 [==============================] - 0s 104us/sample - loss: 21.5427\n",
      "Epoch 184/200\n"
     ]
    },
    {
     "name": "stdout",
     "output_type": "stream",
     "text": [
      "100/100 [==============================] - 0s 104us/sample - loss: 21.3395\n",
      "Epoch 185/200\n",
      "100/100 [==============================] - 0s 93us/sample - loss: 21.1504\n",
      "Epoch 186/200\n",
      "100/100 [==============================] - 0s 95us/sample - loss: 20.9674\n",
      "Epoch 187/200\n",
      "100/100 [==============================] - 0s 117us/sample - loss: 20.8161\n",
      "Epoch 188/200\n",
      "100/100 [==============================] - 0s 112us/sample - loss: 20.6696\n",
      "Epoch 189/200\n",
      "100/100 [==============================] - 0s 109us/sample - loss: 20.5294\n",
      "Epoch 190/200\n",
      "100/100 [==============================] - 0s 105us/sample - loss: 20.3979\n",
      "Epoch 191/200\n",
      "100/100 [==============================] - 0s 95us/sample - loss: 20.2831\n",
      "Epoch 192/200\n",
      "100/100 [==============================] - 0s 95us/sample - loss: 20.1729\n",
      "Epoch 193/200\n",
      "100/100 [==============================] - 0s 93us/sample - loss: 20.0653\n",
      "Epoch 194/200\n",
      "100/100 [==============================] - 0s 93us/sample - loss: 19.9816\n",
      "Epoch 195/200\n",
      "100/100 [==============================] - 0s 107us/sample - loss: 19.8793\n",
      "Epoch 196/200\n",
      "100/100 [==============================] - 0s 106us/sample - loss: 19.7934\n",
      "Epoch 197/200\n",
      "100/100 [==============================] - 0s 96us/sample - loss: 19.7147\n",
      "Epoch 198/200\n",
      "100/100 [==============================] - 0s 125us/sample - loss: 19.6489\n",
      "Epoch 199/200\n",
      "100/100 [==============================] - 0s 101us/sample - loss: 19.5853\n",
      "Epoch 200/200\n",
      "100/100 [==============================] - 0s 99us/sample - loss: 19.5123\n"
     ]
    },
    {
     "data": {
      "text/plain": [
       "<tensorflow.python.keras.callbacks.History at 0x1de0e6b8e48>"
      ]
     },
     "execution_count": 56,
     "metadata": {},
     "output_type": "execute_result"
    }
   ],
   "source": [
    "model.fit(x, y, epochs=200, verbose=1)"
   ]
  },
  {
   "cell_type": "code",
   "execution_count": 57,
   "metadata": {
    "ExecuteTime": {
     "end_time": "2020-07-18T05:35:04.361797Z",
     "start_time": "2020-07-18T05:35:04.208542Z"
    }
   },
   "outputs": [
    {
     "data": {
      "text/plain": [
       "[<matplotlib.lines.Line2D at 0x1de0f885448>]"
      ]
     },
     "execution_count": 57,
     "metadata": {},
     "output_type": "execute_result"
    },
    {
     "data": {
      "image/png": "[encoded data removed]",
      "text/plain": [
       "<Figure size 864x360 with 1 Axes>"
      ]
     },
     "metadata": {
      "needs_background": "light"
     },
     "output_type": "display_data"
    }
   ],
   "source": [
    "loss = model.history.history['loss']\n",
    "epochs = range(len(loss))\n",
    "# plot\n",
    "plt.figure(figsize=(12,5))\n",
    "plt.plot(epochs, loss)"
   ]
  },
  {
   "cell_type": "markdown",
   "metadata": {},
   "source": [
    "## Predicting on new x points\n",
    "\n",
    "Our previous x was 50 linspace points between 0 and 100. Let's predict for 1000 values between 0 and 100, drawing a line for our predictions (our line of best fit)."
   ]
  },
  {
   "cell_type": "code",
   "execution_count": 58,
   "metadata": {
    "ExecuteTime": {
     "end_time": "2020-07-18T05:35:16.214537Z",
     "start_time": "2020-07-18T05:35:16.208440Z"
    }
   },
   "outputs": [],
   "source": [
    "x_for_predictions = np.linspace(0,50,1000)"
   ]
  },
  {
   "cell_type": "code",
   "execution_count": 59,
   "metadata": {
    "ExecuteTime": {
     "end_time": "2020-07-18T05:35:16.570263Z",
     "start_time": "2020-07-18T05:35:16.444966Z"
    }
   },
   "outputs": [],
   "source": [
    "y_predicted = model.predict(x_for_predictions)"
   ]
  },
  {
   "cell_type": "code",
   "execution_count": 60,
   "metadata": {
    "ExecuteTime": {
     "end_time": "2020-07-18T05:35:17.291654Z",
     "start_time": "2020-07-18T05:35:17.118581Z"
    }
   },
   "outputs": [
    {
     "data": {
      "text/plain": [
       "[<matplotlib.lines.Line2D at 0x1de0f9010c8>]"
      ]
     },
     "execution_count": 60,
     "metadata": {},
     "output_type": "execute_result"
    },
    {
     "data": {
      "image/png": "[encoded data removed]",
      "text/plain": [
       "<Figure size 864x360 with 1 Axes>"
      ]
     },
     "metadata": {
      "needs_background": "light"
     },
     "output_type": "display_data"
    }
   ],
   "source": [
    "# Original X and Y\n",
    "plt.figure(figsize=(12,5))\n",
    "plt.plot(x,y,'*')\n",
    "# Our Model's prediction Line\n",
    "plt.plot(x_for_predictions,y_predicted,'r')"
   ]
  },
  {
   "cell_type": "markdown",
   "metadata": {},
   "source": [
    "# Evaluating Our Error"
   ]
  },
  {
   "cell_type": "code",
   "execution_count": 61,
   "metadata": {
    "ExecuteTime": {
     "end_time": "2020-07-18T05:35:19.002119Z",
     "start_time": "2020-07-18T05:35:18.993732Z"
    }
   },
   "outputs": [],
   "source": [
    "from sklearn.metrics import mean_squared_error,mean_absolute_error"
   ]
  },
  {
   "cell_type": "code",
   "execution_count": 62,
   "metadata": {
    "ExecuteTime": {
     "end_time": "2020-07-18T05:35:19.544757Z",
     "start_time": "2020-07-18T05:35:19.480910Z"
    }
   },
   "outputs": [],
   "source": [
    "# Labels we do know\n",
    "prediction_for_true_y = model.predict(x)"
   ]
  },
  {
   "cell_type": "code",
   "execution_count": 63,
   "metadata": {
    "ExecuteTime": {
     "end_time": "2020-07-18T05:35:19.684856Z",
     "start_time": "2020-07-18T05:35:19.673574Z"
    }
   },
   "outputs": [
    {
     "data": {
      "text/plain": [
       "19.471843449856625"
      ]
     },
     "execution_count": 63,
     "metadata": {},
     "output_type": "execute_result"
    }
   ],
   "source": [
    "mean_squared_error(y,prediction_for_true_y)"
   ]
  },
  {
   "cell_type": "code",
   "execution_count": 64,
   "metadata": {
    "ExecuteTime": {
     "end_time": "2020-07-18T05:35:19.872144Z",
     "start_time": "2020-07-18T05:35:19.860851Z"
    }
   },
   "outputs": [
    {
     "data": {
      "text/plain": [
       "3.611589175674679"
      ]
     },
     "execution_count": 64,
     "metadata": {},
     "output_type": "execute_result"
    }
   ],
   "source": [
    "mean_absolute_error(y,prediction_for_true_y)"
   ]
  },
  {
   "cell_type": "markdown",
   "metadata": {},
   "source": [
    " Notice how MSE value was being reported out by Keras during training!\n",
    " \n",
    " Is this a good error value? Really depends on the context, refer back to our model evaluation lecture for full details!"
   ]
  },
  {
   "cell_type": "markdown",
   "metadata": {},
   "source": [
    "-----"
   ]
  }
 ],
 "metadata": {
  "kernelspec": {
   "display_name": "Python [conda env:pyTF2]",
   "language": "python",
   "name": "conda-env-pyTF2-py"
  },
  "language_info": {
   "codemirror_mode": {
    "name": "ipython",
    "version": 3
   },
   "file_extension": ".py",
   "mimetype": "text/x-python",
   "name": "python",
   "nbconvert_exporter": "python",
   "pygments_lexer": "ipython3",
   "version": "3.7.6"
  },
  "toc": {
   "base_numbering": 1,
   "nav_menu": {},
   "number_sections": true,
   "sideBar": true,
   "skip_h1_title": false,
   "title_cell": "Table of Contents",
   "title_sidebar": "Contents",
   "toc_cell": false,
   "toc_position": {},
   "toc_section_display": true,
   "toc_window_display": true
  },
  "varInspector": {
   "cols": {
    "lenName": 16,
    "lenType": 16,
    "lenVar": 40
   },
   "kernels_config": {
    "python": {
     "delete_cmd_postfix": "",
     "delete_cmd_prefix": "del ",
     "library": "var_list.py",
     "varRefreshCmd": "print(var_dic_list())"
    },
    "r": {
     "delete_cmd_postfix": ") ",
     "delete_cmd_prefix": "rm(",
     "library": "var_list.r",
     "varRefreshCmd": "cat(var_dic_list()) "
    }
   },
   "types_to_exclude": [
    "module",
    "function",
    "builtin_function_or_method",
    "instance",
    "_Feature"
   ],
   "window_display": false
  }
 },
 "nbformat": 4,
 "nbformat_minor": 2
}
