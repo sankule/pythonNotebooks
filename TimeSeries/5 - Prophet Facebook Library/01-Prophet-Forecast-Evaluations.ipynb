{
 "cells": [
  {
   "cell_type": "markdown",
   "metadata": {},
   "source": [
    "# Forecast Evaluations"
   ]
  },
  {
   "cell_type": "markdown",
   "metadata": {},
   "source": [
    "### Classic Train/Test Split"
   ]
  },
  {
   "cell_type": "code",
   "execution_count": 1,
   "metadata": {
    "ExecuteTime": {
     "end_time": "2020-07-18T15:05:03.765511Z",
     "start_time": "2020-07-18T15:05:02.348353Z"
    }
   },
   "outputs": [
    {
     "name": "stderr",
     "output_type": "stream",
     "text": [
      "Importing plotly failed. Interactive plots will not work.\n"
     ]
    }
   ],
   "source": [
    "import pandas as pd\n",
    "from fbprophet import Prophet\n",
    "%matplotlib inline\n",
    "pd.plotting.register_matplotlib_converters()"
   ]
  },
  {
   "cell_type": "code",
   "execution_count": 2,
   "metadata": {
    "ExecuteTime": {
     "end_time": "2020-07-18T15:00:03.929594Z",
     "start_time": "2020-07-18T15:00:03.895892Z"
    }
   },
   "outputs": [],
   "source": [
    "df = pd.read_csv('../Data/Miles_Traveled.csv')"
   ]
  },
  {
   "cell_type": "code",
   "execution_count": 3,
   "metadata": {
    "ExecuteTime": {
     "end_time": "2020-07-18T15:00:04.348388Z",
     "start_time": "2020-07-18T15:00:04.334233Z"
    }
   },
   "outputs": [
    {
     "name": "stdout",
     "output_type": "stream",
     "text": [
      "<class 'pandas.core.frame.DataFrame'>\n",
      "RangeIndex: 588 entries, 0 to 587\n",
      "Data columns (total 2 columns):\n",
      "DATE                588 non-null object\n",
      "TRFVOLUSM227NFWA    588 non-null float64\n",
      "dtypes: float64(1), object(1)\n",
      "memory usage: 9.3+ KB\n"
     ]
    }
   ],
   "source": [
    "df.info()"
   ]
  },
  {
   "cell_type": "code",
   "execution_count": 4,
   "metadata": {
    "ExecuteTime": {
     "end_time": "2020-07-18T15:00:04.742244Z",
     "start_time": "2020-07-18T15:00:04.726622Z"
    }
   },
   "outputs": [
    {
     "data": {
      "text/html": [
       "<div>\n",
       "<style scoped>\n",
       "    .dataframe tbody tr th:only-of-type {\n",
       "        vertical-align: middle;\n",
       "    }\n",
       "\n",
       "    .dataframe tbody tr th {\n",
       "        vertical-align: top;\n",
       "    }\n",
       "\n",
       "    .dataframe thead th {\n",
       "        text-align: right;\n",
       "    }\n",
       "</style>\n",
       "<table border=\"1\" class=\"dataframe\">\n",
       "  <thead>\n",
       "    <tr style=\"text-align: right;\">\n",
       "      <th></th>\n",
       "      <th>DATE</th>\n",
       "      <th>TRFVOLUSM227NFWA</th>\n",
       "    </tr>\n",
       "  </thead>\n",
       "  <tbody>\n",
       "    <tr>\n",
       "      <td>0</td>\n",
       "      <td>1970-01-01</td>\n",
       "      <td>80173.0</td>\n",
       "    </tr>\n",
       "    <tr>\n",
       "      <td>1</td>\n",
       "      <td>1970-02-01</td>\n",
       "      <td>77442.0</td>\n",
       "    </tr>\n",
       "    <tr>\n",
       "      <td>2</td>\n",
       "      <td>1970-03-01</td>\n",
       "      <td>90223.0</td>\n",
       "    </tr>\n",
       "    <tr>\n",
       "      <td>3</td>\n",
       "      <td>1970-04-01</td>\n",
       "      <td>89956.0</td>\n",
       "    </tr>\n",
       "    <tr>\n",
       "      <td>4</td>\n",
       "      <td>1970-05-01</td>\n",
       "      <td>97972.0</td>\n",
       "    </tr>\n",
       "  </tbody>\n",
       "</table>\n",
       "</div>"
      ],
      "text/plain": [
       "         DATE  TRFVOLUSM227NFWA\n",
       "0  1970-01-01           80173.0\n",
       "1  1970-02-01           77442.0\n",
       "2  1970-03-01           90223.0\n",
       "3  1970-04-01           89956.0\n",
       "4  1970-05-01           97972.0"
      ]
     },
     "execution_count": 4,
     "metadata": {},
     "output_type": "execute_result"
    }
   ],
   "source": [
    "df.head()"
   ]
  },
  {
   "cell_type": "code",
   "execution_count": 5,
   "metadata": {
    "ExecuteTime": {
     "end_time": "2020-07-18T15:00:05.089257Z",
     "start_time": "2020-07-18T15:00:05.080065Z"
    }
   },
   "outputs": [],
   "source": [
    "df.columns = ['ds','y']"
   ]
  },
  {
   "cell_type": "code",
   "execution_count": 6,
   "metadata": {
    "ExecuteTime": {
     "end_time": "2020-07-18T15:00:05.457457Z",
     "start_time": "2020-07-18T15:00:05.443376Z"
    }
   },
   "outputs": [],
   "source": [
    "# YOU CAN SAFELY IGNORE THIS COPY WARNING\n",
    "# CHECK THE DOCS LINK FOR MORE INFO ON THIS COPY WARNING\n",
    "df['ds'] = pd.to_datetime(df['ds'])"
   ]
  },
  {
   "cell_type": "code",
   "execution_count": 7,
   "metadata": {
    "ExecuteTime": {
     "end_time": "2020-07-18T15:00:05.706486Z",
     "start_time": "2020-07-18T15:00:05.694573Z"
    }
   },
   "outputs": [
    {
     "data": {
      "text/html": [
       "<div>\n",
       "<style scoped>\n",
       "    .dataframe tbody tr th:only-of-type {\n",
       "        vertical-align: middle;\n",
       "    }\n",
       "\n",
       "    .dataframe tbody tr th {\n",
       "        vertical-align: top;\n",
       "    }\n",
       "\n",
       "    .dataframe thead th {\n",
       "        text-align: right;\n",
       "    }\n",
       "</style>\n",
       "<table border=\"1\" class=\"dataframe\">\n",
       "  <thead>\n",
       "    <tr style=\"text-align: right;\">\n",
       "      <th></th>\n",
       "      <th>ds</th>\n",
       "      <th>y</th>\n",
       "    </tr>\n",
       "  </thead>\n",
       "  <tbody>\n",
       "    <tr>\n",
       "      <td>0</td>\n",
       "      <td>1970-01-01</td>\n",
       "      <td>80173.0</td>\n",
       "    </tr>\n",
       "    <tr>\n",
       "      <td>1</td>\n",
       "      <td>1970-02-01</td>\n",
       "      <td>77442.0</td>\n",
       "    </tr>\n",
       "    <tr>\n",
       "      <td>2</td>\n",
       "      <td>1970-03-01</td>\n",
       "      <td>90223.0</td>\n",
       "    </tr>\n",
       "    <tr>\n",
       "      <td>3</td>\n",
       "      <td>1970-04-01</td>\n",
       "      <td>89956.0</td>\n",
       "    </tr>\n",
       "    <tr>\n",
       "      <td>4</td>\n",
       "      <td>1970-05-01</td>\n",
       "      <td>97972.0</td>\n",
       "    </tr>\n",
       "  </tbody>\n",
       "</table>\n",
       "</div>"
      ],
      "text/plain": [
       "          ds        y\n",
       "0 1970-01-01  80173.0\n",
       "1 1970-02-01  77442.0\n",
       "2 1970-03-01  90223.0\n",
       "3 1970-04-01  89956.0\n",
       "4 1970-05-01  97972.0"
      ]
     },
     "execution_count": 7,
     "metadata": {},
     "output_type": "execute_result"
    }
   ],
   "source": [
    "df.head()"
   ]
  },
  {
   "cell_type": "code",
   "execution_count": 18,
   "metadata": {
    "ExecuteTime": {
     "end_time": "2020-07-18T15:01:56.536771Z",
     "start_time": "2020-07-18T15:01:56.531437Z"
    }
   },
   "outputs": [],
   "source": [
    "pd.plotting.register_matplotlib_converters()"
   ]
  },
  {
   "cell_type": "code",
   "execution_count": 19,
   "metadata": {
    "ExecuteTime": {
     "end_time": "2020-07-18T15:01:57.810175Z",
     "start_time": "2020-07-18T15:01:57.439525Z"
    }
   },
   "outputs": [
    {
     "data": {
      "text/plain": [
       "<matplotlib.axes._subplots.AxesSubplot at 0x28773d3aec8>"
      ]
     },
     "execution_count": 19,
     "metadata": {},
     "output_type": "execute_result"
    },
    {
     "data": {
      "image/png": "[encoded data removed]",
      "text/plain": [
       "<Figure size 1296x432 with 1 Axes>"
      ]
     },
     "metadata": {
      "needs_background": "light"
     },
     "output_type": "display_data"
    }
   ],
   "source": [
    "df.plot(x='ds',y='y',figsize=(18,6))"
   ]
  },
  {
   "cell_type": "code",
   "execution_count": 20,
   "metadata": {
    "ExecuteTime": {
     "end_time": "2020-07-18T15:03:04.265350Z",
     "start_time": "2020-07-18T15:03:04.252505Z"
    }
   },
   "outputs": [
    {
     "data": {
      "text/plain": [
       "588"
      ]
     },
     "execution_count": 20,
     "metadata": {},
     "output_type": "execute_result"
    }
   ],
   "source": [
    "len(df)"
   ]
  },
  {
   "cell_type": "code",
   "execution_count": 21,
   "metadata": {
    "ExecuteTime": {
     "end_time": "2020-07-18T15:03:04.603719Z",
     "start_time": "2020-07-18T15:03:04.594421Z"
    }
   },
   "outputs": [
    {
     "data": {
      "text/plain": [
       "576"
      ]
     },
     "execution_count": 21,
     "metadata": {},
     "output_type": "execute_result"
    }
   ],
   "source": [
    "len(df) - 12"
   ]
  },
  {
   "cell_type": "code",
   "execution_count": 22,
   "metadata": {
    "ExecuteTime": {
     "end_time": "2020-07-18T15:03:04.923192Z",
     "start_time": "2020-07-18T15:03:04.918358Z"
    }
   },
   "outputs": [],
   "source": [
    "train = df.iloc[:576]\n",
    "test = df.iloc[576:]"
   ]
  },
  {
   "cell_type": "code",
   "execution_count": 23,
   "metadata": {
    "ExecuteTime": {
     "end_time": "2020-07-18T15:03:10.860851Z",
     "start_time": "2020-07-18T15:03:05.252876Z"
    }
   },
   "outputs": [
    {
     "name": "stderr",
     "output_type": "stream",
     "text": [
      "INFO:numexpr.utils:NumExpr defaulting to 4 threads.\n",
      "INFO:fbprophet:Disabling weekly seasonality. Run prophet with weekly_seasonality=True to override this.\n",
      "INFO:fbprophet:Disabling daily seasonality. Run prophet with daily_seasonality=True to override this.\n"
     ]
    }
   ],
   "source": [
    "m = Prophet()\n",
    "m.fit(train)\n",
    "future = m.make_future_dataframe(periods=12,freq='MS')\n",
    "forecast = m.predict(future)"
   ]
  },
  {
   "cell_type": "code",
   "execution_count": 24,
   "metadata": {
    "ExecuteTime": {
     "end_time": "2020-07-18T15:03:10.998678Z",
     "start_time": "2020-07-18T15:03:10.962456Z"
    }
   },
   "outputs": [
    {
     "data": {
      "text/html": [
       "<div>\n",
       "<style scoped>\n",
       "    .dataframe tbody tr th:only-of-type {\n",
       "        vertical-align: middle;\n",
       "    }\n",
       "\n",
       "    .dataframe tbody tr th {\n",
       "        vertical-align: top;\n",
       "    }\n",
       "\n",
       "    .dataframe thead th {\n",
       "        text-align: right;\n",
       "    }\n",
       "</style>\n",
       "<table border=\"1\" class=\"dataframe\">\n",
       "  <thead>\n",
       "    <tr style=\"text-align: right;\">\n",
       "      <th></th>\n",
       "      <th>ds</th>\n",
       "      <th>trend</th>\n",
       "      <th>yhat_lower</th>\n",
       "      <th>yhat_upper</th>\n",
       "      <th>trend_lower</th>\n",
       "      <th>trend_upper</th>\n",
       "      <th>additive_terms</th>\n",
       "      <th>additive_terms_lower</th>\n",
       "      <th>additive_terms_upper</th>\n",
       "      <th>yearly</th>\n",
       "      <th>yearly_lower</th>\n",
       "      <th>yearly_upper</th>\n",
       "      <th>multiplicative_terms</th>\n",
       "      <th>multiplicative_terms_lower</th>\n",
       "      <th>multiplicative_terms_upper</th>\n",
       "      <th>yhat</th>\n",
       "    </tr>\n",
       "  </thead>\n",
       "  <tbody>\n",
       "    <tr>\n",
       "      <td>583</td>\n",
       "      <td>2018-08-01</td>\n",
       "      <td>263219.378669</td>\n",
       "      <td>274003.241022</td>\n",
       "      <td>285378.963287</td>\n",
       "      <td>263152.748647</td>\n",
       "      <td>263254.353318</td>\n",
       "      <td>16451.125033</td>\n",
       "      <td>16451.125033</td>\n",
       "      <td>16451.125033</td>\n",
       "      <td>16451.125033</td>\n",
       "      <td>16451.125033</td>\n",
       "      <td>16451.125033</td>\n",
       "      <td>0.0</td>\n",
       "      <td>0.0</td>\n",
       "      <td>0.0</td>\n",
       "      <td>279670.503702</td>\n",
       "    </tr>\n",
       "    <tr>\n",
       "      <td>584</td>\n",
       "      <td>2018-09-01</td>\n",
       "      <td>263357.665883</td>\n",
       "      <td>255885.764305</td>\n",
       "      <td>267683.609120</td>\n",
       "      <td>263261.038654</td>\n",
       "      <td>263425.057241</td>\n",
       "      <td>-1666.545411</td>\n",
       "      <td>-1666.545411</td>\n",
       "      <td>-1666.545411</td>\n",
       "      <td>-1666.545411</td>\n",
       "      <td>-1666.545411</td>\n",
       "      <td>-1666.545411</td>\n",
       "      <td>0.0</td>\n",
       "      <td>0.0</td>\n",
       "      <td>0.0</td>\n",
       "      <td>261691.120472</td>\n",
       "    </tr>\n",
       "    <tr>\n",
       "      <td>585</td>\n",
       "      <td>2018-10-01</td>\n",
       "      <td>263491.492218</td>\n",
       "      <td>263356.621922</td>\n",
       "      <td>274597.613487</td>\n",
       "      <td>263360.104313</td>\n",
       "      <td>263578.738596</td>\n",
       "      <td>5310.587893</td>\n",
       "      <td>5310.587893</td>\n",
       "      <td>5310.587893</td>\n",
       "      <td>5310.587893</td>\n",
       "      <td>5310.587893</td>\n",
       "      <td>5310.587893</td>\n",
       "      <td>0.0</td>\n",
       "      <td>0.0</td>\n",
       "      <td>0.0</td>\n",
       "      <td>268802.080112</td>\n",
       "    </tr>\n",
       "    <tr>\n",
       "      <td>586</td>\n",
       "      <td>2018-11-01</td>\n",
       "      <td>263629.779432</td>\n",
       "      <td>249616.121475</td>\n",
       "      <td>260828.571669</td>\n",
       "      <td>263458.547723</td>\n",
       "      <td>263743.899666</td>\n",
       "      <td>-8203.436940</td>\n",
       "      <td>-8203.436940</td>\n",
       "      <td>-8203.436940</td>\n",
       "      <td>-8203.436940</td>\n",
       "      <td>-8203.436940</td>\n",
       "      <td>-8203.436940</td>\n",
       "      <td>0.0</td>\n",
       "      <td>0.0</td>\n",
       "      <td>0.0</td>\n",
       "      <td>255426.342492</td>\n",
       "    </tr>\n",
       "    <tr>\n",
       "      <td>587</td>\n",
       "      <td>2018-12-01</td>\n",
       "      <td>263763.605767</td>\n",
       "      <td>251204.311849</td>\n",
       "      <td>262961.414615</td>\n",
       "      <td>263554.374118</td>\n",
       "      <td>263922.269934</td>\n",
       "      <td>-6916.514689</td>\n",
       "      <td>-6916.514689</td>\n",
       "      <td>-6916.514689</td>\n",
       "      <td>-6916.514689</td>\n",
       "      <td>-6916.514689</td>\n",
       "      <td>-6916.514689</td>\n",
       "      <td>0.0</td>\n",
       "      <td>0.0</td>\n",
       "      <td>0.0</td>\n",
       "      <td>256847.091078</td>\n",
       "    </tr>\n",
       "  </tbody>\n",
       "</table>\n",
       "</div>"
      ],
      "text/plain": [
       "            ds          trend     yhat_lower     yhat_upper    trend_lower  \\\n",
       "583 2018-08-01  263219.378669  274003.241022  285378.963287  263152.748647   \n",
       "584 2018-09-01  263357.665883  255885.764305  267683.609120  263261.038654   \n",
       "585 2018-10-01  263491.492218  263356.621922  274597.613487  263360.104313   \n",
       "586 2018-11-01  263629.779432  249616.121475  260828.571669  263458.547723   \n",
       "587 2018-12-01  263763.605767  251204.311849  262961.414615  263554.374118   \n",
       "\n",
       "       trend_upper  additive_terms  additive_terms_lower  \\\n",
       "583  263254.353318    16451.125033          16451.125033   \n",
       "584  263425.057241    -1666.545411          -1666.545411   \n",
       "585  263578.738596     5310.587893           5310.587893   \n",
       "586  263743.899666    -8203.436940          -8203.436940   \n",
       "587  263922.269934    -6916.514689          -6916.514689   \n",
       "\n",
       "     additive_terms_upper        yearly  yearly_lower  yearly_upper  \\\n",
       "583          16451.125033  16451.125033  16451.125033  16451.125033   \n",
       "584          -1666.545411  -1666.545411  -1666.545411  -1666.545411   \n",
       "585           5310.587893   5310.587893   5310.587893   5310.587893   \n",
       "586          -8203.436940  -8203.436940  -8203.436940  -8203.436940   \n",
       "587          -6916.514689  -6916.514689  -6916.514689  -6916.514689   \n",
       "\n",
       "     multiplicative_terms  multiplicative_terms_lower  \\\n",
       "583                   0.0                         0.0   \n",
       "584                   0.0                         0.0   \n",
       "585                   0.0                         0.0   \n",
       "586                   0.0                         0.0   \n",
       "587                   0.0                         0.0   \n",
       "\n",
       "     multiplicative_terms_upper           yhat  \n",
       "583                         0.0  279670.503702  \n",
       "584                         0.0  261691.120472  \n",
       "585                         0.0  268802.080112  \n",
       "586                         0.0  255426.342492  \n",
       "587                         0.0  256847.091078  "
      ]
     },
     "execution_count": 24,
     "metadata": {},
     "output_type": "execute_result"
    }
   ],
   "source": [
    "forecast.tail()"
   ]
  },
  {
   "cell_type": "code",
   "execution_count": 25,
   "metadata": {
    "ExecuteTime": {
     "end_time": "2020-07-18T15:03:11.130636Z",
     "start_time": "2020-07-18T15:03:11.110597Z"
    }
   },
   "outputs": [
    {
     "data": {
      "text/html": [
       "<div>\n",
       "<style scoped>\n",
       "    .dataframe tbody tr th:only-of-type {\n",
       "        vertical-align: middle;\n",
       "    }\n",
       "\n",
       "    .dataframe tbody tr th {\n",
       "        vertical-align: top;\n",
       "    }\n",
       "\n",
       "    .dataframe thead th {\n",
       "        text-align: right;\n",
       "    }\n",
       "</style>\n",
       "<table border=\"1\" class=\"dataframe\">\n",
       "  <thead>\n",
       "    <tr style=\"text-align: right;\">\n",
       "      <th></th>\n",
       "      <th>ds</th>\n",
       "      <th>y</th>\n",
       "    </tr>\n",
       "  </thead>\n",
       "  <tbody>\n",
       "    <tr>\n",
       "      <td>583</td>\n",
       "      <td>2018-08-01</td>\n",
       "      <td>286608.0</td>\n",
       "    </tr>\n",
       "    <tr>\n",
       "      <td>584</td>\n",
       "      <td>2018-09-01</td>\n",
       "      <td>260595.0</td>\n",
       "    </tr>\n",
       "    <tr>\n",
       "      <td>585</td>\n",
       "      <td>2018-10-01</td>\n",
       "      <td>282174.0</td>\n",
       "    </tr>\n",
       "    <tr>\n",
       "      <td>586</td>\n",
       "      <td>2018-11-01</td>\n",
       "      <td>258590.0</td>\n",
       "    </tr>\n",
       "    <tr>\n",
       "      <td>587</td>\n",
       "      <td>2018-12-01</td>\n",
       "      <td>268413.0</td>\n",
       "    </tr>\n",
       "  </tbody>\n",
       "</table>\n",
       "</div>"
      ],
      "text/plain": [
       "            ds         y\n",
       "583 2018-08-01  286608.0\n",
       "584 2018-09-01  260595.0\n",
       "585 2018-10-01  282174.0\n",
       "586 2018-11-01  258590.0\n",
       "587 2018-12-01  268413.0"
      ]
     },
     "execution_count": 25,
     "metadata": {},
     "output_type": "execute_result"
    }
   ],
   "source": [
    "test.tail()"
   ]
  },
  {
   "cell_type": "markdown",
   "metadata": {},
   "source": [
    "[Info on ax= parameter](https://stackoverflow.com/questions/13872533/plot-different-dataframes-in-the-same-figure)"
   ]
  },
  {
   "cell_type": "code",
   "execution_count": 26,
   "metadata": {
    "ExecuteTime": {
     "end_time": "2020-07-18T15:03:11.523653Z",
     "start_time": "2020-07-18T15:03:11.241136Z"
    }
   },
   "outputs": [
    {
     "data": {
      "text/plain": [
       "<matplotlib.axes._subplots.AxesSubplot at 0x2877c260508>"
      ]
     },
     "execution_count": 26,
     "metadata": {},
     "output_type": "execute_result"
    },
    {
     "data": {
      "image/png": "[encoded data removed]",
      "text/plain": [
       "<Figure size 864x576 with 1 Axes>"
      ]
     },
     "metadata": {
      "needs_background": "light"
     },
     "output_type": "display_data"
    }
   ],
   "source": [
    "ax = forecast.plot(x='ds',y='yhat',label='Predictions',legend=True,figsize=(12,8))\n",
    "\n",
    "test.plot(x='ds',y='y',label='True Miles',legend=True,ax=ax,xlim=('2018-01-01','2019-01-01'))"
   ]
  },
  {
   "cell_type": "code",
   "execution_count": 27,
   "metadata": {
    "ExecuteTime": {
     "end_time": "2020-07-18T15:03:15.958377Z",
     "start_time": "2020-07-18T15:03:15.730551Z"
    }
   },
   "outputs": [],
   "source": [
    "from statsmodels.tools.eval_measures import rmse"
   ]
  },
  {
   "cell_type": "code",
   "execution_count": 28,
   "metadata": {
    "ExecuteTime": {
     "end_time": "2020-07-18T15:03:16.071473Z",
     "start_time": "2020-07-18T15:03:16.066802Z"
    }
   },
   "outputs": [],
   "source": [
    "predictions = forecast.iloc[-12:]['yhat']"
   ]
  },
  {
   "cell_type": "code",
   "execution_count": 29,
   "metadata": {
    "ExecuteTime": {
     "end_time": "2020-07-18T15:03:16.438135Z",
     "start_time": "2020-07-18T15:03:16.431344Z"
    }
   },
   "outputs": [
    {
     "data": {
      "text/plain": [
       "576    243683.663737\n",
       "577    235311.776917\n",
       "578    262511.200772\n",
       "579    262708.863987\n",
       "580    272429.495856\n",
       "581    272679.913346\n",
       "582    279136.474721\n",
       "583    279670.503702\n",
       "584    261691.120472\n",
       "585    268802.080112\n",
       "586    255426.342492\n",
       "587    256847.091078\n",
       "Name: yhat, dtype: float64"
      ]
     },
     "execution_count": 29,
     "metadata": {},
     "output_type": "execute_result"
    }
   ],
   "source": [
    "predictions"
   ]
  },
  {
   "cell_type": "code",
   "execution_count": 30,
   "metadata": {
    "ExecuteTime": {
     "end_time": "2020-07-18T15:03:16.829233Z",
     "start_time": "2020-07-18T15:03:16.821090Z"
    }
   },
   "outputs": [
    {
     "data": {
      "text/plain": [
       "576    245695.0\n",
       "577    226660.0\n",
       "578    268480.0\n",
       "579    272475.0\n",
       "580    286164.0\n",
       "581    280877.0\n",
       "582    288145.0\n",
       "583    286608.0\n",
       "584    260595.0\n",
       "585    282174.0\n",
       "586    258590.0\n",
       "587    268413.0\n",
       "Name: y, dtype: float64"
      ]
     },
     "execution_count": 30,
     "metadata": {},
     "output_type": "execute_result"
    }
   ],
   "source": [
    "test['y']"
   ]
  },
  {
   "cell_type": "code",
   "execution_count": 31,
   "metadata": {
    "ExecuteTime": {
     "end_time": "2020-07-18T15:03:17.245783Z",
     "start_time": "2020-07-18T15:03:17.235865Z"
    }
   },
   "outputs": [
    {
     "data": {
      "text/plain": [
       "8750.250520830608"
      ]
     },
     "execution_count": 31,
     "metadata": {},
     "output_type": "execute_result"
    }
   ],
   "source": [
    "rmse(predictions,test['y'])"
   ]
  },
  {
   "cell_type": "code",
   "execution_count": 32,
   "metadata": {
    "ExecuteTime": {
     "end_time": "2020-07-18T15:03:17.770006Z",
     "start_time": "2020-07-18T15:03:17.722177Z"
    }
   },
   "outputs": [
    {
     "data": {
      "text/plain": [
       "y    268739.666667\n",
       "dtype: float64"
      ]
     },
     "execution_count": 32,
     "metadata": {},
     "output_type": "execute_result"
    }
   ],
   "source": [
    "test.mean()"
   ]
  },
  {
   "cell_type": "markdown",
   "metadata": {},
   "source": [
    "# Prophet Diagnostics\n",
    "\n",
    "Prophet includes functionality for time series cross validation to measure forecast error using historical data. This is done by selecting cutoff points in the history, and for each of them fitting the model using data only up to that cutoff point. We can then compare the forecasted values to the actual values."
   ]
  },
  {
   "cell_type": "code",
   "execution_count": 33,
   "metadata": {
    "ExecuteTime": {
     "end_time": "2020-07-18T15:03:19.024037Z",
     "start_time": "2020-07-18T15:03:19.017113Z"
    }
   },
   "outputs": [],
   "source": [
    "from fbprophet.diagnostics import cross_validation,performance_metrics\n",
    "from fbprophet.plot import plot_cross_validation_metric"
   ]
  },
  {
   "cell_type": "code",
   "execution_count": 34,
   "metadata": {
    "ExecuteTime": {
     "end_time": "2020-07-18T15:03:22.124806Z",
     "start_time": "2020-07-18T15:03:22.115922Z"
    }
   },
   "outputs": [
    {
     "data": {
      "text/plain": [
       "588"
      ]
     },
     "execution_count": 34,
     "metadata": {},
     "output_type": "execute_result"
    }
   ],
   "source": [
    "len(df)"
   ]
  },
  {
   "cell_type": "code",
   "execution_count": 35,
   "metadata": {
    "ExecuteTime": {
     "end_time": "2020-07-18T15:03:22.424664Z",
     "start_time": "2020-07-18T15:03:22.414200Z"
    }
   },
   "outputs": [
    {
     "data": {
      "text/plain": [
       "49.0"
      ]
     },
     "execution_count": 35,
     "metadata": {},
     "output_type": "execute_result"
    }
   ],
   "source": [
    "len(df)/12"
   ]
  },
  {
   "cell_type": "markdown",
   "metadata": {},
   "source": [
    "The initial period should be long enough to capture all of the components of the model, in particular seasonalities and extra regressors: at least a year for yearly seasonality, at least a week for weekly seasonality, etc."
   ]
  },
  {
   "cell_type": "code",
   "execution_count": 36,
   "metadata": {
    "ExecuteTime": {
     "end_time": "2020-07-18T15:03:23.399836Z",
     "start_time": "2020-07-18T15:03:23.392068Z"
    }
   },
   "outputs": [],
   "source": [
    "# help(pd.Timedelta)"
   ]
  },
  {
   "cell_type": "code",
   "execution_count": 37,
   "metadata": {
    "ExecuteTime": {
     "end_time": "2020-07-18T15:03:23.598192Z",
     "start_time": "2020-07-18T15:03:23.591237Z"
    }
   },
   "outputs": [],
   "source": [
    "# Initial 5 years training period\n",
    "initial = 5 * 365\n",
    "initial = str(initial) + ' days'\n",
    "# Fold every 5 years\n",
    "period = 5 * 365\n",
    "period = str(period) + ' days'\n",
    "# Forecast 1 year into the future\n",
    "horizon = 365\n",
    "horizon = str(horizon) + ' days'"
   ]
  },
  {
   "cell_type": "code",
   "execution_count": 38,
   "metadata": {
    "ExecuteTime": {
     "end_time": "2020-07-18T15:03:51.927181Z",
     "start_time": "2020-07-18T15:03:24.123710Z"
    }
   },
   "outputs": [
    {
     "name": "stderr",
     "output_type": "stream",
     "text": [
      "INFO:fbprophet:Making 9 forecasts with cutoffs between 1976-12-11 00:00:00 and 2016-12-01 00:00:00\n"
     ]
    }
   ],
   "source": [
    "df_cv = cross_validation(m, initial=initial, period=period, horizon = horizon)"
   ]
  },
  {
   "cell_type": "code",
   "execution_count": 39,
   "metadata": {
    "ExecuteTime": {
     "end_time": "2020-07-18T15:03:52.052913Z",
     "start_time": "2020-07-18T15:03:52.034858Z"
    }
   },
   "outputs": [
    {
     "data": {
      "text/html": [
       "<div>\n",
       "<style scoped>\n",
       "    .dataframe tbody tr th:only-of-type {\n",
       "        vertical-align: middle;\n",
       "    }\n",
       "\n",
       "    .dataframe tbody tr th {\n",
       "        vertical-align: top;\n",
       "    }\n",
       "\n",
       "    .dataframe thead th {\n",
       "        text-align: right;\n",
       "    }\n",
       "</style>\n",
       "<table border=\"1\" class=\"dataframe\">\n",
       "  <thead>\n",
       "    <tr style=\"text-align: right;\">\n",
       "      <th></th>\n",
       "      <th>ds</th>\n",
       "      <th>yhat</th>\n",
       "      <th>yhat_lower</th>\n",
       "      <th>yhat_upper</th>\n",
       "      <th>y</th>\n",
       "      <th>cutoff</th>\n",
       "    </tr>\n",
       "  </thead>\n",
       "  <tbody>\n",
       "    <tr>\n",
       "      <td>0</td>\n",
       "      <td>1977-01-01</td>\n",
       "      <td>108479.087389</td>\n",
       "      <td>107035.829565</td>\n",
       "      <td>109835.581511</td>\n",
       "      <td>102445.0</td>\n",
       "      <td>1976-12-11</td>\n",
       "    </tr>\n",
       "    <tr>\n",
       "      <td>1</td>\n",
       "      <td>1977-02-01</td>\n",
       "      <td>102996.111525</td>\n",
       "      <td>101365.588824</td>\n",
       "      <td>104430.582132</td>\n",
       "      <td>102416.0</td>\n",
       "      <td>1976-12-11</td>\n",
       "    </tr>\n",
       "    <tr>\n",
       "      <td>2</td>\n",
       "      <td>1977-03-01</td>\n",
       "      <td>118973.318113</td>\n",
       "      <td>117526.417020</td>\n",
       "      <td>120407.922317</td>\n",
       "      <td>119960.0</td>\n",
       "      <td>1976-12-11</td>\n",
       "    </tr>\n",
       "    <tr>\n",
       "      <td>3</td>\n",
       "      <td>1977-04-01</td>\n",
       "      <td>120612.923709</td>\n",
       "      <td>119179.397836</td>\n",
       "      <td>122032.407096</td>\n",
       "      <td>121513.0</td>\n",
       "      <td>1976-12-11</td>\n",
       "    </tr>\n",
       "    <tr>\n",
       "      <td>4</td>\n",
       "      <td>1977-05-01</td>\n",
       "      <td>127883.031830</td>\n",
       "      <td>126348.728747</td>\n",
       "      <td>129476.562668</td>\n",
       "      <td>128884.0</td>\n",
       "      <td>1976-12-11</td>\n",
       "    </tr>\n",
       "  </tbody>\n",
       "</table>\n",
       "</div>"
      ],
      "text/plain": [
       "          ds           yhat     yhat_lower     yhat_upper         y     cutoff\n",
       "0 1977-01-01  108479.087389  107035.829565  109835.581511  102445.0 1976-12-11\n",
       "1 1977-02-01  102996.111525  101365.588824  104430.582132  102416.0 1976-12-11\n",
       "2 1977-03-01  118973.318113  117526.417020  120407.922317  119960.0 1976-12-11\n",
       "3 1977-04-01  120612.923709  119179.397836  122032.407096  121513.0 1976-12-11\n",
       "4 1977-05-01  127883.031830  126348.728747  129476.562668  128884.0 1976-12-11"
      ]
     },
     "execution_count": 39,
     "metadata": {},
     "output_type": "execute_result"
    }
   ],
   "source": [
    "df_cv.head()"
   ]
  },
  {
   "cell_type": "code",
   "execution_count": 40,
   "metadata": {
    "ExecuteTime": {
     "end_time": "2020-07-18T15:03:52.233447Z",
     "start_time": "2020-07-18T15:03:52.213086Z"
    }
   },
   "outputs": [
    {
     "data": {
      "text/html": [
       "<div>\n",
       "<style scoped>\n",
       "    .dataframe tbody tr th:only-of-type {\n",
       "        vertical-align: middle;\n",
       "    }\n",
       "\n",
       "    .dataframe tbody tr th {\n",
       "        vertical-align: top;\n",
       "    }\n",
       "\n",
       "    .dataframe thead th {\n",
       "        text-align: right;\n",
       "    }\n",
       "</style>\n",
       "<table border=\"1\" class=\"dataframe\">\n",
       "  <thead>\n",
       "    <tr style=\"text-align: right;\">\n",
       "      <th></th>\n",
       "      <th>ds</th>\n",
       "      <th>yhat</th>\n",
       "      <th>yhat_lower</th>\n",
       "      <th>yhat_upper</th>\n",
       "      <th>y</th>\n",
       "      <th>cutoff</th>\n",
       "    </tr>\n",
       "  </thead>\n",
       "  <tbody>\n",
       "    <tr>\n",
       "      <td>103</td>\n",
       "      <td>2017-08-01</td>\n",
       "      <td>273328.467970</td>\n",
       "      <td>267438.631291</td>\n",
       "      <td>279001.987605</td>\n",
       "      <td>283184.0</td>\n",
       "      <td>2016-12-01</td>\n",
       "    </tr>\n",
       "    <tr>\n",
       "      <td>104</td>\n",
       "      <td>2017-09-01</td>\n",
       "      <td>255447.843997</td>\n",
       "      <td>249773.123069</td>\n",
       "      <td>261030.057537</td>\n",
       "      <td>262673.0</td>\n",
       "      <td>2016-12-01</td>\n",
       "    </tr>\n",
       "    <tr>\n",
       "      <td>105</td>\n",
       "      <td>2017-10-01</td>\n",
       "      <td>262552.901413</td>\n",
       "      <td>256290.026841</td>\n",
       "      <td>268162.281582</td>\n",
       "      <td>278937.0</td>\n",
       "      <td>2016-12-01</td>\n",
       "    </tr>\n",
       "    <tr>\n",
       "      <td>106</td>\n",
       "      <td>2017-11-01</td>\n",
       "      <td>249204.331440</td>\n",
       "      <td>243660.265658</td>\n",
       "      <td>254989.789469</td>\n",
       "      <td>257712.0</td>\n",
       "      <td>2016-12-01</td>\n",
       "    </tr>\n",
       "    <tr>\n",
       "      <td>107</td>\n",
       "      <td>2017-12-01</td>\n",
       "      <td>250450.721819</td>\n",
       "      <td>244635.597075</td>\n",
       "      <td>256625.706481</td>\n",
       "      <td>266535.0</td>\n",
       "      <td>2016-12-01</td>\n",
       "    </tr>\n",
       "  </tbody>\n",
       "</table>\n",
       "</div>"
      ],
      "text/plain": [
       "            ds           yhat     yhat_lower     yhat_upper         y  \\\n",
       "103 2017-08-01  273328.467970  267438.631291  279001.987605  283184.0   \n",
       "104 2017-09-01  255447.843997  249773.123069  261030.057537  262673.0   \n",
       "105 2017-10-01  262552.901413  256290.026841  268162.281582  278937.0   \n",
       "106 2017-11-01  249204.331440  243660.265658  254989.789469  257712.0   \n",
       "107 2017-12-01  250450.721819  244635.597075  256625.706481  266535.0   \n",
       "\n",
       "        cutoff  \n",
       "103 2016-12-01  \n",
       "104 2016-12-01  \n",
       "105 2016-12-01  \n",
       "106 2016-12-01  \n",
       "107 2016-12-01  "
      ]
     },
     "execution_count": 40,
     "metadata": {},
     "output_type": "execute_result"
    }
   ],
   "source": [
    "df_cv.tail()"
   ]
  },
  {
   "cell_type": "code",
   "execution_count": 41,
   "metadata": {
    "ExecuteTime": {
     "end_time": "2020-07-18T15:03:52.628509Z",
     "start_time": "2020-07-18T15:03:52.341203Z"
    }
   },
   "outputs": [
    {
     "data": {
      "text/html": [
       "<div>\n",
       "<style scoped>\n",
       "    .dataframe tbody tr th:only-of-type {\n",
       "        vertical-align: middle;\n",
       "    }\n",
       "\n",
       "    .dataframe tbody tr th {\n",
       "        vertical-align: top;\n",
       "    }\n",
       "\n",
       "    .dataframe thead th {\n",
       "        text-align: right;\n",
       "    }\n",
       "</style>\n",
       "<table border=\"1\" class=\"dataframe\">\n",
       "  <thead>\n",
       "    <tr style=\"text-align: right;\">\n",
       "      <th></th>\n",
       "      <th>horizon</th>\n",
       "      <th>mse</th>\n",
       "      <th>rmse</th>\n",
       "      <th>mae</th>\n",
       "      <th>mape</th>\n",
       "      <th>mdape</th>\n",
       "      <th>coverage</th>\n",
       "    </tr>\n",
       "  </thead>\n",
       "  <tbody>\n",
       "    <tr>\n",
       "      <td>0</td>\n",
       "      <td>52 days</td>\n",
       "      <td>2.437359e+07</td>\n",
       "      <td>4936.961190</td>\n",
       "      <td>4528.637861</td>\n",
       "      <td>0.027750</td>\n",
       "      <td>0.023384</td>\n",
       "      <td>0.4</td>\n",
       "    </tr>\n",
       "    <tr>\n",
       "      <td>1</td>\n",
       "      <td>53 days</td>\n",
       "      <td>2.187095e+07</td>\n",
       "      <td>4676.638408</td>\n",
       "      <td>4262.628303</td>\n",
       "      <td>0.024999</td>\n",
       "      <td>0.023384</td>\n",
       "      <td>0.4</td>\n",
       "    </tr>\n",
       "    <tr>\n",
       "      <td>2</td>\n",
       "      <td>54 days</td>\n",
       "      <td>1.842045e+07</td>\n",
       "      <td>4291.904691</td>\n",
       "      <td>3732.310696</td>\n",
       "      <td>0.020061</td>\n",
       "      <td>0.022021</td>\n",
       "      <td>0.5</td>\n",
       "    </tr>\n",
       "    <tr>\n",
       "      <td>3</td>\n",
       "      <td>55 days</td>\n",
       "      <td>2.351247e+07</td>\n",
       "      <td>4848.965429</td>\n",
       "      <td>4271.125183</td>\n",
       "      <td>0.023241</td>\n",
       "      <td>0.023384</td>\n",
       "      <td>0.4</td>\n",
       "    </tr>\n",
       "    <tr>\n",
       "      <td>4</td>\n",
       "      <td>57 days</td>\n",
       "      <td>2.115130e+07</td>\n",
       "      <td>4599.053997</td>\n",
       "      <td>3989.900860</td>\n",
       "      <td>0.021416</td>\n",
       "      <td>0.022021</td>\n",
       "      <td>0.5</td>\n",
       "    </tr>\n",
       "    <tr>\n",
       "      <td>...</td>\n",
       "      <td>...</td>\n",
       "      <td>...</td>\n",
       "      <td>...</td>\n",
       "      <td>...</td>\n",
       "      <td>...</td>\n",
       "      <td>...</td>\n",
       "      <td>...</td>\n",
       "    </tr>\n",
       "    <tr>\n",
       "      <td>94</td>\n",
       "      <td>360 days</td>\n",
       "      <td>1.862165e+07</td>\n",
       "      <td>4315.281433</td>\n",
       "      <td>3775.153749</td>\n",
       "      <td>0.019707</td>\n",
       "      <td>0.019425</td>\n",
       "      <td>0.5</td>\n",
       "    </tr>\n",
       "    <tr>\n",
       "      <td>95</td>\n",
       "      <td>361 days</td>\n",
       "      <td>1.777184e+07</td>\n",
       "      <td>4215.666214</td>\n",
       "      <td>3507.111932</td>\n",
       "      <td>0.018367</td>\n",
       "      <td>0.018879</td>\n",
       "      <td>0.5</td>\n",
       "    </tr>\n",
       "    <tr>\n",
       "      <td>96</td>\n",
       "      <td>362 days</td>\n",
       "      <td>3.210247e+07</td>\n",
       "      <td>5665.904399</td>\n",
       "      <td>4435.117794</td>\n",
       "      <td>0.022175</td>\n",
       "      <td>0.024755</td>\n",
       "      <td>0.4</td>\n",
       "    </tr>\n",
       "    <tr>\n",
       "      <td>97</td>\n",
       "      <td>364 days</td>\n",
       "      <td>3.022906e+07</td>\n",
       "      <td>5498.095592</td>\n",
       "      <td>4257.907114</td>\n",
       "      <td>0.021507</td>\n",
       "      <td>0.021415</td>\n",
       "      <td>0.5</td>\n",
       "    </tr>\n",
       "    <tr>\n",
       "      <td>98</td>\n",
       "      <td>365 days</td>\n",
       "      <td>5.578676e+07</td>\n",
       "      <td>7469.053614</td>\n",
       "      <td>5689.503458</td>\n",
       "      <td>0.026806</td>\n",
       "      <td>0.025276</td>\n",
       "      <td>0.4</td>\n",
       "    </tr>\n",
       "  </tbody>\n",
       "</table>\n",
       "<p>99 rows × 7 columns</p>\n",
       "</div>"
      ],
      "text/plain": [
       "    horizon           mse         rmse          mae      mape     mdape  \\\n",
       "0   52 days  2.437359e+07  4936.961190  4528.637861  0.027750  0.023384   \n",
       "1   53 days  2.187095e+07  4676.638408  4262.628303  0.024999  0.023384   \n",
       "2   54 days  1.842045e+07  4291.904691  3732.310696  0.020061  0.022021   \n",
       "3   55 days  2.351247e+07  4848.965429  4271.125183  0.023241  0.023384   \n",
       "4   57 days  2.115130e+07  4599.053997  3989.900860  0.021416  0.022021   \n",
       "..      ...           ...          ...          ...       ...       ...   \n",
       "94 360 days  1.862165e+07  4315.281433  3775.153749  0.019707  0.019425   \n",
       "95 361 days  1.777184e+07  4215.666214  3507.111932  0.018367  0.018879   \n",
       "96 362 days  3.210247e+07  5665.904399  4435.117794  0.022175  0.024755   \n",
       "97 364 days  3.022906e+07  5498.095592  4257.907114  0.021507  0.021415   \n",
       "98 365 days  5.578676e+07  7469.053614  5689.503458  0.026806  0.025276   \n",
       "\n",
       "    coverage  \n",
       "0        0.4  \n",
       "1        0.4  \n",
       "2        0.5  \n",
       "3        0.4  \n",
       "4        0.5  \n",
       "..       ...  \n",
       "94       0.5  \n",
       "95       0.5  \n",
       "96       0.4  \n",
       "97       0.5  \n",
       "98       0.4  \n",
       "\n",
       "[99 rows x 7 columns]"
      ]
     },
     "execution_count": 41,
     "metadata": {},
     "output_type": "execute_result"
    }
   ],
   "source": [
    "performance_metrics(df_cv)"
   ]
  },
  {
   "cell_type": "code",
   "execution_count": 42,
   "metadata": {
    "ExecuteTime": {
     "end_time": "2020-07-18T15:03:52.997491Z",
     "start_time": "2020-07-18T15:03:52.748103Z"
    }
   },
   "outputs": [
    {
     "data": {
      "image/png": "[encoded data removed]",
      "text/plain": [
       "<Figure size 720x432 with 1 Axes>"
      ]
     },
     "metadata": {},
     "output_type": "display_data"
    }
   ],
   "source": [
    "plot_cross_validation_metric(df_cv, metric='rmse');"
   ]
  },
  {
   "cell_type": "markdown",
   "metadata": {},
   "source": [
    "MAPE is Mean Absolute Percentage Error\n",
    "\n",
    "https://en.wikipedia.org/wiki/Mean_absolute_percentage_error"
   ]
  },
  {
   "cell_type": "code",
   "execution_count": 43,
   "metadata": {
    "ExecuteTime": {
     "end_time": "2020-07-18T15:03:53.373213Z",
     "start_time": "2020-07-18T15:03:53.127965Z"
    }
   },
   "outputs": [
    {
     "data": {
      "image/png": "[encoded data removed]",
      "text/plain": [
       "<Figure size 720x432 with 1 Axes>"
      ]
     },
     "metadata": {},
     "output_type": "display_data"
    }
   ],
   "source": [
    "plot_cross_validation_metric(df_cv, metric='mape');"
   ]
  },
  {
   "cell_type": "markdown",
   "metadata": {},
   "source": [
    "------------"
   ]
  },
  {
   "cell_type": "markdown",
   "metadata": {},
   "source": [
    "------------"
   ]
  }
 ],
 "metadata": {
  "kernelspec": {
   "display_name": "Python 3",
   "language": "python",
   "name": "python3"
  },
  "language_info": {
   "codemirror_mode": {
    "name": "ipython",
    "version": 3
   },
   "file_extension": ".py",
   "mimetype": "text/x-python",
   "name": "python",
   "nbconvert_exporter": "python",
   "pygments_lexer": "ipython3",
   "version": "3.7.4"
  },
  "toc": {
   "base_numbering": 1,
   "nav_menu": {},
   "number_sections": true,
   "sideBar": true,
   "skip_h1_title": false,
   "title_cell": "Table of Contents",
   "title_sidebar": "Contents",
   "toc_cell": false,
   "toc_position": {},
   "toc_section_display": true,
   "toc_window_display": true
  },
  "varInspector": {
   "cols": {
    "lenName": 16,
    "lenType": 16,
    "lenVar": 40
   },
   "kernels_config": {
    "python": {
     "delete_cmd_postfix": "",
     "delete_cmd_prefix": "del ",
     "library": "var_list.py",
     "varRefreshCmd": "print(var_dic_list())"
    },
    "r": {
     "delete_cmd_postfix": ") ",
     "delete_cmd_prefix": "rm(",
     "library": "var_list.r",
     "varRefreshCmd": "cat(var_dic_list()) "
    }
   },
   "types_to_exclude": [
    "module",
    "function",
    "builtin_function_or_method",
    "instance",
    "_Feature"
   ],
   "window_display": false
  }
 },
 "nbformat": 4,
 "nbformat_minor": 2
}
