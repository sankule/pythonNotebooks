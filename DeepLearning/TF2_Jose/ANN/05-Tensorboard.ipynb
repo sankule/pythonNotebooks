{
 "cells": [
  {
   "cell_type": "markdown",
   "metadata": {},
   "source": [
    "# Tensorboard\n",
    "\n",
    "---\n",
    "---\n",
    "\n",
    "**NOTE: You must watch the corresponding video to understand this lecture. This notebook can't serve as a full guide. Please watch the video BEFORE posting questions to the QA forum.**\n",
    "\n",
    "---\n",
    "---\n",
    "\n",
    "Let's explore the built in data visualization capabilities that come with Tensorboard.\n",
    "\n",
    "Full official tutorial available here: https://www.tensorflow.org/tensorboard/get_started\n",
    "\n",
    "## Data"
   ]
  },
  {
   "cell_type": "code",
   "execution_count": 1,
   "metadata": {
    "ExecuteTime": {
     "end_time": "2020-06-09T10:35:28.746132Z",
     "start_time": "2020-06-09T10:35:27.948966Z"
    }
   },
   "outputs": [],
   "source": [
    "import pandas as pd\n",
    "import numpy as np"
   ]
  },
  {
   "cell_type": "code",
   "execution_count": 2,
   "metadata": {
    "ExecuteTime": {
     "end_time": "2020-06-09T10:35:28.789663Z",
     "start_time": "2020-06-09T10:35:28.764023Z"
    }
   },
   "outputs": [],
   "source": [
    "df = pd.read_csv('../DATA/cancer_classification.csv')"
   ]
  },
  {
   "cell_type": "markdown",
   "metadata": {},
   "source": [
    "### Train Test Split"
   ]
  },
  {
   "cell_type": "code",
   "execution_count": 3,
   "metadata": {
    "ExecuteTime": {
     "end_time": "2020-06-09T10:35:29.607448Z",
     "start_time": "2020-06-09T10:35:29.600473Z"
    }
   },
   "outputs": [],
   "source": [
    "X = df.drop('benign_0__mal_1',axis=1).values\n",
    "y = df['benign_0__mal_1'].values"
   ]
  },
  {
   "cell_type": "code",
   "execution_count": 4,
   "metadata": {
    "ExecuteTime": {
     "end_time": "2020-06-09T10:35:34.602828Z",
     "start_time": "2020-06-09T10:35:33.211815Z"
    }
   },
   "outputs": [],
   "source": [
    "from sklearn.model_selection import train_test_split"
   ]
  },
  {
   "cell_type": "code",
   "execution_count": 5,
   "metadata": {
    "ExecuteTime": {
     "end_time": "2020-06-09T10:35:34.718030Z",
     "start_time": "2020-06-09T10:35:34.710050Z"
    }
   },
   "outputs": [],
   "source": [
    "X_train, X_test, y_train, y_test = train_test_split(X,y,test_size=0.25,random_state=101)"
   ]
  },
  {
   "cell_type": "markdown",
   "metadata": {},
   "source": [
    "\n",
    "### Scaling Data"
   ]
  },
  {
   "cell_type": "code",
   "execution_count": 6,
   "metadata": {
    "ExecuteTime": {
     "end_time": "2020-06-09T10:35:34.874610Z",
     "start_time": "2020-06-09T10:35:34.869623Z"
    }
   },
   "outputs": [],
   "source": [
    "from sklearn.preprocessing import MinMaxScaler"
   ]
  },
  {
   "cell_type": "code",
   "execution_count": 7,
   "metadata": {
    "ExecuteTime": {
     "end_time": "2020-06-09T10:35:35.374328Z",
     "start_time": "2020-06-09T10:35:35.370339Z"
    }
   },
   "outputs": [],
   "source": [
    "scaler = MinMaxScaler()"
   ]
  },
  {
   "cell_type": "code",
   "execution_count": 8,
   "metadata": {
    "ExecuteTime": {
     "end_time": "2020-06-09T10:35:36.277648Z",
     "start_time": "2020-06-09T10:35:36.260695Z"
    }
   },
   "outputs": [
    {
     "data": {
      "text/plain": [
       "MinMaxScaler()"
      ]
     },
     "execution_count": 8,
     "metadata": {},
     "output_type": "execute_result"
    }
   ],
   "source": [
    "scaler.fit(X_train)"
   ]
  },
  {
   "cell_type": "code",
   "execution_count": 9,
   "metadata": {
    "ExecuteTime": {
     "end_time": "2020-06-09T10:35:36.958218Z",
     "start_time": "2020-06-09T10:35:36.951236Z"
    }
   },
   "outputs": [],
   "source": [
    "X_train = scaler.transform(X_train)\n",
    "X_test = scaler.transform(X_test)"
   ]
  },
  {
   "cell_type": "markdown",
   "metadata": {},
   "source": [
    "## Creating the Model"
   ]
  },
  {
   "cell_type": "code",
   "execution_count": 10,
   "metadata": {
    "ExecuteTime": {
     "end_time": "2020-06-09T10:35:43.242919Z",
     "start_time": "2020-06-09T10:35:38.614110Z"
    }
   },
   "outputs": [],
   "source": [
    "import tensorflow as tf\n",
    "from tensorflow.keras.models import Sequential\n",
    "from tensorflow.keras.layers import Dense, Activation,Dropout"
   ]
  },
  {
   "cell_type": "code",
   "execution_count": 11,
   "metadata": {
    "ExecuteTime": {
     "end_time": "2020-06-09T10:35:43.807530Z",
     "start_time": "2020-06-09T10:35:43.802540Z"
    }
   },
   "outputs": [],
   "source": [
    "from tensorflow.keras.callbacks import EarlyStopping,TensorBoard"
   ]
  },
  {
   "cell_type": "code",
   "execution_count": 12,
   "metadata": {
    "ExecuteTime": {
     "end_time": "2020-06-09T10:35:44.599879Z",
     "start_time": "2020-06-09T10:35:44.593896Z"
    }
   },
   "outputs": [],
   "source": [
    "early_stop = EarlyStopping(monitor='val_loss', mode='min', verbose=1, patience=25)"
   ]
  },
  {
   "cell_type": "code",
   "execution_count": 13,
   "metadata": {
    "ExecuteTime": {
     "end_time": "2020-06-09T10:35:46.030638Z",
     "start_time": "2020-06-09T10:35:46.024653Z"
    }
   },
   "outputs": [
    {
     "data": {
      "text/plain": [
       "'D:\\\\swarit_git\\\\pythonScripts\\\\DeepLearning\\\\TF2_Jose\\\\ANN'"
      ]
     },
     "execution_count": 13,
     "metadata": {},
     "output_type": "execute_result"
    }
   ],
   "source": [
    "pwd"
   ]
  },
  {
   "cell_type": "markdown",
   "metadata": {},
   "source": [
    "## Creating the Tensorboard Callback\n",
    "\n",
    "TensorBoard is a visualization tool provided with TensorFlow.\n",
    "\n",
    "This callback logs events for TensorBoard, including:\n",
    "* Metrics summary plots\n",
    "* Training graph visualization\n",
    "* Activation histograms\n",
    "* Sampled profiling\n",
    "\n",
    "If you have installed TensorFlow with pip, you should be able\n",
    "to launch TensorBoard from the command line:\n",
    "\n",
    "```sh\n",
    "tensorboard --logdir=path_to_your_logs\n",
    "```\n",
    "\n",
    "You can find more information about TensorBoard\n",
    "[here](https://www.tensorflow.org/tensorboard/).\n",
    "\n",
    "    Arguments:\n",
    "        log_dir: the path of the directory where to save the log files to be\n",
    "          parsed by TensorBoard.\n",
    "        histogram_freq: frequency (in epochs) at which to compute activation and\n",
    "          weight histograms for the layers of the model. If set to 0, histograms\n",
    "          won't be computed. Validation data (or split) must be specified for\n",
    "          histogram visualizations.\n",
    "        write_graph: whether to visualize the graph in TensorBoard. The log file\n",
    "          can become quite large when write_graph is set to True.\n",
    "        write_images: whether to write model weights to visualize as image in\n",
    "          TensorBoard.\n",
    "        update_freq: `'batch'` or `'epoch'` or integer. When using `'batch'`,\n",
    "          writes the losses and metrics to TensorBoard after each batch. The same\n",
    "          applies for `'epoch'`. If using an integer, let's say `1000`, the\n",
    "          callback will write the metrics and losses to TensorBoard every 1000\n",
    "          samples. Note that writing too frequently to TensorBoard can slow down\n",
    "          your training.\n",
    "        profile_batch: Profile the batch to sample compute characteristics. By\n",
    "          default, it will profile the second batch. Set profile_batch=0 to\n",
    "          disable profiling. Must run in TensorFlow eager mode.\n",
    "        embeddings_freq: frequency (in epochs) at which embedding layers will\n",
    "          be visualized. If set to 0, embeddings won't be visualized.\n",
    "       "
   ]
  },
  {
   "cell_type": "code",
   "execution_count": 14,
   "metadata": {
    "ExecuteTime": {
     "end_time": "2020-06-09T10:36:00.815200Z",
     "start_time": "2020-06-09T10:36:00.810213Z"
    }
   },
   "outputs": [],
   "source": [
    "from datetime import datetime"
   ]
  },
  {
   "cell_type": "code",
   "execution_count": 15,
   "metadata": {
    "ExecuteTime": {
     "end_time": "2020-06-09T10:36:01.414667Z",
     "start_time": "2020-06-09T10:36:01.407685Z"
    }
   },
   "outputs": [
    {
     "data": {
      "text/plain": [
       "'2020-06-09--1606'"
      ]
     },
     "execution_count": 15,
     "metadata": {},
     "output_type": "execute_result"
    }
   ],
   "source": [
    "datetime.now().strftime(\"%Y-%m-%d--%H%M\")"
   ]
  },
  {
   "cell_type": "code",
   "execution_count": 16,
   "metadata": {
    "ExecuteTime": {
     "end_time": "2020-06-09T10:36:02.015350Z",
     "start_time": "2020-06-09T10:36:02.009364Z"
    }
   },
   "outputs": [],
   "source": [
    "# WINDOWS: Use \"logs\\\\fit\"\n",
    "# MACOS/LINUX: Use \"logs\\fit\"\n",
    "\n",
    "log_directory = 'logs\\\\fit'\n",
    "\n",
    "# OPTIONAL: ADD A TIMESTAMP FOR UNIQUE FOLDER\n",
    "# timestamp = datetime.now().strftime(\"%Y-%m-%d--%H%M\")\n",
    "# log_directory = log_directory + '\\\\' + timestamp\n",
    "\n",
    "\n",
    "board = TensorBoard(log_dir=log_directory,histogram_freq=1,\n",
    "    write_graph=True,\n",
    "    write_images=True,\n",
    "    update_freq='epoch',\n",
    "    profile_batch=2,\n",
    "    embeddings_freq=1)"
   ]
  },
  {
   "cell_type": "markdown",
   "metadata": {},
   "source": [
    "Now create the model layers:"
   ]
  },
  {
   "cell_type": "code",
   "execution_count": 17,
   "metadata": {
    "ExecuteTime": {
     "end_time": "2020-06-09T10:36:10.807891Z",
     "start_time": "2020-06-09T10:36:10.771986Z"
    }
   },
   "outputs": [],
   "source": [
    "model = Sequential()\n",
    "model.add(Dense(units=30,activation='relu'))\n",
    "model.add(Dropout(0.5))\n",
    "model.add(Dense(units=15,activation='relu'))\n",
    "model.add(Dropout(0.5))\n",
    "model.add(Dense(units=1,activation='sigmoid'))\n",
    "model.compile(loss='binary_crossentropy', optimizer='adam')"
   ]
  },
  {
   "cell_type": "markdown",
   "metadata": {},
   "source": [
    "## Train the Model"
   ]
  },
  {
   "cell_type": "code",
   "execution_count": 18,
   "metadata": {
    "ExecuteTime": {
     "end_time": "2020-06-09T10:36:30.982996Z",
     "start_time": "2020-06-09T10:36:13.098243Z"
    },
    "scrolled": true
   },
   "outputs": [
    {
     "name": "stdout",
     "output_type": "stream",
     "text": [
      "Train on 426 samples, validate on 143 samples\n",
      "Epoch 1/600\n",
      "426/426 [==============================] - 1s 2ms/sample - loss: 0.7051 - val_loss: 0.6693\n",
      "Epoch 2/600\n",
      "426/426 [==============================] - 0s 222us/sample - loss: 0.6836 - val_loss: 0.6476\n",
      "Epoch 3/600\n",
      "426/426 [==============================] - 0s 206us/sample - loss: 0.6677 - val_loss: 0.6327\n",
      "Epoch 4/600\n",
      "426/426 [==============================] - 0s 212us/sample - loss: 0.6540 - val_loss: 0.6155\n",
      "Epoch 5/600\n",
      "426/426 [==============================] - 0s 220us/sample - loss: 0.6223 - val_loss: 0.5926\n",
      "Epoch 6/600\n",
      "426/426 [==============================] - 0s 211us/sample - loss: 0.6004 - val_loss: 0.5675\n",
      "Epoch 7/600\n",
      "426/426 [==============================] - 0s 396us/sample - loss: 0.6024 - val_loss: 0.5400\n",
      "Epoch 8/600\n",
      "426/426 [==============================] - 0s 235us/sample - loss: 0.5734 - val_loss: 0.5124\n",
      "Epoch 9/600\n",
      "426/426 [==============================] - 0s 215us/sample - loss: 0.5612 - val_loss: 0.4830\n",
      "Epoch 10/600\n",
      "426/426 [==============================] - 0s 248us/sample - loss: 0.5284 - val_loss: 0.4506\n",
      "Epoch 11/600\n",
      "426/426 [==============================] - 0s 255us/sample - loss: 0.5049 - val_loss: 0.4172\n",
      "Epoch 12/600\n",
      "426/426 [==============================] - 0s 213us/sample - loss: 0.4747 - val_loss: 0.3875\n",
      "Epoch 13/600\n",
      "426/426 [==============================] - 0s 225us/sample - loss: 0.4403 - val_loss: 0.3511\n",
      "Epoch 14/600\n",
      "426/426 [==============================] - 0s 220us/sample - loss: 0.4416 - val_loss: 0.3227\n",
      "Epoch 15/600\n",
      "426/426 [==============================] - 0s 208us/sample - loss: 0.4189 - val_loss: 0.3034\n",
      "Epoch 16/600\n",
      "426/426 [==============================] - 0s 208us/sample - loss: 0.3779 - val_loss: 0.2821\n",
      "Epoch 17/600\n",
      "426/426 [==============================] - 0s 251us/sample - loss: 0.3526 - val_loss: 0.2629\n",
      "Epoch 18/600\n",
      "426/426 [==============================] - 0s 223us/sample - loss: 0.3443 - val_loss: 0.2493\n",
      "Epoch 19/600\n",
      "426/426 [==============================] - 0s 225us/sample - loss: 0.3347 - val_loss: 0.2361\n",
      "Epoch 20/600\n",
      "426/426 [==============================] - 0s 213us/sample - loss: 0.3170 - val_loss: 0.2218\n",
      "Epoch 21/600\n",
      "426/426 [==============================] - 0s 229us/sample - loss: 0.3224 - val_loss: 0.2083\n",
      "Epoch 22/600\n",
      "426/426 [==============================] - 0s 243us/sample - loss: 0.3054 - val_loss: 0.2026\n",
      "Epoch 23/600\n",
      "426/426 [==============================] - 0s 215us/sample - loss: 0.3056 - val_loss: 0.1943\n",
      "Epoch 24/600\n",
      "426/426 [==============================] - 0s 211us/sample - loss: 0.2643 - val_loss: 0.1893\n",
      "Epoch 25/600\n",
      "426/426 [==============================] - 0s 212us/sample - loss: 0.2755 - val_loss: 0.1746\n",
      "Epoch 26/600\n",
      "426/426 [==============================] - 0s 260us/sample - loss: 0.2652 - val_loss: 0.1687\n",
      "Epoch 27/600\n",
      "426/426 [==============================] - 0s 215us/sample - loss: 0.2712 - val_loss: 0.1627\n",
      "Epoch 28/600\n",
      "426/426 [==============================] - 0s 218us/sample - loss: 0.2435 - val_loss: 0.1613\n",
      "Epoch 29/600\n",
      "426/426 [==============================] - 0s 201us/sample - loss: 0.2337 - val_loss: 0.1507\n",
      "Epoch 30/600\n",
      "426/426 [==============================] - 0s 219us/sample - loss: 0.2314 - val_loss: 0.1441\n",
      "Epoch 31/600\n",
      "426/426 [==============================] - 0s 250us/sample - loss: 0.2312 - val_loss: 0.1369\n",
      "Epoch 32/600\n",
      "426/426 [==============================] - 0s 243us/sample - loss: 0.2427 - val_loss: 0.1441\n",
      "Epoch 33/600\n",
      "426/426 [==============================] - 0s 211us/sample - loss: 0.2399 - val_loss: 0.1428\n",
      "Epoch 34/600\n",
      "426/426 [==============================] - 0s 204us/sample - loss: 0.2311 - val_loss: 0.1340\n",
      "Epoch 35/600\n",
      "426/426 [==============================] - 0s 213us/sample - loss: 0.2130 - val_loss: 0.1323\n",
      "Epoch 36/600\n",
      "426/426 [==============================] - 0s 213us/sample - loss: 0.2037 - val_loss: 0.1273\n",
      "Epoch 37/600\n",
      "426/426 [==============================] - ETA: 0s - loss: 0.332 - 0s 216us/sample - loss: 0.1964 - val_loss: 0.1268\n",
      "Epoch 38/600\n",
      "426/426 [==============================] - 0s 208us/sample - loss: 0.2057 - val_loss: 0.1169\n",
      "Epoch 39/600\n",
      "426/426 [==============================] - 0s 208us/sample - loss: 0.1836 - val_loss: 0.1232\n",
      "Epoch 40/600\n",
      "426/426 [==============================] - 0s 234us/sample - loss: 0.1873 - val_loss: 0.1103\n",
      "Epoch 41/600\n",
      "426/426 [==============================] - 0s 239us/sample - loss: 0.1930 - val_loss: 0.1079\n",
      "Epoch 42/600\n",
      "426/426 [==============================] - 0s 213us/sample - loss: 0.1665 - val_loss: 0.1080\n",
      "Epoch 43/600\n",
      "426/426 [==============================] - 0s 227us/sample - loss: 0.1741 - val_loss: 0.1138\n",
      "Epoch 44/600\n",
      "426/426 [==============================] - 0s 215us/sample - loss: 0.1916 - val_loss: 0.1069\n",
      "Epoch 45/600\n",
      "426/426 [==============================] - 0s 197us/sample - loss: 0.1509 - val_loss: 0.0991\n",
      "Epoch 46/600\n",
      "426/426 [==============================] - 0s 206us/sample - loss: 0.1585 - val_loss: 0.0982\n",
      "Epoch 47/600\n",
      "426/426 [==============================] - 0s 208us/sample - loss: 0.1775 - val_loss: 0.1012\n",
      "Epoch 48/600\n",
      "426/426 [==============================] - 0s 212us/sample - loss: 0.1657 - val_loss: 0.1086\n",
      "Epoch 49/600\n",
      "426/426 [==============================] - 0s 253us/sample - loss: 0.1554 - val_loss: 0.0952\n",
      "Epoch 50/600\n",
      "426/426 [==============================] - 0s 218us/sample - loss: 0.1606 - val_loss: 0.1059\n",
      "Epoch 51/600\n",
      "426/426 [==============================] - 0s 211us/sample - loss: 0.1646 - val_loss: 0.0962\n",
      "Epoch 52/600\n",
      "426/426 [==============================] - 0s 236us/sample - loss: 0.1351 - val_loss: 0.0964\n",
      "Epoch 53/600\n",
      "426/426 [==============================] - 0s 218us/sample - loss: 0.1732 - val_loss: 0.0928\n",
      "Epoch 54/600\n",
      "426/426 [==============================] - 0s 213us/sample - loss: 0.1502 - val_loss: 0.0947\n",
      "Epoch 55/600\n",
      "426/426 [==============================] - 0s 210us/sample - loss: 0.1454 - val_loss: 0.0908\n",
      "Epoch 56/600\n",
      "426/426 [==============================] - 0s 211us/sample - loss: 0.1377 - val_loss: 0.0877\n",
      "Epoch 57/600\n",
      "426/426 [==============================] - 0s 208us/sample - loss: 0.1448 - val_loss: 0.0944\n",
      "Epoch 58/600\n",
      "426/426 [==============================] - 0s 208us/sample - loss: 0.1553 - val_loss: 0.0913\n",
      "Epoch 59/600\n",
      "426/426 [==============================] - 0s 206us/sample - loss: 0.1450 - val_loss: 0.0857\n",
      "Epoch 60/600\n",
      "426/426 [==============================] - 0s 211us/sample - loss: 0.1301 - val_loss: 0.0833\n",
      "Epoch 61/600\n",
      "426/426 [==============================] - 0s 207us/sample - loss: 0.1289 - val_loss: 0.0883\n",
      "Epoch 62/600\n",
      "426/426 [==============================] - 0s 209us/sample - loss: 0.1578 - val_loss: 0.0892\n",
      "Epoch 63/600\n",
      "426/426 [==============================] - 0s 204us/sample - loss: 0.1259 - val_loss: 0.0855\n",
      "Epoch 64/600\n",
      "426/426 [==============================] - 0s 206us/sample - loss: 0.1282 - val_loss: 0.0883\n",
      "Epoch 65/600\n",
      "426/426 [==============================] - 0s 232us/sample - loss: 0.1392 - val_loss: 0.0886\n",
      "Epoch 66/600\n",
      "426/426 [==============================] - 0s 222us/sample - loss: 0.1485 - val_loss: 0.0864\n",
      "Epoch 67/600\n",
      "426/426 [==============================] - 0s 213us/sample - loss: 0.1253 - val_loss: 0.0933\n",
      "Epoch 68/600\n",
      "426/426 [==============================] - 0s 209us/sample - loss: 0.1219 - val_loss: 0.0821\n",
      "Epoch 69/600\n",
      "426/426 [==============================] - 0s 206us/sample - loss: 0.1070 - val_loss: 0.0850\n",
      "Epoch 70/600\n",
      "426/426 [==============================] - 0s 204us/sample - loss: 0.1281 - val_loss: 0.0814\n",
      "Epoch 71/600\n",
      "426/426 [==============================] - 0s 246us/sample - loss: 0.1216 - val_loss: 0.0847\n",
      "Epoch 72/600\n",
      "426/426 [==============================] - 0s 222us/sample - loss: 0.1239 - val_loss: 0.0854\n",
      "Epoch 73/600\n",
      "426/426 [==============================] - 0s 234us/sample - loss: 0.1201 - val_loss: 0.0817\n",
      "Epoch 74/600\n",
      "426/426 [==============================] - 0s 253us/sample - loss: 0.1265 - val_loss: 0.0869\n",
      "Epoch 75/600\n",
      "426/426 [==============================] - 0s 243us/sample - loss: 0.1151 - val_loss: 0.0777\n",
      "Epoch 76/600\n",
      "426/426 [==============================] - 0s 266us/sample - loss: 0.1142 - val_loss: 0.0765\n",
      "Epoch 77/600\n"
     ]
    },
    {
     "name": "stdout",
     "output_type": "stream",
     "text": [
      "426/426 [==============================] - 0s 236us/sample - loss: 0.1129 - val_loss: 0.0778\n",
      "Epoch 78/600\n",
      "426/426 [==============================] - 0s 228us/sample - loss: 0.1111 - val_loss: 0.0788\n",
      "Epoch 79/600\n",
      "426/426 [==============================] - 0s 232us/sample - loss: 0.1232 - val_loss: 0.0774\n",
      "Epoch 80/600\n",
      "426/426 [==============================] - 0s 233us/sample - loss: 0.1153 - val_loss: 0.0884\n",
      "Epoch 81/600\n",
      "426/426 [==============================] - 0s 222us/sample - loss: 0.0920 - val_loss: 0.0768\n",
      "Epoch 82/600\n",
      "426/426 [==============================] - 0s 202us/sample - loss: 0.1194 - val_loss: 0.0741\n",
      "Epoch 83/600\n",
      "426/426 [==============================] - 0s 248us/sample - loss: 0.1201 - val_loss: 0.0733\n",
      "Epoch 84/600\n",
      "426/426 [==============================] - 0s 222us/sample - loss: 0.1239 - val_loss: 0.0840\n",
      "Epoch 85/600\n",
      "426/426 [==============================] - 0s 206us/sample - loss: 0.1064 - val_loss: 0.0762\n",
      "Epoch 86/600\n",
      "426/426 [==============================] - 0s 219us/sample - loss: 0.1075 - val_loss: 0.0876\n",
      "Epoch 87/600\n",
      "426/426 [==============================] - 0s 232us/sample - loss: 0.1014 - val_loss: 0.0815\n",
      "Epoch 88/600\n",
      "426/426 [==============================] - 0s 211us/sample - loss: 0.1005 - val_loss: 0.0756\n",
      "Epoch 89/600\n",
      "426/426 [==============================] - 0s 199us/sample - loss: 0.1028 - val_loss: 0.0973\n",
      "Epoch 90/600\n",
      "426/426 [==============================] - 0s 213us/sample - loss: 0.0910 - val_loss: 0.0855\n",
      "Epoch 91/600\n",
      "426/426 [==============================] - 0s 229us/sample - loss: 0.0873 - val_loss: 0.0784\n",
      "Epoch 92/600\n",
      "426/426 [==============================] - 0s 219us/sample - loss: 0.0970 - val_loss: 0.0748\n",
      "Epoch 93/600\n",
      "426/426 [==============================] - 0s 211us/sample - loss: 0.0895 - val_loss: 0.0766\n",
      "Epoch 94/600\n",
      "426/426 [==============================] - 0s 234us/sample - loss: 0.0907 - val_loss: 0.0740\n",
      "Epoch 95/600\n",
      "426/426 [==============================] - 0s 254us/sample - loss: 0.1036 - val_loss: 0.0771\n",
      "Epoch 96/600\n",
      "426/426 [==============================] - 0s 226us/sample - loss: 0.0843 - val_loss: 0.0828\n",
      "Epoch 97/600\n",
      "426/426 [==============================] - 0s 222us/sample - loss: 0.1177 - val_loss: 0.0760\n",
      "Epoch 98/600\n",
      "426/426 [==============================] - 0s 213us/sample - loss: 0.0914 - val_loss: 0.0742\n",
      "Epoch 99/600\n",
      "426/426 [==============================] - 0s 211us/sample - loss: 0.1071 - val_loss: 0.0791\n",
      "Epoch 100/600\n",
      "426/426 [==============================] - 0s 222us/sample - loss: 0.0964 - val_loss: 0.0908\n",
      "Epoch 101/600\n",
      "426/426 [==============================] - 0s 232us/sample - loss: 0.1253 - val_loss: 0.0753\n",
      "Epoch 102/600\n",
      "426/426 [==============================] - 0s 218us/sample - loss: 0.0978 - val_loss: 0.0780\n",
      "Epoch 103/600\n",
      "426/426 [==============================] - 0s 199us/sample - loss: 0.0959 - val_loss: 0.0806\n",
      "Epoch 104/600\n",
      "426/426 [==============================] - 0s 208us/sample - loss: 0.0798 - val_loss: 0.0785\n",
      "Epoch 105/600\n",
      "426/426 [==============================] - 0s 220us/sample - loss: 0.0755 - val_loss: 0.0699\n",
      "Epoch 106/600\n",
      "426/426 [==============================] - 0s 199us/sample - loss: 0.0978 - val_loss: 0.0880\n",
      "Epoch 107/600\n",
      "426/426 [==============================] - 0s 217us/sample - loss: 0.1022 - val_loss: 0.0839\n",
      "Epoch 108/600\n",
      "426/426 [==============================] - 0s 204us/sample - loss: 0.0948 - val_loss: 0.0718\n",
      "Epoch 109/600\n",
      "426/426 [==============================] - 0s 209us/sample - loss: 0.1058 - val_loss: 0.0909\n",
      "Epoch 110/600\n",
      "426/426 [==============================] - 0s 243us/sample - loss: 0.0902 - val_loss: 0.0830\n",
      "Epoch 111/600\n",
      "426/426 [==============================] - 0s 229us/sample - loss: 0.0903 - val_loss: 0.0793\n",
      "Epoch 112/600\n",
      "426/426 [==============================] - 0s 212us/sample - loss: 0.0864 - val_loss: 0.0964\n",
      "Epoch 113/600\n",
      "426/426 [==============================] - 0s 225us/sample - loss: 0.0867 - val_loss: 0.0712\n",
      "Epoch 114/600\n",
      "426/426 [==============================] - 0s 213us/sample - loss: 0.0979 - val_loss: 0.0734\n",
      "Epoch 115/600\n",
      "426/426 [==============================] - 0s 219us/sample - loss: 0.0968 - val_loss: 0.0786\n",
      "Epoch 116/600\n",
      "426/426 [==============================] - 0s 247us/sample - loss: 0.0989 - val_loss: 0.0802\n",
      "Epoch 117/600\n",
      "426/426 [==============================] - 0s 243us/sample - loss: 0.0885 - val_loss: 0.0746\n",
      "Epoch 118/600\n",
      "426/426 [==============================] - 0s 208us/sample - loss: 0.1019 - val_loss: 0.0715\n",
      "Epoch 119/600\n",
      "426/426 [==============================] - 0s 206us/sample - loss: 0.0850 - val_loss: 0.0943\n",
      "Epoch 120/600\n",
      "426/426 [==============================] - 0s 211us/sample - loss: 0.0977 - val_loss: 0.1005\n",
      "Epoch 121/600\n",
      "426/426 [==============================] - 0s 206us/sample - loss: 0.0850 - val_loss: 0.0768\n",
      "Epoch 122/600\n",
      "426/426 [==============================] - 0s 211us/sample - loss: 0.0906 - val_loss: 0.0721\n",
      "Epoch 123/600\n",
      "426/426 [==============================] - 0s 239us/sample - loss: 0.0884 - val_loss: 0.0903\n",
      "Epoch 124/600\n",
      "426/426 [==============================] - 0s 208us/sample - loss: 0.0803 - val_loss: 0.0797\n",
      "Epoch 125/600\n",
      "426/426 [==============================] - 0s 218us/sample - loss: 0.0765 - val_loss: 0.0812\n",
      "Epoch 126/600\n",
      "426/426 [==============================] - 0s 215us/sample - loss: 0.0812 - val_loss: 0.0725\n",
      "Epoch 127/600\n",
      "426/426 [==============================] - 0s 219us/sample - loss: 0.0666 - val_loss: 0.0683\n",
      "Epoch 128/600\n",
      "426/426 [==============================] - 0s 216us/sample - loss: 0.0764 - val_loss: 0.0796\n",
      "Epoch 129/600\n",
      "426/426 [==============================] - 0s 215us/sample - loss: 0.0745 - val_loss: 0.0898\n",
      "Epoch 130/600\n",
      "426/426 [==============================] - 0s 208us/sample - loss: 0.0919 - val_loss: 0.0899\n",
      "Epoch 131/600\n",
      "426/426 [==============================] - 0s 225us/sample - loss: 0.0963 - val_loss: 0.0741\n",
      "Epoch 132/600\n",
      "426/426 [==============================] - 0s 204us/sample - loss: 0.0798 - val_loss: 0.0803\n",
      "Epoch 133/600\n",
      "426/426 [==============================] - 0s 215us/sample - loss: 0.0958 - val_loss: 0.0909\n",
      "Epoch 134/600\n",
      "426/426 [==============================] - 0s 237us/sample - loss: 0.0793 - val_loss: 0.0690\n",
      "Epoch 135/600\n",
      "426/426 [==============================] - 0s 236us/sample - loss: 0.0767 - val_loss: 0.0719\n",
      "Epoch 136/600\n",
      "426/426 [==============================] - 0s 215us/sample - loss: 0.0895 - val_loss: 0.0775\n",
      "Epoch 137/600\n",
      "426/426 [==============================] - 0s 234us/sample - loss: 0.0726 - val_loss: 0.0743\n",
      "Epoch 138/600\n",
      "426/426 [==============================] - 0s 251us/sample - loss: 0.0712 - val_loss: 0.0829\n",
      "Epoch 139/600\n",
      "426/426 [==============================] - 0s 215us/sample - loss: 0.0782 - val_loss: 0.0762\n",
      "Epoch 140/600\n",
      "426/426 [==============================] - 0s 199us/sample - loss: 0.0738 - val_loss: 0.0842\n",
      "Epoch 141/600\n",
      "426/426 [==============================] - 0s 213us/sample - loss: 0.0853 - val_loss: 0.0743\n",
      "Epoch 142/600\n",
      "426/426 [==============================] - 0s 220us/sample - loss: 0.0768 - val_loss: 0.0718\n",
      "Epoch 143/600\n",
      "426/426 [==============================] - 0s 220us/sample - loss: 0.0719 - val_loss: 0.0753\n",
      "Epoch 144/600\n",
      "426/426 [==============================] - 0s 224us/sample - loss: 0.0845 - val_loss: 0.0895\n",
      "Epoch 145/600\n",
      "426/426 [==============================] - 0s 203us/sample - loss: 0.0993 - val_loss: 0.0683\n",
      "Epoch 146/600\n",
      "426/426 [==============================] - 0s 210us/sample - loss: 0.1032 - val_loss: 0.0815\n",
      "Epoch 147/600\n",
      "426/426 [==============================] - 0s 208us/sample - loss: 0.0868 - val_loss: 0.0682\n",
      "Epoch 148/600\n",
      "426/426 [==============================] - 0s 206us/sample - loss: 0.0776 - val_loss: 0.0674\n",
      "Epoch 149/600\n",
      "426/426 [==============================] - 0s 244us/sample - loss: 0.0775 - val_loss: 0.0752\n",
      "Epoch 150/600\n",
      "426/426 [==============================] - 0s 213us/sample - loss: 0.0671 - val_loss: 0.0774\n",
      "Epoch 151/600\n",
      "426/426 [==============================] - 0s 242us/sample - loss: 0.0810 - val_loss: 0.0773\n",
      "Epoch 152/600\n",
      "426/426 [==============================] - 0s 206us/sample - loss: 0.0736 - val_loss: 0.0737\n",
      "Epoch 153/600\n",
      "426/426 [==============================] - 0s 206us/sample - loss: 0.0801 - val_loss: 0.0778\n"
     ]
    },
    {
     "name": "stdout",
     "output_type": "stream",
     "text": [
      "Epoch 154/600\n",
      "426/426 [==============================] - 0s 206us/sample - loss: 0.0802 - val_loss: 0.0725\n",
      "Epoch 155/600\n",
      "426/426 [==============================] - 0s 213us/sample - loss: 0.0792 - val_loss: 0.0836\n",
      "Epoch 156/600\n",
      "426/426 [==============================] - 0s 204us/sample - loss: 0.0738 - val_loss: 0.0821\n",
      "Epoch 157/600\n",
      "426/426 [==============================] - 0s 241us/sample - loss: 0.0835 - val_loss: 0.0816\n",
      "Epoch 158/600\n",
      "426/426 [==============================] - 0s 241us/sample - loss: 0.0894 - val_loss: 0.0776\n",
      "Epoch 159/600\n",
      "426/426 [==============================] - 0s 232us/sample - loss: 0.0798 - val_loss: 0.0752\n",
      "Epoch 160/600\n",
      "426/426 [==============================] - 0s 215us/sample - loss: 0.0899 - val_loss: 0.0697\n",
      "Epoch 161/600\n",
      "426/426 [==============================] - 0s 208us/sample - loss: 0.0689 - val_loss: 0.0809\n",
      "Epoch 162/600\n",
      "426/426 [==============================] - 0s 208us/sample - loss: 0.0661 - val_loss: 0.0880\n",
      "Epoch 163/600\n",
      "426/426 [==============================] - 0s 206us/sample - loss: 0.0734 - val_loss: 0.0708\n",
      "Epoch 164/600\n",
      "426/426 [==============================] - 0s 197us/sample - loss: 0.0945 - val_loss: 0.0727\n",
      "Epoch 165/600\n",
      "426/426 [==============================] - 0s 208us/sample - loss: 0.0859 - val_loss: 0.0765\n",
      "Epoch 166/600\n",
      "426/426 [==============================] - 0s 201us/sample - loss: 0.0608 - val_loss: 0.0753\n",
      "Epoch 167/600\n",
      "426/426 [==============================] - 0s 197us/sample - loss: 0.0771 - val_loss: 0.0802\n",
      "Epoch 168/600\n",
      "426/426 [==============================] - 0s 204us/sample - loss: 0.0773 - val_loss: 0.0792\n",
      "Epoch 169/600\n",
      "426/426 [==============================] - 0s 239us/sample - loss: 0.0627 - val_loss: 0.0707\n",
      "Epoch 170/600\n",
      "426/426 [==============================] - 0s 204us/sample - loss: 0.0715 - val_loss: 0.0886\n",
      "Epoch 171/600\n",
      "426/426 [==============================] - 0s 213us/sample - loss: 0.0693 - val_loss: 0.0894\n",
      "Epoch 172/600\n",
      "426/426 [==============================] - 0s 199us/sample - loss: 0.0563 - val_loss: 0.0695\n",
      "Epoch 173/600\n",
      "426/426 [==============================] - 0s 208us/sample - loss: 0.0802 - val_loss: 0.0753\n",
      "Epoch 00173: early stopping\n"
     ]
    },
    {
     "data": {
      "text/plain": [
       "<tensorflow.python.keras.callbacks.History at 0x215e776c748>"
      ]
     },
     "execution_count": 18,
     "metadata": {},
     "output_type": "execute_result"
    }
   ],
   "source": [
    "model.fit(x=X_train, \n",
    "          y=y_train, \n",
    "          epochs=600,\n",
    "          validation_data=(X_test, y_test), verbose=1,\n",
    "          callbacks=[early_stop,board]\n",
    "          )\n",
    "# notice BOARD in callback"
   ]
  },
  {
   "cell_type": "markdown",
   "metadata": {},
   "source": [
    "# Running Tensorboard\n"
   ]
  },
  {
   "cell_type": "markdown",
   "metadata": {},
   "source": [
    "## Running through the Command Line\n",
    "\n",
    "**Watch video to see how to run Tensorboard through a command line call.**"
   ]
  },
  {
   "cell_type": "markdown",
   "metadata": {},
   "source": [
    "Tensorboard will run locally in your browser at [http://localhost:6006/](http://localhost:6006/)\n"
   ]
  },
  {
   "cell_type": "code",
   "execution_count": 19,
   "metadata": {
    "ExecuteTime": {
     "end_time": "2020-06-09T10:36:31.063780Z",
     "start_time": "2020-06-09T10:36:31.056799Z"
    }
   },
   "outputs": [
    {
     "name": "stdout",
     "output_type": "stream",
     "text": [
      "logs\\fit\n"
     ]
    }
   ],
   "source": [
    "print(log_directory)"
   ]
  },
  {
   "cell_type": "code",
   "execution_count": 20,
   "metadata": {
    "ExecuteTime": {
     "end_time": "2020-06-09T10:36:31.753871Z",
     "start_time": "2020-06-09T10:36:31.745889Z"
    }
   },
   "outputs": [
    {
     "data": {
      "text/plain": [
       "'D:\\\\swarit_git\\\\pythonScripts\\\\DeepLearning\\\\TF2_Jose\\\\ANN'"
      ]
     },
     "execution_count": 20,
     "metadata": {},
     "output_type": "execute_result"
    }
   ],
   "source": [
    "pwd"
   ]
  },
  {
   "cell_type": "markdown",
   "metadata": {},
   "source": [
    "### Use cd at your command line to change directory to the file path reported back by pwd or your current .py file location.\n",
    "### Then run this code at your command line or terminal"
   ]
  },
  {
   "cell_type": "raw",
   "metadata": {
    "ExecuteTime": {
     "end_time": "2020-06-09T10:36:40.238719Z",
     "start_time": "2020-06-09T10:36:40.232737Z"
    }
   },
   "source": [
    "tensorboard --logdir logs\\fit "
   ]
  },
  {
   "cell_type": "code",
   "execution_count": null,
   "metadata": {},
   "outputs": [],
   "source": []
  }
 ],
 "metadata": {
  "kernelspec": {
   "display_name": "Python [conda env:pyTF2]",
   "language": "python",
   "name": "conda-env-pyTF2-py"
  },
  "language_info": {
   "codemirror_mode": {
    "name": "ipython",
    "version": 3
   },
   "file_extension": ".py",
   "mimetype": "text/x-python",
   "name": "python",
   "nbconvert_exporter": "python",
   "pygments_lexer": "ipython3",
   "version": "3.7.6"
  },
  "toc": {
   "base_numbering": 1,
   "nav_menu": {},
   "number_sections": true,
   "sideBar": true,
   "skip_h1_title": false,
   "title_cell": "Table of Contents",
   "title_sidebar": "Contents",
   "toc_cell": false,
   "toc_position": {
    "height": "calc(100% - 180px)",
    "left": "10px",
    "top": "150px",
    "width": "392.542px"
   },
   "toc_section_display": true,
   "toc_window_display": true
  },
  "varInspector": {
   "cols": {
    "lenName": 16,
    "lenType": 16,
    "lenVar": 40
   },
   "kernels_config": {
    "python": {
     "delete_cmd_postfix": "",
     "delete_cmd_prefix": "del ",
     "library": "var_list.py",
     "varRefreshCmd": "print(var_dic_list())"
    },
    "r": {
     "delete_cmd_postfix": ") ",
     "delete_cmd_prefix": "rm(",
     "library": "var_list.r",
     "varRefreshCmd": "cat(var_dic_list()) "
    }
   },
   "types_to_exclude": [
    "module",
    "function",
    "builtin_function_or_method",
    "instance",
    "_Feature"
   ],
   "window_display": false
  }
 },
 "nbformat": 4,
 "nbformat_minor": 2
}
