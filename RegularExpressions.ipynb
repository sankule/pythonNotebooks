{
 "cells": [
  {
   "cell_type": "markdown",
   "metadata": {},
   "source": [
    "### RegEx"
   ]
  },
  {
   "cell_type": "raw",
   "metadata": {
    "ExecuteTime": {
     "end_time": "2019-07-01T11:50:59.521908Z",
     "start_time": "2019-07-01T11:50:59.517911Z"
    }
   },
   "source": [
    "from platform import python_version\n",
    "print(python_version())"
   ]
  },
  {
   "cell_type": "code",
   "execution_count": 2,
   "metadata": {
    "ExecuteTime": {
     "end_time": "2019-07-17T08:39:27.226663Z",
     "start_time": "2019-07-17T08:39:27.221666Z"
    }
   },
   "outputs": [],
   "source": [
    "from IPython.core.interactiveshell import InteractiveShell\n",
    "InteractiveShell.ast_node_interactivity = \"all\"\n",
    "\n",
    "import re"
   ]
  },
  {
   "cell_type": "markdown",
   "metadata": {},
   "source": [
    "#### Useful Links\n",
    "\n",
    "- https://www.w3schools.com/python/python_regex.asp\n",
    "- https://www.guru99.com/python-regular-expressions-complete-tutorial.html\n",
    "- https://www.analyticsvidhya.com/blog/2015/06/regular-expression-python/\n",
    "- https://www.tutorialspoint.com/python/python_reg_expressions.htm"
   ]
  },
  {
   "cell_type": "markdown",
   "metadata": {},
   "source": [
    "Search the string to see if it starts with \"The\" and ends with \"Spain\":"
   ]
  },
  {
   "cell_type": "code",
   "execution_count": 8,
   "metadata": {
    "ExecuteTime": {
     "end_time": "2019-07-09T17:52:29.232841Z",
     "start_time": "2019-07-09T17:52:29.224843Z"
    }
   },
   "outputs": [
    {
     "name": "stdout",
     "output_type": "stream",
     "text": [
      "YES! We have a match!\n"
     ]
    }
   ],
   "source": [
    "txt = \"The rain in Spain\"\n",
    "x = re.search(\"^The.*Spain$\", txt)\n",
    "\n",
    "if (x):\n",
    "  print(\"YES! We have a match!\")\n",
    "else:\n",
    "  print(\"No match\")"
   ]
  },
  {
   "cell_type": "markdown",
   "metadata": {},
   "source": [
    "--------------"
   ]
  },
  {
   "cell_type": "markdown",
   "metadata": {},
   "source": [
    "### Functions"
   ]
  },
  {
   "cell_type": "markdown",
   "metadata": {},
   "source": [
    "#### Match\n",
    "\n",
    "The match() method finds match if it occurs at start of the string"
   ]
  },
  {
   "cell_type": "code",
   "execution_count": 25,
   "metadata": {
    "ExecuteTime": {
     "end_time": "2019-07-17T08:41:28.358246Z",
     "start_time": "2019-07-17T08:41:28.351252Z"
    }
   },
   "outputs": [
    {
     "name": "stdout",
     "output_type": "stream",
     "text": [
      "None\n",
      "<re.Match object; span=(0, 3), match='The'>\n"
     ]
    },
    {
     "data": {
      "text/plain": [
       "'The'"
      ]
     },
     "execution_count": 25,
     "metadata": {},
     "output_type": "execute_result"
    }
   ],
   "source": [
    "str = \"The rain in Spain\"\n",
    "x = re.match(\"ai\", str)\n",
    "y = re.match(\"The\", str)\n",
    "print(x)\n",
    "print(y)\n",
    "y.group()"
   ]
  },
  {
   "cell_type": "markdown",
   "metadata": {},
   "source": [
    "#### Findall\n",
    "\n",
    "The findall() function returns a list containing all matches."
   ]
  },
  {
   "cell_type": "code",
   "execution_count": 4,
   "metadata": {
    "ExecuteTime": {
     "end_time": "2019-07-17T08:39:32.532985Z",
     "start_time": "2019-07-17T08:39:32.527988Z"
    }
   },
   "outputs": [
    {
     "name": "stdout",
     "output_type": "stream",
     "text": [
      "['ai', 'ai']\n"
     ]
    }
   ],
   "source": [
    "str = \"The rain in Spain\"\n",
    "x = re.findall(\"ai\", str)\n",
    "print(x)"
   ]
  },
  {
   "cell_type": "markdown",
   "metadata": {},
   "source": [
    "if no match is found - empty list is returned"
   ]
  },
  {
   "cell_type": "code",
   "execution_count": 16,
   "metadata": {
    "ExecuteTime": {
     "end_time": "2019-07-01T12:16:28.577385Z",
     "start_time": "2019-07-01T12:16:28.572370Z"
    }
   },
   "outputs": [
    {
     "name": "stdout",
     "output_type": "stream",
     "text": [
      "[]\n"
     ]
    }
   ],
   "source": [
    "str = \"The rain in Spain\"\n",
    "x = re.findall(\"Por\", str)\n",
    "print(x)"
   ]
  },
  {
   "cell_type": "markdown",
   "metadata": {},
   "source": [
    "#### Search\n",
    "\n",
    "The search() function searches the string for a match, and returns a Match object if there is a match. <br/>\n",
    "If there is **more than one match**, only the first occurrence of the match will be returned <br/>\n",
    "If **no matches** are found, the value None is returned:"
   ]
  },
  {
   "cell_type": "code",
   "execution_count": 83,
   "metadata": {
    "ExecuteTime": {
     "end_time": "2019-07-04T13:21:56.370007Z",
     "start_time": "2019-07-04T13:21:56.365009Z"
    }
   },
   "outputs": [
    {
     "name": "stdout",
     "output_type": "stream",
     "text": [
      "None\n",
      "<re.Match object; span=(12, 17), match='Spain'>\n"
     ]
    }
   ],
   "source": [
    "str = \"The rain in Spain\"\n",
    "x = re.search(\"Portugal\", str)\n",
    "y = re.search(\"Spain\", str)\n",
    "print(x)\n",
    "print(y)"
   ]
  },
  {
   "cell_type": "code",
   "execution_count": 7,
   "metadata": {
    "ExecuteTime": {
     "end_time": "2019-07-01T12:10:27.371682Z",
     "start_time": "2019-07-01T12:10:27.367684Z"
    }
   },
   "outputs": [
    {
     "name": "stdout",
     "output_type": "stream",
     "text": [
      "The first white-space character is located in position: 3\n"
     ]
    }
   ],
   "source": [
    "str = \"The rain in Spain\"\n",
    "x = re.search(\"\\s\", str)\n",
    "\n",
    "print(\"The first white-space character is located in position:\", x.start())"
   ]
  },
  {
   "cell_type": "markdown",
   "metadata": {},
   "source": [
    "#### Split\n",
    "\n",
    "The split() function returns a list where the string has been split at each match:"
   ]
  },
  {
   "cell_type": "code",
   "execution_count": 17,
   "metadata": {
    "ExecuteTime": {
     "end_time": "2019-07-01T12:19:32.825143Z",
     "start_time": "2019-07-01T12:19:32.820127Z"
    }
   },
   "outputs": [
    {
     "name": "stdout",
     "output_type": "stream",
     "text": [
      "['The', 'rain', 'in', 'Spain']\n"
     ]
    }
   ],
   "source": [
    "str = \"The rain in Spain\"\n",
    "x = re.split(\"\\s\", str)\n",
    "print(x)"
   ]
  },
  {
   "cell_type": "markdown",
   "metadata": {},
   "source": [
    "You can control the number of occurrences by specifying the maxsplit parameter:"
   ]
  },
  {
   "cell_type": "code",
   "execution_count": 18,
   "metadata": {
    "ExecuteTime": {
     "end_time": "2019-07-01T12:20:03.830197Z",
     "start_time": "2019-07-01T12:20:03.826196Z"
    }
   },
   "outputs": [
    {
     "name": "stdout",
     "output_type": "stream",
     "text": [
      "['The', 'rain in Spain']\n"
     ]
    }
   ],
   "source": [
    "# Split the string only at first occurence\n",
    "str = \"The rain in Spain\"\n",
    "x = re.split(\"\\s\", str, 1)\n",
    "print(x)"
   ]
  },
  {
   "cell_type": "markdown",
   "metadata": {},
   "source": [
    "#### Sub\n",
    "\n",
    "The sub() function replaces the matches with the text of your choice:"
   ]
  },
  {
   "cell_type": "code",
   "execution_count": 20,
   "metadata": {
    "ExecuteTime": {
     "end_time": "2019-07-01T12:21:22.590999Z",
     "start_time": "2019-07-01T12:21:22.586003Z"
    }
   },
   "outputs": [
    {
     "name": "stdout",
     "output_type": "stream",
     "text": [
      "The_rain_in_Spain\n"
     ]
    }
   ],
   "source": [
    "# replacing whitespace with underscore\n",
    "\n",
    "str = \"The rain in Spain\"\n",
    "x = re.sub(\"\\s\", \"_\", str)\n",
    "print(x)"
   ]
  },
  {
   "cell_type": "markdown",
   "metadata": {
    "ExecuteTime": {
     "end_time": "2019-07-01T12:22:05.552468Z",
     "start_time": "2019-07-01T12:22:05.548451Z"
    }
   },
   "source": [
    "You can control the number of replacements by specifying the count parameter:"
   ]
  },
  {
   "cell_type": "code",
   "execution_count": 22,
   "metadata": {
    "ExecuteTime": {
     "end_time": "2019-07-01T12:22:18.778165Z",
     "start_time": "2019-07-01T12:22:18.773152Z"
    }
   },
   "outputs": [
    {
     "name": "stdout",
     "output_type": "stream",
     "text": [
      "The_rain in Spain\n"
     ]
    }
   ],
   "source": [
    "str = \"The rain in Spain\"\n",
    "x = re.sub(\"\\s\", \"_\", str,1)\n",
    "print(x)"
   ]
  },
  {
   "cell_type": "markdown",
   "metadata": {},
   "source": [
    "---------------"
   ]
  },
  {
   "cell_type": "markdown",
   "metadata": {},
   "source": [
    "### Metacharacters"
   ]
  },
  {
   "cell_type": "markdown",
   "metadata": {},
   "source": [
    "#### [ ] - a set of characters"
   ]
  },
  {
   "cell_type": "code",
   "execution_count": 28,
   "metadata": {
    "ExecuteTime": {
     "end_time": "2019-07-01T12:49:28.728066Z",
     "start_time": "2019-07-01T12:49:28.723067Z"
    }
   },
   "outputs": [
    {
     "name": "stdout",
     "output_type": "stream",
     "text": [
      "['h', 'e', 'a', 'i', 'i', 'a', 'i']\n"
     ]
    }
   ],
   "source": [
    "str = \"The rain in Spain\"\n",
    "\n",
    "#Find all lower case characters alphabetically between \"a\" and \"m\":\n",
    "x = re.findall(\"[a-m]\", str)\n",
    "print(x)"
   ]
  },
  {
   "cell_type": "markdown",
   "metadata": {},
   "source": [
    "####  \\ - Signals a special sequence \n",
    "can also be used to escape special characters\n",
    "\n",
    "check next section for more details"
   ]
  },
  {
   "cell_type": "code",
   "execution_count": 30,
   "metadata": {
    "ExecuteTime": {
     "end_time": "2019-07-01T12:50:58.872021Z",
     "start_time": "2019-07-01T12:50:58.866024Z"
    }
   },
   "outputs": [
    {
     "name": "stdout",
     "output_type": "stream",
     "text": [
      "['5', '9']\n"
     ]
    }
   ],
   "source": [
    "#Find all digit characters:\n",
    "\n",
    "str = \"That will be 59 dollars\"\n",
    "x = re.findall(\"\\d\", str)\n",
    "print(x)"
   ]
  },
  {
   "cell_type": "markdown",
   "metadata": {},
   "source": [
    "#### DOT(.) - Any character\n",
    "except newline character"
   ]
  },
  {
   "cell_type": "code",
   "execution_count": 32,
   "metadata": {
    "ExecuteTime": {
     "end_time": "2019-07-01T12:52:26.792671Z",
     "start_time": "2019-07-01T12:52:26.786675Z"
    }
   },
   "outputs": [
    {
     "name": "stdout",
     "output_type": "stream",
     "text": [
      "['hello']\n"
     ]
    }
   ],
   "source": [
    "#Search for a sequence that starts with \"he\", followed by two (any) characters, and an \"o\":\n",
    "\n",
    "str = \"hello world\"\n",
    "x = re.findall(\"he..o\", str)\n",
    "print(x)"
   ]
  },
  {
   "cell_type": "markdown",
   "metadata": {},
   "source": [
    "#### ^ - starts with"
   ]
  },
  {
   "cell_type": "code",
   "execution_count": 6,
   "metadata": {
    "ExecuteTime": {
     "end_time": "2019-07-04T09:31:49.120799Z",
     "start_time": "2019-07-04T09:31:49.116802Z"
    }
   },
   "outputs": [
    {
     "data": {
      "text/plain": [
       "['hello']"
      ]
     },
     "execution_count": 6,
     "metadata": {},
     "output_type": "execute_result"
    }
   ],
   "source": [
    "str = \"hello world\"\n",
    "\n",
    "#Check if the string starts with 'hello':\n",
    "x = re.findall(\"^hello\", str)\n",
    "x"
   ]
  },
  {
   "cell_type": "markdown",
   "metadata": {},
   "source": [
    "#### $ - Ends with"
   ]
  },
  {
   "cell_type": "code",
   "execution_count": 7,
   "metadata": {
    "ExecuteTime": {
     "end_time": "2019-07-04T09:32:43.874596Z",
     "start_time": "2019-07-04T09:32:43.870599Z"
    }
   },
   "outputs": [],
   "source": [
    "str = \"hello world\"\n",
    "#Check if the string ends with 'world':\n",
    "x = re.findall(\"world$\", str)"
   ]
  },
  {
   "cell_type": "markdown",
   "metadata": {},
   "source": [
    "#### * - Zero or more occurences"
   ]
  },
  {
   "cell_type": "code",
   "execution_count": 9,
   "metadata": {
    "ExecuteTime": {
     "end_time": "2019-07-04T09:33:35.870213Z",
     "start_time": "2019-07-04T09:33:35.864235Z"
    }
   },
   "outputs": [
    {
     "data": {
      "text/plain": [
       "['ai', 'ai', 'ai', 'ai']"
      ]
     },
     "execution_count": 9,
     "metadata": {},
     "output_type": "execute_result"
    }
   ],
   "source": [
    "str = \"The rain in Spain falls mainly in the plain!\"\n",
    "#Check if the string contains \"ai\" followed by 0 or more \"x\" characters:\n",
    "x = re.findall(\"aix*\", str)\n",
    "x"
   ]
  },
  {
   "cell_type": "markdown",
   "metadata": {},
   "source": [
    "#### + - One or more occurences"
   ]
  },
  {
   "cell_type": "code",
   "execution_count": 13,
   "metadata": {
    "ExecuteTime": {
     "end_time": "2019-07-04T09:39:20.061278Z",
     "start_time": "2019-07-04T09:39:20.055282Z"
    }
   },
   "outputs": [
    {
     "data": {
      "text/plain": [
       "['ly']"
      ]
     },
     "execution_count": 13,
     "metadata": {},
     "output_type": "execute_result"
    }
   ],
   "source": [
    "str = \"The rain in Spain falls mainly in the plain!\"\n",
    "#Check if the string contains \"ai\" followed by 1 or more \"x\" characters:\n",
    "x = re.findall(\"ly+\", str)\n",
    "x"
   ]
  },
  {
   "cell_type": "markdown",
   "metadata": {},
   "source": [
    "#### {} - Exact the number of occurences"
   ]
  },
  {
   "cell_type": "code",
   "execution_count": 7,
   "metadata": {
    "ExecuteTime": {
     "end_time": "2019-07-09T07:07:57.587632Z",
     "start_time": "2019-07-09T07:07:57.581635Z"
    }
   },
   "outputs": [
    {
     "data": {
      "text/plain": [
       "['aall']"
      ]
     },
     "execution_count": 7,
     "metadata": {},
     "output_type": "execute_result"
    }
   ],
   "source": [
    "str = \"The rain in Spain falls mainly in the plain! aall\"\n",
    "#Check if the string contains \"a\" followed by exactly two \"l\" characters:\n",
    "x = re.findall(\"a{2}l{2}$\", str)\n",
    "x"
   ]
  },
  {
   "cell_type": "markdown",
   "metadata": {},
   "source": [
    "#### | - Either Or"
   ]
  },
  {
   "cell_type": "code",
   "execution_count": 16,
   "metadata": {
    "ExecuteTime": {
     "end_time": "2019-07-04T09:40:40.053726Z",
     "start_time": "2019-07-04T09:40:40.048711Z"
    }
   },
   "outputs": [
    {
     "data": {
      "text/plain": [
       "['falls']"
      ]
     },
     "execution_count": 16,
     "metadata": {},
     "output_type": "execute_result"
    }
   ],
   "source": [
    "str = \"The rain in Spain falls mainly in the plain!\"\n",
    "#Check if the string contains either \"falls\" or \"stays\":\n",
    "x = re.findall(\"falls|stays\", str)\n",
    "x"
   ]
  },
  {
   "cell_type": "markdown",
   "metadata": {},
   "source": [
    "------------"
   ]
  },
  {
   "cell_type": "markdown",
   "metadata": {},
   "source": [
    "### Special Sequences\n",
    "\n",
    "A special sequence is a \\ followed by one of the characters in the list below,"
   ]
  },
  {
   "cell_type": "markdown",
   "metadata": {},
   "source": [
    "####  \\A  - Beginning "
   ]
  },
  {
   "cell_type": "code",
   "execution_count": 20,
   "metadata": {
    "ExecuteTime": {
     "end_time": "2019-07-04T10:01:34.530491Z",
     "start_time": "2019-07-04T10:01:34.524503Z"
    }
   },
   "outputs": [
    {
     "data": {
      "text/plain": [
       "['The']"
      ]
     },
     "execution_count": 20,
     "metadata": {},
     "output_type": "execute_result"
    }
   ],
   "source": [
    "str = \"The rain in Spain\"\n",
    "#Check if the string starts with \"The\":\n",
    "x = re.findall(\"\\AThe\", str)\n",
    "# x = re.findall(\"\\Spain\", str)\n",
    "x"
   ]
  },
  {
   "cell_type": "markdown",
   "metadata": {},
   "source": [
    "####  \\b - Beginning or End of a word "
   ]
  },
  {
   "cell_type": "code",
   "execution_count": 23,
   "metadata": {
    "ExecuteTime": {
     "end_time": "2019-07-04T10:07:23.117059Z",
     "start_time": "2019-07-04T10:07:23.109064Z"
    }
   },
   "outputs": [
    {
     "data": {
      "text/plain": [
       "([], ['ain', 'ain'])"
      ]
     },
     "execution_count": 23,
     "metadata": {},
     "output_type": "execute_result"
    }
   ],
   "source": [
    "str = \"The rain in Spain\"\n",
    "#Check if \"ain\" is present at the beginning of a WORD:\n",
    "x = re.findall(r\"\\bain\", str)\n",
    "\n",
    "#Check if \"ain\" is present at the end of a WORD:\n",
    "y = re.findall(r\"ain\\b\", str)\n",
    "\n",
    "x, y"
   ]
  },
  {
   "cell_type": "markdown",
   "metadata": {},
   "source": [
    "####  \\B - NOT at the beginning or at the end"
   ]
  },
  {
   "cell_type": "code",
   "execution_count": 30,
   "metadata": {
    "ExecuteTime": {
     "end_time": "2019-07-04T10:13:27.244988Z",
     "start_time": "2019-07-04T10:13:27.238994Z"
    }
   },
   "outputs": [
    {
     "data": {
      "text/plain": [
       "(['ain', 'ain'], [])"
      ]
     },
     "execution_count": 30,
     "metadata": {},
     "output_type": "execute_result"
    }
   ],
   "source": [
    "str = \"The rain in Spain\"\n",
    "\n",
    "#Check if \"ain\" is present, but NOT at the beginning of a word:\n",
    "x = re.findall(r\"\\Bain\", str)\n",
    "\n",
    "#Check if \"ain\" is present, but NOT at the end of a word:\n",
    "y = re.findall(r\"ain\\B\", str)\n",
    "\n",
    "x,y"
   ]
  },
  {
   "cell_type": "markdown",
   "metadata": {},
   "source": [
    "####  \\d - Digits"
   ]
  },
  {
   "cell_type": "code",
   "execution_count": 32,
   "metadata": {
    "ExecuteTime": {
     "end_time": "2019-07-04T10:14:25.184711Z",
     "start_time": "2019-07-04T10:14:25.178699Z"
    }
   },
   "outputs": [
    {
     "data": {
      "text/plain": [
       "['8']"
      ]
     },
     "execution_count": 32,
     "metadata": {},
     "output_type": "execute_result"
    }
   ],
   "source": [
    "str = \"The rain in Spain 8\"\n",
    "#Check if the string contains any digits (numbers from 0-9):\n",
    "x = re.findall(\"\\d\", str)\n",
    "x"
   ]
  },
  {
   "cell_type": "markdown",
   "metadata": {},
   "source": [
    "####  \\s - white space character"
   ]
  },
  {
   "cell_type": "code",
   "execution_count": 33,
   "metadata": {
    "ExecuteTime": {
     "end_time": "2019-07-04T10:15:04.320978Z",
     "start_time": "2019-07-04T10:15:04.314980Z"
    }
   },
   "outputs": [
    {
     "data": {
      "text/plain": [
       "[' ', ' ', ' ']"
      ]
     },
     "execution_count": 33,
     "metadata": {},
     "output_type": "execute_result"
    }
   ],
   "source": [
    "str = \"The rain in Spain\"\n",
    "#Return a match at every white-space character:\n",
    "x = re.findall(\"\\s\", str)\n",
    "x"
   ]
  },
  {
   "cell_type": "markdown",
   "metadata": {},
   "source": [
    "####  \\S - NOT a white space character"
   ]
  },
  {
   "cell_type": "code",
   "execution_count": 34,
   "metadata": {
    "ExecuteTime": {
     "end_time": "2019-07-04T11:02:10.542774Z",
     "start_time": "2019-07-04T11:02:10.535778Z"
    }
   },
   "outputs": [
    {
     "data": {
      "text/plain": [
       "['T', 'h', 'e', 'r', 'a', 'i', 'n', 'i', 'n', 'S', 'p', 'a', 'i', 'n']"
      ]
     },
     "execution_count": 34,
     "metadata": {},
     "output_type": "execute_result"
    }
   ],
   "source": [
    "str = \"The rain in Spain\"\n",
    "#Return a match at every NON white-space character:\n",
    "x = re.findall(\"\\S\", str)\n",
    "x"
   ]
  },
  {
   "cell_type": "markdown",
   "metadata": {},
   "source": [
    "####  \\w - Contains any word characters\n",
    "characters from a to Z, digits from 0-9, and the underscore _ character"
   ]
  },
  {
   "cell_type": "code",
   "execution_count": 38,
   "metadata": {
    "ExecuteTime": {
     "end_time": "2019-07-04T11:03:41.533841Z",
     "start_time": "2019-07-04T11:03:41.526864Z"
    }
   },
   "outputs": [
    {
     "data": {
      "text/plain": [
       "['T', 'h', 'e', 'r', 'a', 'i', 'n', 'i', 'n', 'S', 'p', 'a', 'i', 'n', '8']"
      ]
     },
     "execution_count": 38,
     "metadata": {},
     "output_type": "execute_result"
    }
   ],
   "source": [
    "str = \"The rain in Spain 8\"\n",
    "#Return a match at every word character (characters from a to Z, digits from 0-9, and the underscore _ character):\n",
    "x = re.findall(\"\\w\", str)\n",
    "x"
   ]
  },
  {
   "cell_type": "markdown",
   "metadata": {},
   "source": [
    "####  \\W - Does NOT contains any word characters\n",
    "word characters -> characters from a to Z, digits from 0-9, and the underscore _ character"
   ]
  },
  {
   "cell_type": "code",
   "execution_count": 41,
   "metadata": {
    "ExecuteTime": {
     "end_time": "2019-07-04T11:04:58.729905Z",
     "start_time": "2019-07-04T11:04:58.723909Z"
    }
   },
   "outputs": [
    {
     "data": {
      "text/plain": [
       "[' ', ' ', ' ', ' ', ' ', '*', ' ', '#']"
      ]
     },
     "execution_count": 41,
     "metadata": {},
     "output_type": "execute_result"
    }
   ],
   "source": [
    "str = \"The rain in Spain 8 * #\"\n",
    "#Return a match at every NON word character (characters NOT between a and Z. Like \"!\", \"?\" white-space etc.):\n",
    "x = re.findall(\"\\W\", str)\n",
    "x"
   ]
  },
  {
   "cell_type": "markdown",
   "metadata": {},
   "source": [
    "####  \\Z - end"
   ]
  },
  {
   "cell_type": "code",
   "execution_count": 47,
   "metadata": {
    "ExecuteTime": {
     "end_time": "2019-07-04T12:05:45.984992Z",
     "start_time": "2019-07-04T12:05:45.977996Z"
    }
   },
   "outputs": [
    {
     "data": {
      "text/plain": [
       "['Spain']"
      ]
     },
     "execution_count": 47,
     "metadata": {},
     "output_type": "execute_result"
    }
   ],
   "source": [
    "str = \"The rain in Spain\"\n",
    "#Check if the string ends with \"Spain\":\n",
    "x = re.findall(\"Spain\\Z\", str)\n",
    "x"
   ]
  },
  {
   "cell_type": "markdown",
   "metadata": {},
   "source": [
    "------------"
   ]
  },
  {
   "cell_type": "markdown",
   "metadata": {},
   "source": [
    "### Sets\n",
    "\n",
    "A set is a set of characters inside a pair of square brackets [] with a special meaning:"
   ]
  },
  {
   "cell_type": "markdown",
   "metadata": {},
   "source": [
    "#### - one of the specified characters"
   ]
  },
  {
   "cell_type": "code",
   "execution_count": 67,
   "metadata": {
    "ExecuteTime": {
     "end_time": "2019-07-04T12:32:16.429098Z",
     "start_time": "2019-07-04T12:32:16.422102Z"
    }
   },
   "outputs": [
    {
     "data": {
      "text/plain": [
       "['T', 'r', 'p', '8']"
      ]
     },
     "execution_count": 67,
     "metadata": {},
     "output_type": "execute_result"
    }
   ],
   "source": [
    "str = \"The rain in Spain 8\"\n",
    "# Check if the string has any (s, p ,r, T, 9)\n",
    "x = re.findall(\"[sprT8]\", str)\n",
    "x"
   ]
  },
  {
   "cell_type": "markdown",
   "metadata": {},
   "source": [
    "#### - any lower case character between specified"
   ]
  },
  {
   "cell_type": "code",
   "execution_count": 64,
   "metadata": {
    "ExecuteTime": {
     "end_time": "2019-07-04T12:30:30.530926Z",
     "start_time": "2019-07-04T12:30:30.523930Z"
    }
   },
   "outputs": [
    {
     "data": {
      "text/plain": [
       "['e', 'a', 'a']"
      ]
     },
     "execution_count": 64,
     "metadata": {},
     "output_type": "execute_result"
    }
   ],
   "source": [
    "str = \"The rain in Spain\"\n",
    "#Check if the string has any characters between a and e:\n",
    "x = re.findall(\"[a-e]\", str)\n",
    "x"
   ]
  },
  {
   "cell_type": "markdown",
   "metadata": {},
   "source": [
    "#### - any character EXCEPT"
   ]
  },
  {
   "cell_type": "code",
   "execution_count": 62,
   "metadata": {
    "ExecuteTime": {
     "end_time": "2019-07-04T12:29:55.734552Z",
     "start_time": "2019-07-04T12:29:55.728574Z"
    }
   },
   "outputs": [
    {
     "data": {
      "text/plain": [
       "['T', ' ', ' ', ' ', 'S']"
      ]
     },
     "execution_count": 62,
     "metadata": {},
     "output_type": "execute_result"
    }
   ],
   "source": [
    "str = \"The rain in Spain\"\n",
    "#Check if the string ends with \"Spain\":\n",
    "x = re.findall(\"[^a-r]\", str)\n",
    "x"
   ]
  },
  {
   "cell_type": "markdown",
   "metadata": {},
   "source": [
    "#### - any digits between specified "
   ]
  },
  {
   "cell_type": "code",
   "execution_count": 74,
   "metadata": {
    "ExecuteTime": {
     "end_time": "2019-07-04T12:37:01.895904Z",
     "start_time": "2019-07-04T12:37:01.890906Z"
    }
   },
   "outputs": [
    {
     "data": {
      "text/plain": [
       "['1', '2', '3', '4']"
      ]
     },
     "execution_count": 74,
     "metadata": {},
     "output_type": "execute_result"
    }
   ],
   "source": [
    "str = \"The rain in Spain 12346768\"\n",
    "#Check if the string ends with \"Spain\":\n",
    "x = re.findall(\"[0-4]\", str)\n",
    "x"
   ]
  },
  {
   "cell_type": "markdown",
   "metadata": {},
   "source": [
    "#### - any two-digit numbers from 00 and 59"
   ]
  },
  {
   "cell_type": "code",
   "execution_count": 73,
   "metadata": {
    "ExecuteTime": {
     "end_time": "2019-07-04T12:36:48.100303Z",
     "start_time": "2019-07-04T12:36:48.094307Z"
    }
   },
   "outputs": [
    {
     "data": {
      "text/plain": [
       "['11', '45']"
      ]
     },
     "execution_count": 73,
     "metadata": {},
     "output_type": "execute_result"
    }
   ],
   "source": [
    "str = \"8 times before 11:45 AM\"\n",
    "#Check if the string has any two-digit numbers, from 00 to 59:\n",
    "x = re.findall(\"[0-5][0-9]\", str)\n",
    "x"
   ]
  },
  {
   "cell_type": "markdown",
   "metadata": {
    "ExecuteTime": {
     "end_time": "2019-07-04T12:42:47.035633Z",
     "start_time": "2019-07-04T12:42:47.031638Z"
    }
   },
   "source": [
    "#### - any character combination alphabetically"
   ]
  },
  {
   "cell_type": "code",
   "execution_count": 79,
   "metadata": {
    "ExecuteTime": {
     "end_time": "2019-07-04T12:43:42.081607Z",
     "start_time": "2019-07-04T12:43:42.075611Z"
    }
   },
   "outputs": [
    {
     "data": {
      "text/plain": [
       "['t', 'i', 'm', 'e', 's', 'b', 'e', 'f', 'o', 'r', 'e', 'A', 'M']"
      ]
     },
     "execution_count": 79,
     "metadata": {},
     "output_type": "execute_result"
    }
   ],
   "source": [
    "str = \"8 times before 11:45 AM\"\n",
    "#Check if the string has any characters from a to z lower case, and A to Z upper case:\n",
    "x = re.findall(\"[a-zA-Z]\", str)\n",
    "x"
   ]
  },
  {
   "cell_type": "markdown",
   "metadata": {
    "ExecuteTime": {
     "end_time": "2019-07-04T12:42:47.035633Z",
     "start_time": "2019-07-04T12:42:47.031638Z"
    }
   },
   "source": [
    "#### - special characters\n",
    "\n",
    "In sets, +, *, ., |, (), $,{} has no special meaning, so [+] means: return a match for any + character in the string"
   ]
  },
  {
   "cell_type": "code",
   "execution_count": 82,
   "metadata": {
    "ExecuteTime": {
     "end_time": "2019-07-04T12:44:34.934258Z",
     "start_time": "2019-07-04T12:44:34.928263Z"
    }
   },
   "outputs": [
    {
     "data": {
      "text/plain": [
       "['*', '#']"
      ]
     },
     "execution_count": 82,
     "metadata": {},
     "output_type": "execute_result"
    }
   ],
   "source": [
    "str = \"8 times before 11:45 AM * # \"\n",
    "#Check if the string has any characters from a to z lower case, and A to Z upper case:\n",
    "x = re.findall(\"[*#]\", str)\n",
    "x"
   ]
  }
 ],
 "metadata": {
  "kernelspec": {
   "display_name": "Python 3",
   "language": "python",
   "name": "python3"
  },
  "language_info": {
   "codemirror_mode": {
    "name": "ipython",
    "version": 3
   },
   "file_extension": ".py",
   "mimetype": "text/x-python",
   "name": "python",
   "nbconvert_exporter": "python",
   "pygments_lexer": "ipython3",
   "version": "3.7.0"
  },
  "toc": {
   "base_numbering": 1,
   "nav_menu": {},
   "number_sections": true,
   "sideBar": true,
   "skip_h1_title": false,
   "title_cell": "Table of Contents",
   "title_sidebar": "Contents",
   "toc_cell": false,
   "toc_position": {},
   "toc_section_display": true,
   "toc_window_display": true
  },
  "varInspector": {
   "cols": {
    "lenName": 16,
    "lenType": 16,
    "lenVar": 40
   },
   "kernels_config": {
    "python": {
     "delete_cmd_postfix": "",
     "delete_cmd_prefix": "del ",
     "library": "var_list.py",
     "varRefreshCmd": "print(var_dic_list())"
    },
    "r": {
     "delete_cmd_postfix": ") ",
     "delete_cmd_prefix": "rm(",
     "library": "var_list.r",
     "varRefreshCmd": "cat(var_dic_list()) "
    }
   },
   "types_to_exclude": [
    "module",
    "function",
    "builtin_function_or_method",
    "instance",
    "_Feature"
   ],
   "window_display": false
  }
 },
 "nbformat": 4,
 "nbformat_minor": 2
}
