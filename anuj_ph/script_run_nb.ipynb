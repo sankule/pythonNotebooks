{
 "cells": [
  {
   "cell_type": "code",
   "execution_count": 1,
   "metadata": {
    "ExecuteTime": {
     "end_time": "2020-06-09T16:04:29.882200Z",
     "start_time": "2020-06-09T16:04:23.237605Z"
    },
    "scrolled": false
   },
   "outputs": [
    {
     "name": "stderr",
     "output_type": "stream",
     "text": [
      "C:\\Users\\SwaritSankule\\Anaconda3\\lib\\site-packages\\fuzzywuzzy\\fuzz.py:11: UserWarning: Using slow pure-python SequenceMatcher. Install python-Levenshtein to remove this warning\n",
      "  warnings.warn('Using slow pure-python SequenceMatcher. Install python-Levenshtein to remove this warning')\n"
     ]
    },
    {
     "name": "stdout",
     "output_type": "stream",
     "text": [
      "Libraries Imported\n",
      "AnujPharma_enhancement_v1\n",
      "Creating Object...\n",
      "Reading Billing Report ======>> BillingReport_.XLS\n",
      "Reading Dispatch Report ======>> DispatchReport_.XLS\n",
      "-------------------------------------------\n",
      "\n",
      "\n",
      "Cleaned Billing Report Saved!\n",
      "Cleaned Dispatch Report Saved!\n",
      "-------------------------------------------\n",
      "\n",
      "\n",
      "Mapping correct drug names....\n",
      "Drug Mapping changed using 'drug_mapping' Excel | Proceeding ...\n",
      "Drugs in Billing Report not matched with Dispatch Report >>>\n",
      "T-SHIRT GRINDER\n",
      "T-SHIRT J.D.I.\n",
      "T-SHIRT T90\n",
      "T-SHIRT UR\n",
      "LOWER 200\n",
      "LOWER NS\n",
      "LOWER PLAIN 4 WAY\n",
      "T-SHIRT SUD KNITS POLO\n",
      "T-SHIRT SUD KNITS WHITE RDK\n",
      "T-SHIRTS NKE MESH DESIGN\n",
      "TRACK SUIT 4 WAY\n",
      "JACKET PLAYBIRD\n",
      "JACKET SHORT PATTERN\n",
      "LOWER + T-SHIRT SET 5658\n",
      "LOWER 5559\n",
      "LOWER 5560\n",
      "LOWER 5561\n",
      "LOWER 5568\n",
      "LOWER 5592\n",
      "LOWER 5594\n",
      "LOWER 5603\n",
      "LOWER 5606\n",
      "LOWER 5616\n",
      "LOWER 5627\n",
      "LOWER 5634\n",
      "LOWER 5640\n",
      "LOWER 5643\n",
      "S.B. 5569\n",
      "T-SHIRT\n",
      "T-SHIRT 5597\n",
      "T-SHIRT 5598\n",
      "T-SHIRT GIRLS NIKE\n",
      "T-SHIRT MIX SPORTS\n",
      "T-SHIRT SUD KNITS DOUBLE COLO\n",
      "T-SHIRT COLOR\n",
      "T-SHIRT PLAIN NKE IN 213/280\n",
      "T-SHIRT SUD KNITS COLOURED RD\n",
      "TRACK SUIT NS\n",
      "DERBY LONG GENTS COSTUME\n",
      "DERBY SWIMMING/SKATING COSTUM\n",
      "LOWER 5514\n",
      "SWIMMING CAPS PRINTED\n",
      "JACKETS ATHLEO DRYFIT\n",
      "JACKETS SMALL SIZE\n",
      "LOWER 5562\n",
      "LOWER 5564\n",
      "LOWER 5665\n",
      "LOWER 5686\n",
      "LOWER DRY FIT\n",
      "LOWER MILLITARY\n",
      "LOWER MIX PATTERNS\n",
      "SAMPLES\n",
      "T-SHIRT 5593\n",
      "T-SHIRT 5635\n",
      "T-SHIRT 6556\n",
      "T-SHIRT COSA\n",
      "CROP JACKET 5704\n",
      "LOWER + T-SHIRT SET 5695\n",
      "LOWER 5557\n",
      "LOWER 5570\n",
      "LOWER 5722\n",
      "LOWER 5726\n",
      "LOWER 5731\n",
      "-------------------------------------------\n",
      "\n",
      "\n",
      "Hospital Mapping changed using 'hospital_mapping' Excel | Proceeding ...\n",
      "List of billing hospital names not matching in dispatch data >>> \n",
      "SUKH GARMENTS-BHOPAL\n",
      "JEET SPORTS-BHOPAL\n",
      "LUCKY COSMETICS-BHOPAL\n",
      "ASHOK GENERAL STORES-BHOPAL\n",
      "JITESH GARMENTS-BHOPAL\n",
      "JSM SPORTS AND TROPHIES-BHOPAL\n",
      "KESHAV GARMENTS\n",
      "NEW SPORTS POINT INDORE-INDORE\n",
      "DK ENTERPRISES\n",
      "CASH - MAIN\n",
      "UNIQUE SPORTS\n",
      "MP SPORTS-JABALPUR\n",
      "\n",
      "\n",
      "-------------------------------------------\n",
      "Number of Hospital in Billing ==> 28\n",
      "Number of Hospital in Dispatch ==> 28\n",
      "Number of Hospital Matching ==> 16\n",
      "-------------------------------------------\n",
      "\n",
      "\n",
      "Process complete!  |  Validate Outputs\n",
      "Execution Time ==> 00:04.22\n"
     ]
    },
    {
     "data": {
      "text/plain": [
       "0"
      ]
     },
     "execution_count": 1,
     "metadata": {},
     "output_type": "execute_result"
    }
   ],
   "source": [
    "import AnujPharma_enhancement_v1\n",
    "py_obj = AnujPharma_enhancement_v1.Class_DW()\n",
    "py_obj.python_script_func()"
   ]
  },
  {
   "cell_type": "code",
   "execution_count": null,
   "metadata": {},
   "outputs": [],
   "source": []
  }
 ],
 "metadata": {
  "kernelspec": {
   "display_name": "Python 3",
   "language": "python",
   "name": "python3"
  },
  "language_info": {
   "codemirror_mode": {
    "name": "ipython",
    "version": 3
   },
   "file_extension": ".py",
   "mimetype": "text/x-python",
   "name": "python",
   "nbconvert_exporter": "python",
   "pygments_lexer": "ipython3",
   "version": "3.7.4"
  },
  "toc": {
   "base_numbering": 1,
   "nav_menu": {},
   "number_sections": true,
   "sideBar": true,
   "skip_h1_title": false,
   "title_cell": "Table of Contents",
   "title_sidebar": "Contents",
   "toc_cell": false,
   "toc_position": {},
   "toc_section_display": true,
   "toc_window_display": false
  },
  "varInspector": {
   "cols": {
    "lenName": 16,
    "lenType": 16,
    "lenVar": 40
   },
   "kernels_config": {
    "python": {
     "delete_cmd_postfix": "",
     "delete_cmd_prefix": "del ",
     "library": "var_list.py",
     "varRefreshCmd": "print(var_dic_list())"
    },
    "r": {
     "delete_cmd_postfix": ") ",
     "delete_cmd_prefix": "rm(",
     "library": "var_list.r",
     "varRefreshCmd": "cat(var_dic_list()) "
    }
   },
   "types_to_exclude": [
    "module",
    "function",
    "builtin_function_or_method",
    "instance",
    "_Feature"
   ],
   "window_display": false
  }
 },
 "nbformat": 4,
 "nbformat_minor": 2
}
