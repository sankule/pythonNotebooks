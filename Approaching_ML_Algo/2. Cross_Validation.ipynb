{
 "cells": [
  {
   "cell_type": "code",
   "execution_count": 1,
   "metadata": {},
   "outputs": [],
   "source": [
    "import matplotlib\n",
    "import matplotlib.pyplot as plt\n",
    "import numpy as np\n",
    "import pandas as pd\n",
    "import seaborn as sns\n",
    "\n",
    "from sklearn import datasets\n",
    "from sklearn import manifold\n",
    "\n",
    "# from IPython.core.interactiveshell import InteractiveShell\n",
    "# InteractiveShell.ast_node_interactivity = \"last\"\n",
    "\n",
    "pd.set_option('display.max_rows', 500)\n",
    "pd.set_option('display.max_columns', 500)\n",
    "\n",
    "%matplotlib inline"
   ]
  },
  {
   "cell_type": "markdown",
   "metadata": {},
   "source": [
    "-----\n",
    "Cross-Validation is a step in the process of building a machine learning model which  helps us ensure that our models fit the data accurately and also ensures that we do  not overfit. But this leads to another term: **Overfitting**"
   ]
  },
  {
   "cell_type": "code",
   "execution_count": 2,
   "metadata": {},
   "outputs": [],
   "source": [
    "df = pd.read_csv(\"Data/winequality-red.csv\", sep=';') "
   ]
  },
  {
   "cell_type": "code",
   "execution_count": 3,
   "metadata": {},
   "outputs": [
    {
     "data": {
      "text/html": [
       "<div>\n",
       "<style scoped>\n",
       "    .dataframe tbody tr th:only-of-type {\n",
       "        vertical-align: middle;\n",
       "    }\n",
       "\n",
       "    .dataframe tbody tr th {\n",
       "        vertical-align: top;\n",
       "    }\n",
       "\n",
       "    .dataframe thead th {\n",
       "        text-align: right;\n",
       "    }\n",
       "</style>\n",
       "<table border=\"1\" class=\"dataframe\">\n",
       "  <thead>\n",
       "    <tr style=\"text-align: right;\">\n",
       "      <th></th>\n",
       "      <th>fixed acidity</th>\n",
       "      <th>volatile acidity</th>\n",
       "      <th>citric acid</th>\n",
       "      <th>residual sugar</th>\n",
       "      <th>chlorides</th>\n",
       "      <th>free sulfur dioxide</th>\n",
       "      <th>total sulfur dioxide</th>\n",
       "      <th>density</th>\n",
       "      <th>pH</th>\n",
       "      <th>sulphates</th>\n",
       "      <th>alcohol</th>\n",
       "      <th>quality</th>\n",
       "    </tr>\n",
       "  </thead>\n",
       "  <tbody>\n",
       "    <tr>\n",
       "      <th>0</th>\n",
       "      <td>7.4</td>\n",
       "      <td>0.70</td>\n",
       "      <td>0.00</td>\n",
       "      <td>1.9</td>\n",
       "      <td>0.076</td>\n",
       "      <td>11.0</td>\n",
       "      <td>34.0</td>\n",
       "      <td>0.9978</td>\n",
       "      <td>3.51</td>\n",
       "      <td>0.56</td>\n",
       "      <td>9.4</td>\n",
       "      <td>5</td>\n",
       "    </tr>\n",
       "    <tr>\n",
       "      <th>1</th>\n",
       "      <td>7.8</td>\n",
       "      <td>0.88</td>\n",
       "      <td>0.00</td>\n",
       "      <td>2.6</td>\n",
       "      <td>0.098</td>\n",
       "      <td>25.0</td>\n",
       "      <td>67.0</td>\n",
       "      <td>0.9968</td>\n",
       "      <td>3.20</td>\n",
       "      <td>0.68</td>\n",
       "      <td>9.8</td>\n",
       "      <td>5</td>\n",
       "    </tr>\n",
       "    <tr>\n",
       "      <th>2</th>\n",
       "      <td>7.8</td>\n",
       "      <td>0.76</td>\n",
       "      <td>0.04</td>\n",
       "      <td>2.3</td>\n",
       "      <td>0.092</td>\n",
       "      <td>15.0</td>\n",
       "      <td>54.0</td>\n",
       "      <td>0.9970</td>\n",
       "      <td>3.26</td>\n",
       "      <td>0.65</td>\n",
       "      <td>9.8</td>\n",
       "      <td>5</td>\n",
       "    </tr>\n",
       "    <tr>\n",
       "      <th>3</th>\n",
       "      <td>11.2</td>\n",
       "      <td>0.28</td>\n",
       "      <td>0.56</td>\n",
       "      <td>1.9</td>\n",
       "      <td>0.075</td>\n",
       "      <td>17.0</td>\n",
       "      <td>60.0</td>\n",
       "      <td>0.9980</td>\n",
       "      <td>3.16</td>\n",
       "      <td>0.58</td>\n",
       "      <td>9.8</td>\n",
       "      <td>6</td>\n",
       "    </tr>\n",
       "    <tr>\n",
       "      <th>4</th>\n",
       "      <td>7.4</td>\n",
       "      <td>0.70</td>\n",
       "      <td>0.00</td>\n",
       "      <td>1.9</td>\n",
       "      <td>0.076</td>\n",
       "      <td>11.0</td>\n",
       "      <td>34.0</td>\n",
       "      <td>0.9978</td>\n",
       "      <td>3.51</td>\n",
       "      <td>0.56</td>\n",
       "      <td>9.4</td>\n",
       "      <td>5</td>\n",
       "    </tr>\n",
       "  </tbody>\n",
       "</table>\n",
       "</div>"
      ],
      "text/plain": [
       "   fixed acidity  volatile acidity  citric acid  residual sugar  chlorides  \\\n",
       "0            7.4              0.70         0.00             1.9      0.076   \n",
       "1            7.8              0.88         0.00             2.6      0.098   \n",
       "2            7.8              0.76         0.04             2.3      0.092   \n",
       "3           11.2              0.28         0.56             1.9      0.075   \n",
       "4            7.4              0.70         0.00             1.9      0.076   \n",
       "\n",
       "   free sulfur dioxide  total sulfur dioxide  density    pH  sulphates  \\\n",
       "0                 11.0                  34.0   0.9978  3.51       0.56   \n",
       "1                 25.0                  67.0   0.9968  3.20       0.68   \n",
       "2                 15.0                  54.0   0.9970  3.26       0.65   \n",
       "3                 17.0                  60.0   0.9980  3.16       0.58   \n",
       "4                 11.0                  34.0   0.9978  3.51       0.56   \n",
       "\n",
       "   alcohol  quality  \n",
       "0      9.4        5  \n",
       "1      9.8        5  \n",
       "2      9.8        5  \n",
       "3      9.8        6  \n",
       "4      9.4        5  "
      ]
     },
     "execution_count": 3,
     "metadata": {},
     "output_type": "execute_result"
    }
   ],
   "source": [
    "df.shape\n",
    "df.head()"
   ]
  },
  {
   "cell_type": "markdown",
   "metadata": {},
   "source": [
    "We will thus map all quality values from 0 to 5"
   ]
  },
  {
   "cell_type": "code",
   "execution_count": 4,
   "metadata": {},
   "outputs": [
    {
     "data": {
      "text/plain": [
       "3     10\n",
       "4     53\n",
       "5    681\n",
       "6    638\n",
       "7    199\n",
       "8     18\n",
       "Name: quality, dtype: int64"
      ]
     },
     "execution_count": 4,
     "metadata": {},
     "output_type": "execute_result"
    }
   ],
   "source": [
    "df['quality'].value_counts().sort_index()"
   ]
  },
  {
   "cell_type": "code",
   "execution_count": 5,
   "metadata": {},
   "outputs": [],
   "source": [
    "quality_mapping = {  3: 0,  4: 1,  5: 2,  6: 3,  7: 4,  8: 5  } "
   ]
  },
  {
   "cell_type": "code",
   "execution_count": 6,
   "metadata": {},
   "outputs": [],
   "source": [
    "df.loc[:, \"quality\"] = df.quality.map(quality_mapping)"
   ]
  },
  {
   "cell_type": "code",
   "execution_count": 7,
   "metadata": {},
   "outputs": [
    {
     "data": {
      "text/plain": [
       "0     10\n",
       "1     53\n",
       "2    681\n",
       "3    638\n",
       "4    199\n",
       "5     18\n",
       "Name: quality, dtype: int64"
      ]
     },
     "execution_count": 7,
     "metadata": {},
     "output_type": "execute_result"
    }
   ],
   "source": [
    "df['quality'].value_counts().sort_index()"
   ]
  },
  {
   "cell_type": "markdown",
   "metadata": {},
   "source": [
    "---\n",
    "Train - Test Split"
   ]
  },
  {
   "cell_type": "code",
   "execution_count": 8,
   "metadata": {},
   "outputs": [],
   "source": [
    "#use sample with frac=1 to shuffle the dataframe we reset the indices \n",
    "# since they change after shuffling the dataframe  \n",
    "df = df.sample(frac=1).reset_index(drop=True)  \n",
    "\n",
    "#top 1000 rows are selected for training  \n",
    "df_train = df.head(1000)  \n",
    "\n",
    "#bottom 599 values are selected for testing/validation \n",
    "df_test = df.tail(599)"
   ]
  },
  {
   "cell_type": "markdown",
   "metadata": {},
   "source": [
    "----\n",
    "Decision Tree Training\n"
   ]
  },
  {
   "cell_type": "code",
   "execution_count": 9,
   "metadata": {},
   "outputs": [
    {
     "data": {
      "text/plain": [
       "DecisionTreeClassifier(class_weight=None, criterion='gini', max_depth=7,\n",
       "                       max_features=None, max_leaf_nodes=None,\n",
       "                       min_impurity_decrease=0.0, min_impurity_split=None,\n",
       "                       min_samples_leaf=1, min_samples_split=2,\n",
       "                       min_weight_fraction_leaf=0.0, presort=False,\n",
       "                       random_state=None, splitter='best')"
      ]
     },
     "execution_count": 9,
     "metadata": {},
     "output_type": "execute_result"
    }
   ],
   "source": [
    "#import from scikit-learn  \n",
    "from sklearn import tree  \n",
    "from sklearn import metrics  \n",
    "\n",
    "#initialize decision tree classifier class with a max_depth of 3  \n",
    "# clf = tree.DecisionTreeClassifier(max_depth=3)\n",
    "clf = tree.DecisionTreeClassifier(max_depth=7)\n",
    "\n",
    "#choose the columns you want to train on these are the features for the model  \n",
    "cols = ['fixed acidity',  'volatile acidity',  'citric acid', 'residual sugar',\n",
    "        'chlorides',  'free sulfur dioxide',  'total sulfur dioxide',  'density',\n",
    "        'pH',  'sulphates',  'alcohol']  \n",
    "\n",
    "#train the model on the provided features  and mapped quality from before  \n",
    "clf.fit(df_train[cols], df_train.quality) "
   ]
  },
  {
   "cell_type": "code",
   "execution_count": 10,
   "metadata": {},
   "outputs": [],
   "source": [
    "#generate predictions on the training set  \n",
    "train_predictions = clf.predict(df_train[cols])  \n",
    "\n",
    "#generate predictions on the test set  \n",
    "test_predictions = clf.predict(df_test[cols])  \n",
    "\n",
    "#calculate the accuracy of predictions on training data set  \n",
    "train_accuracy = metrics.accuracy_score(df_train.quality, train_predictions) \n",
    "\n",
    "#calculate the accuracy of predictions on test data set  \n",
    "test_accuracy = metrics.accuracy_score(df_test.quality, test_predictions) "
   ]
  },
  {
   "cell_type": "code",
   "execution_count": 11,
   "metadata": {},
   "outputs": [
    {
     "data": {
      "text/plain": [
       "0.5876460767946577"
      ]
     },
     "execution_count": 11,
     "metadata": {},
     "output_type": "execute_result"
    }
   ],
   "source": [
    "train_accuracy\n",
    "test_accuracy"
   ]
  },
  {
   "cell_type": "markdown",
   "metadata": {},
   "source": [
    "---"
   ]
  },
  {
   "cell_type": "code",
   "execution_count": 12,
   "metadata": {},
   "outputs": [],
   "source": [
    "#this is our global size of label text on the plots  \n",
    "matplotlib.rc('xtick', labelsize=20)  \n",
    "matplotlib.rc('ytick', labelsize=20)  \n",
    "\n",
    "#This line ensures that the plot is displayed inside the notebook  \n",
    "%matplotlib inline  \n",
    "\n",
    "#initialize lists to store accuracies for training and test data  \n",
    "\n",
    "#we start with 50% accuracy\n",
    "train_accuracies = [0.5]  \n",
    "test_accuracies = [0.5]  \n",
    "\n",
    "#iterate over a few depth values  \n",
    "for depth in range(1, 25):  \n",
    "    #init the model  \n",
    "    clf = tree.DecisionTreeClassifier(max_depth=depth)  \n",
    "    \n",
    "    #columns/features for training \n",
    "    cols = ['fixed acidity',  'volatile acidity',  'citric acid',  'residual sugar',  'chlorides',  \n",
    "            'free sulfur dioxide',  'total sulfur dioxide',  'density',  'pH',  'sulphates', 'alcohol']\n",
    "    \n",
    "    #fit the model on given features  \n",
    "    clf.fit(df_train[cols], df_train.quality)  \n",
    "    \n",
    "    #create training & test predictions  \n",
    "    train_predictions = clf.predict(df_train[cols])  \n",
    "    test_predictions = clf.predict(df_test[cols])  \n",
    "    \n",
    "    #calculate training & test accuracies  \n",
    "    train_accuracy = metrics.accuracy_score(df_train.quality, train_predictions)  \n",
    "    test_accuracy = metrics.accuracy_score(df_test.quality, test_predictions)  \n",
    "    \n",
    "    #append accuracies  \n",
    "    train_accuracies.append(train_accuracy)  \n",
    "    test_accuracies.append(test_accuracy)  \n",
    "   "
   ]
  },
  {
   "cell_type": "code",
   "execution_count": 13,
   "metadata": {},
   "outputs": [
    {
     "data": {
      "image/png": "[encoded data removed]",
      "text/plain": [
       "<Figure size 720x360 with 1 Axes>"
      ]
     },
     "metadata": {
      "needs_background": "light"
     },
     "output_type": "display_data"
    }
   ],
   "source": [
    "#create two plots using matplotlib and seaborn  \n",
    "plt.figure(figsize=(10, 5))  \n",
    "sns.set_style(\"whitegrid\")  \n",
    "plt.plot(train_accuracies, label=\"train accuracy\")  \n",
    "plt.plot(test_accuracies, label=\"test accuracy\")  \n",
    "plt.legend(loc=\"upper left\", prop={'size': 15})  \n",
    "plt.xticks(range(0, 26, 5))  \n",
    "plt.xlabel(\"max_depth\", size=20)  \n",
    "plt.ylabel(\"accuracy\", size=20)  \n",
    "plt.show() "
   ]
  },
  {
   "cell_type": "markdown",
   "metadata": {},
   "source": [
    "simple decision tree model keeps learning about the training data better and better  with an increase in max_depth, but the performance on test data does not improve at all -- **This is called Overfitting**"
   ]
  },
  {
   "cell_type": "markdown",
   "metadata": {},
   "source": [
    "Cross Validation Techniques:\n",
    "- k-fold cross-validation  \n",
    "- stratified k-fold cross-validation\n",
    "- hold-out based validation\n",
    "- leave-one-out cross-validation  \n",
    "- group k-fold cross-validation \n",
    "\n",
    "We can split any data into k-equal parts using KFold\n",
    "\n",
    "- https://scikit-learn.org/stable/modules/generated/sklearn.model_selection.KFold.html\n",
    "- https://scikit-learn.org/stable/modules/generated/sklearn.model_selection.StratifiedKFold.html#sklearn-model-selection-stratifiedkfold\n",
    "\n",
    "Creates Random Index lists which can be used to filter out k-folds"
   ]
  },
  {
   "cell_type": "markdown",
   "metadata": {},
   "source": [
    "----"
   ]
  }
 ],
 "metadata": {
  "kernelspec": {
   "display_name": "Python 3",
   "language": "python",
   "name": "python3"
  },
  "language_info": {
   "codemirror_mode": {
    "name": "ipython",
    "version": 3
   },
   "file_extension": ".py",
   "mimetype": "text/x-python",
   "name": "python",
   "nbconvert_exporter": "python",
   "pygments_lexer": "ipython3",
   "version": "3.7.3"
  }
 },
 "nbformat": 4,
 "nbformat_minor": 2
}
