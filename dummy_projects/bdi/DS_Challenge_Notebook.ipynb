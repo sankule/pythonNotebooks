{
 "cells": [
  {
   "cell_type": "markdown",
   "metadata": {},
   "source": [
    "# Rodent Complaint Prediction "
   ]
  },
  {
   "cell_type": "markdown",
   "metadata": {},
   "source": [
    "----"
   ]
  },
  {
   "cell_type": "markdown",
   "metadata": {},
   "source": [
    "**Summary**"
   ]
  },
  {
   "cell_type": "markdown",
   "metadata": {},
   "source": [
    "- Removed columns which were either mostly NULLs and which were too noisy (intuitively) to add value as an independent variable\n",
    "- Created \"day_of_week\" flag as categorical feature from \"Created Date\"\n",
    "- Removed 4th Category from \"Descriptor\" feature after first model iteration to improve accuracy from 56% to 71%\n",
    "- Combined \"Location Type\" to Residential and Non-Residential and observed increase in accuracy from 71% to 76%\n",
    "- Given the time frame, I unable to perform multiple Grid-Searchs because of limited local CPU performance\n",
    "- NULL values in Coordinates were imputed using cluster centroids (mean) based on respective \"Borough\" cluster\n",
    "- Used Bagging RandomForest and XGBoost models for predicting type of rodent complaint\n",
    "- Model Test-Set Accuracy for 80-20 train-test split after hyperparameter tuning was 76%"
   ]
  },
  {
   "cell_type": "raw",
   "metadata": {},
   "source": [
    "Performance metrics for Cross Validated model on a random 80-20 split Test set --\n",
    "\n",
    "                    precision    recall  f1-score   support\n",
    "\n",
    "  Mouse Sighting       0.11      0.69      0.19        13\n",
    "    Rat Sighting       0.99      0.76      0.86       464\n",
    "Signs of Rodents       0.02      1.00      0.05         1\n",
    "\n",
    "        accuracy                           0.76       478\n",
    "       macro avg       0.38      0.82      0.37       478\n",
    "    weighted avg       0.97      0.76      0.84       478"
   ]
  },
  {
   "cell_type": "markdown",
   "metadata": {
    "ExecuteTime": {
     "end_time": "2020-08-22T09:44:54.144497Z",
     "start_time": "2020-08-22T09:44:54.139271Z"
    }
   },
   "source": [
    "----"
   ]
  },
  {
   "cell_type": "code",
   "execution_count": 354,
   "metadata": {
    "ExecuteTime": {
     "end_time": "2020-08-23T07:42:00.545545Z",
     "start_time": "2020-08-23T07:42:00.534348Z"
    }
   },
   "outputs": [],
   "source": [
    "# libraries\n",
    "import pandas as pd\n",
    "import numpy as np\n",
    "import matplotlib.pyplot as plt\n",
    "import seaborn as sns\n",
    "from sklearn.model_selection import train_test_split\n",
    "from sklearn.ensemble import RandomForestClassifier\n",
    "from sklearn.metrics import accuracy_score, classification_report, confusion_matrix, recall_score, f1_score, precision_score, roc_curve, auc, roc_auc_score\n",
    "from sklearn.model_selection import RandomizedSearchCV, GridSearchCV, StratifiedKFold\n",
    "import xgboost\n",
    "import pickle\n",
    "\n",
    "# display settings for jupyter notebook\n",
    "from IPython.core.interactiveshell import InteractiveShell\n",
    "InteractiveShell.ast_node_interactivity = \"all\"\n",
    "pd.set_option('display.max_rows', 500)\n",
    "pd.set_option('display.max_columns', 500)"
   ]
  },
  {
   "cell_type": "code",
   "execution_count": 355,
   "metadata": {
    "ExecuteTime": {
     "end_time": "2020-08-23T07:42:01.445451Z",
     "start_time": "2020-08-23T07:42:01.387152Z"
    }
   },
   "outputs": [],
   "source": [
    "# importing complaints data\n",
    "complaints_df = pd.read_csv(\"complaints.csv\")"
   ]
  },
  {
   "cell_type": "code",
   "execution_count": 356,
   "metadata": {
    "ExecuteTime": {
     "end_time": "2020-08-23T07:42:02.383478Z",
     "start_time": "2020-08-23T07:42:02.376850Z"
    }
   },
   "outputs": [],
   "source": [
    "# Taking 3 labels as required for prediction as first model iteration results were poor\n",
    "complaints_df = complaints_df.loc[complaints_df['Descriptor'].isin(['Rat Sighting', 'Mouse Sighting', 'Signs of Rodents'])]"
   ]
  },
  {
   "cell_type": "markdown",
   "metadata": {},
   "source": [
    "## Stats"
   ]
  },
  {
   "cell_type": "code",
   "execution_count": 357,
   "metadata": {
    "ExecuteTime": {
     "end_time": "2020-08-23T07:42:02.417764Z",
     "start_time": "2020-08-23T07:42:02.386218Z"
    },
    "scrolled": true
   },
   "outputs": [
    {
     "data": {
      "text/plain": [
       "(2394, 40)"
      ]
     },
     "execution_count": 357,
     "metadata": {},
     "output_type": "execute_result"
    }
   ],
   "source": [
    "# shape of data\n",
    "complaints_df.shape"
   ]
  },
  {
   "cell_type": "code",
   "execution_count": 358,
   "metadata": {
    "ExecuteTime": {
     "end_time": "2020-08-23T07:42:03.416851Z",
     "start_time": "2020-08-23T07:42:03.401546Z"
    }
   },
   "outputs": [
    {
     "data": {
      "text/plain": [
       "Unnamed: 0                           0\n",
       "Unique Key                           0\n",
       "Created Date                         0\n",
       "Closed Date                        204\n",
       "Agency                               0\n",
       "Agency Name                          0\n",
       "Complaint Type                       0\n",
       "Descriptor                           0\n",
       "Location Type                        0\n",
       "Incident Zip                         4\n",
       "Incident Address                   150\n",
       "Street Name                        150\n",
       "Cross Street 1                     716\n",
       "Cross Street 2                     717\n",
       "Intersection Street 1             2246\n",
       "Intersection Street 2             2246\n",
       "Address Type                         3\n",
       "City                                 4\n",
       "Landmark                          2393\n",
       "Facility Type                     2394\n",
       "Status                               0\n",
       "Due Date                             0\n",
       "Resolution Description               0\n",
       "Resolution Action Updated Date       0\n",
       "Community Board                      0\n",
       "Borough                              0\n",
       "X Coordinate (State Plane)          19\n",
       "Y Coordinate (State Plane)          19\n",
       "Park Facility Name                   0\n",
       "Park Borough                         0\n",
       "Vehicle Type                      2394\n",
       "Taxi Company Borough              2394\n",
       "Taxi Pick Up Location             2394\n",
       "Bridge Highway Name               2394\n",
       "Bridge Highway Direction          2394\n",
       "Road Ramp                         2394\n",
       "Bridge Highway Segment            2394\n",
       "Latitude                            19\n",
       "Longitude                           19\n",
       "Location                            19\n",
       "dtype: int64"
      ]
     },
     "execution_count": 358,
     "metadata": {},
     "output_type": "execute_result"
    }
   ],
   "source": [
    "# how many records are NAs for each column\n",
    "complaints_df.isna().sum()"
   ]
  },
  {
   "cell_type": "code",
   "execution_count": 359,
   "metadata": {
    "ExecuteTime": {
     "end_time": "2020-08-23T07:42:03.447966Z",
     "start_time": "2020-08-23T07:42:03.419048Z"
    }
   },
   "outputs": [
    {
     "data": {
      "text/plain": [
       "Rat Sighting        1775\n",
       "Mouse Sighting       405\n",
       "Signs of Rodents     214\n",
       "Name: Descriptor, dtype: int64"
      ]
     },
     "execution_count": 359,
     "metadata": {},
     "output_type": "execute_result"
    }
   ],
   "source": [
    "complaints_df['Descriptor'].value_counts()"
   ]
  },
  {
   "cell_type": "code",
   "execution_count": 360,
   "metadata": {
    "ExecuteTime": {
     "end_time": "2020-08-23T07:42:04.618401Z",
     "start_time": "2020-08-23T07:42:04.471177Z"
    }
   },
   "outputs": [
    {
     "data": {
      "image/png": "[encoded data removed]",
      "text/plain": [
       "<Figure size 720x360 with 1 Axes>"
      ]
     },
     "metadata": {
      "needs_background": "light"
     },
     "output_type": "display_data"
    }
   ],
   "source": [
    "plt.figure(figsize=(10, 5))\n",
    "sns.countplot(x='Descriptor',data=complaints_df);"
   ]
  },
  {
   "cell_type": "markdown",
   "metadata": {},
   "source": [
    "---"
   ]
  },
  {
   "cell_type": "code",
   "execution_count": 361,
   "metadata": {
    "ExecuteTime": {
     "end_time": "2020-08-23T07:42:06.166044Z",
     "start_time": "2020-08-23T07:42:06.097543Z"
    }
   },
   "outputs": [],
   "source": [
    "# correct date format\n",
    "complaints_df['Created Date'] = pd.to_datetime(complaints_df['Created Date'], errors='coerce')\n",
    "complaints_df['Closed Date'] = pd.to_datetime(complaints_df['Closed Date'], errors='coerce')"
   ]
  },
  {
   "cell_type": "markdown",
   "metadata": {},
   "source": [
    "---"
   ]
  },
  {
   "cell_type": "markdown",
   "metadata": {},
   "source": [
    "##  Data Exploration"
   ]
  },
  {
   "cell_type": "markdown",
   "metadata": {},
   "source": [
    "### Removing Junk Columns"
   ]
  },
  {
   "cell_type": "code",
   "execution_count": 362,
   "metadata": {
    "ExecuteTime": {
     "end_time": "2020-08-23T07:42:07.844107Z",
     "start_time": "2020-08-23T07:42:07.826533Z"
    }
   },
   "outputs": [
    {
     "data": {
      "text/html": [
       "<div>\n",
       "<style scoped>\n",
       "    .dataframe tbody tr th:only-of-type {\n",
       "        vertical-align: middle;\n",
       "    }\n",
       "\n",
       "    .dataframe tbody tr th {\n",
       "        vertical-align: top;\n",
       "    }\n",
       "\n",
       "    .dataframe thead th {\n",
       "        text-align: right;\n",
       "    }\n",
       "</style>\n",
       "<table border=\"1\" class=\"dataframe\">\n",
       "  <thead>\n",
       "    <tr style=\"text-align: right;\">\n",
       "      <th></th>\n",
       "      <th>index</th>\n",
       "      <th>na_fraction</th>\n",
       "    </tr>\n",
       "  </thead>\n",
       "  <tbody>\n",
       "    <tr>\n",
       "      <td>14</td>\n",
       "      <td>Intersection Street 1</td>\n",
       "      <td>0.938179</td>\n",
       "    </tr>\n",
       "    <tr>\n",
       "      <td>15</td>\n",
       "      <td>Intersection Street 2</td>\n",
       "      <td>0.938179</td>\n",
       "    </tr>\n",
       "    <tr>\n",
       "      <td>18</td>\n",
       "      <td>Landmark</td>\n",
       "      <td>0.999582</td>\n",
       "    </tr>\n",
       "    <tr>\n",
       "      <td>19</td>\n",
       "      <td>Facility Type</td>\n",
       "      <td>1.000000</td>\n",
       "    </tr>\n",
       "    <tr>\n",
       "      <td>30</td>\n",
       "      <td>Vehicle Type</td>\n",
       "      <td>1.000000</td>\n",
       "    </tr>\n",
       "    <tr>\n",
       "      <td>31</td>\n",
       "      <td>Taxi Company Borough</td>\n",
       "      <td>1.000000</td>\n",
       "    </tr>\n",
       "    <tr>\n",
       "      <td>32</td>\n",
       "      <td>Taxi Pick Up Location</td>\n",
       "      <td>1.000000</td>\n",
       "    </tr>\n",
       "    <tr>\n",
       "      <td>33</td>\n",
       "      <td>Bridge Highway Name</td>\n",
       "      <td>1.000000</td>\n",
       "    </tr>\n",
       "    <tr>\n",
       "      <td>34</td>\n",
       "      <td>Bridge Highway Direction</td>\n",
       "      <td>1.000000</td>\n",
       "    </tr>\n",
       "    <tr>\n",
       "      <td>35</td>\n",
       "      <td>Road Ramp</td>\n",
       "      <td>1.000000</td>\n",
       "    </tr>\n",
       "    <tr>\n",
       "      <td>36</td>\n",
       "      <td>Bridge Highway Segment</td>\n",
       "      <td>1.000000</td>\n",
       "    </tr>\n",
       "  </tbody>\n",
       "</table>\n",
       "</div>"
      ],
      "text/plain": [
       "                       index  na_fraction\n",
       "14     Intersection Street 1     0.938179\n",
       "15     Intersection Street 2     0.938179\n",
       "18                  Landmark     0.999582\n",
       "19             Facility Type     1.000000\n",
       "30              Vehicle Type     1.000000\n",
       "31      Taxi Company Borough     1.000000\n",
       "32     Taxi Pick Up Location     1.000000\n",
       "33       Bridge Highway Name     1.000000\n",
       "34  Bridge Highway Direction     1.000000\n",
       "35                 Road Ramp     1.000000\n",
       "36    Bridge Highway Segment     1.000000"
      ]
     },
     "execution_count": 362,
     "metadata": {},
     "output_type": "execute_result"
    }
   ],
   "source": [
    "# checking columns which are mostly NAs by creating a DF with fraction of NAs to total length of data\n",
    "junk_col_list = pd.DataFrame(complaints_df.isna().sum() / complaints_df.shape[0], columns=['na_fraction']).reset_index()\n",
    "\n",
    "# taking 90% threshold of NA to remove junk columns which will not any value in model training \n",
    "junk_col_list = junk_col_list.loc[junk_col_list['na_fraction'] >= 0.90]\n",
    "junk_col_list"
   ]
  },
  {
   "cell_type": "code",
   "execution_count": 363,
   "metadata": {
    "ExecuteTime": {
     "end_time": "2020-08-23T07:42:07.875108Z",
     "start_time": "2020-08-23T07:42:07.846883Z"
    },
    "scrolled": true
   },
   "outputs": [],
   "source": [
    "# removing identified columns from complaints_df\n",
    "complaints_df.drop(columns=junk_col_list['index'], inplace=True)"
   ]
  },
  {
   "cell_type": "markdown",
   "metadata": {},
   "source": [
    "### Exploring Remaining Columns"
   ]
  },
  {
   "cell_type": "code",
   "execution_count": 364,
   "metadata": {
    "ExecuteTime": {
     "end_time": "2020-08-23T07:42:09.631189Z",
     "start_time": "2020-08-23T07:42:09.603382Z"
    },
    "scrolled": true
   },
   "outputs": [
    {
     "data": {
      "text/html": [
       "<div>\n",
       "<style scoped>\n",
       "    .dataframe tbody tr th:only-of-type {\n",
       "        vertical-align: middle;\n",
       "    }\n",
       "\n",
       "    .dataframe tbody tr th {\n",
       "        vertical-align: top;\n",
       "    }\n",
       "\n",
       "    .dataframe thead th {\n",
       "        text-align: right;\n",
       "    }\n",
       "</style>\n",
       "<table border=\"1\" class=\"dataframe\">\n",
       "  <thead>\n",
       "    <tr style=\"text-align: right;\">\n",
       "      <th></th>\n",
       "      <th>Unnamed: 0</th>\n",
       "      <th>Unique Key</th>\n",
       "      <th>Created Date</th>\n",
       "      <th>Closed Date</th>\n",
       "      <th>Agency</th>\n",
       "      <th>Agency Name</th>\n",
       "      <th>Complaint Type</th>\n",
       "      <th>Descriptor</th>\n",
       "      <th>Location Type</th>\n",
       "      <th>Incident Zip</th>\n",
       "      <th>Incident Address</th>\n",
       "      <th>Street Name</th>\n",
       "      <th>Cross Street 1</th>\n",
       "      <th>Cross Street 2</th>\n",
       "      <th>Address Type</th>\n",
       "      <th>City</th>\n",
       "      <th>Status</th>\n",
       "      <th>Due Date</th>\n",
       "      <th>Resolution Description</th>\n",
       "      <th>Resolution Action Updated Date</th>\n",
       "      <th>Community Board</th>\n",
       "      <th>Borough</th>\n",
       "      <th>X Coordinate (State Plane)</th>\n",
       "      <th>Y Coordinate (State Plane)</th>\n",
       "      <th>Park Facility Name</th>\n",
       "      <th>Park Borough</th>\n",
       "      <th>Latitude</th>\n",
       "      <th>Longitude</th>\n",
       "      <th>Location</th>\n",
       "    </tr>\n",
       "  </thead>\n",
       "  <tbody>\n",
       "    <tr>\n",
       "      <td>0</td>\n",
       "      <td>0</td>\n",
       "      <td>34223255</td>\n",
       "      <td>2016-09-01</td>\n",
       "      <td>2016-09-02</td>\n",
       "      <td>DOHMH</td>\n",
       "      <td>Department of Health and Mental Hygiene</td>\n",
       "      <td>Rodent</td>\n",
       "      <td>Rat Sighting</td>\n",
       "      <td>Catch Basin/Sewer</td>\n",
       "      <td>10037.0</td>\n",
       "      <td>EAST 135 STREET</td>\n",
       "      <td>EAST 135 STREET</td>\n",
       "      <td>MADISON AVENUE</td>\n",
       "      <td>HARLEM RIVER DRIVE EXIT 21 NB</td>\n",
       "      <td>BLOCKFACE</td>\n",
       "      <td>NEW YORK</td>\n",
       "      <td>Closed</td>\n",
       "      <td>10/01/2016 04:23:55 PM</td>\n",
       "      <td>The Department of Health and Mental Hygiene wi...</td>\n",
       "      <td>09/02/2016 12:00:00 AM</td>\n",
       "      <td>Unspecified MANHATTAN</td>\n",
       "      <td>MANHATTAN</td>\n",
       "      <td>NaN</td>\n",
       "      <td>NaN</td>\n",
       "      <td>Unspecified</td>\n",
       "      <td>MANHATTAN</td>\n",
       "      <td>NaN</td>\n",
       "      <td>NaN</td>\n",
       "      <td>NaN</td>\n",
       "    </tr>\n",
       "    <tr>\n",
       "      <td>1</td>\n",
       "      <td>1</td>\n",
       "      <td>34226273</td>\n",
       "      <td>2016-09-01</td>\n",
       "      <td>2017-01-24</td>\n",
       "      <td>DOHMH</td>\n",
       "      <td>Department of Health and Mental Hygiene</td>\n",
       "      <td>Rodent</td>\n",
       "      <td>Rat Sighting</td>\n",
       "      <td>Vacant Lot</td>\n",
       "      <td>NaN</td>\n",
       "      <td>19</td>\n",
       "      <td>19</td>\n",
       "      <td>10 AVE</td>\n",
       "      <td>11 AVE</td>\n",
       "      <td>NaN</td>\n",
       "      <td>NaN</td>\n",
       "      <td>Closed</td>\n",
       "      <td>10/01/2016 02:25:00 PM</td>\n",
       "      <td>The Department of Health and Mental Hygiene wi...</td>\n",
       "      <td>01/24/2017 12:00:00 AM</td>\n",
       "      <td>Unspecified BROOKLYN</td>\n",
       "      <td>BROOKLYN</td>\n",
       "      <td>NaN</td>\n",
       "      <td>NaN</td>\n",
       "      <td>Unspecified</td>\n",
       "      <td>BROOKLYN</td>\n",
       "      <td>NaN</td>\n",
       "      <td>NaN</td>\n",
       "      <td>NaN</td>\n",
       "    </tr>\n",
       "    <tr>\n",
       "      <td>2</td>\n",
       "      <td>2</td>\n",
       "      <td>34213129</td>\n",
       "      <td>2016-09-01</td>\n",
       "      <td>2016-09-04</td>\n",
       "      <td>DOHMH</td>\n",
       "      <td>Department of Health and Mental Hygiene</td>\n",
       "      <td>Rodent</td>\n",
       "      <td>Rat Sighting</td>\n",
       "      <td>3+ Family Mixed Use Building</td>\n",
       "      <td>11238.0</td>\n",
       "      <td>147 GREENE AVENUE</td>\n",
       "      <td>GREENE AVENUE</td>\n",
       "      <td>WAVERLY AVENUE</td>\n",
       "      <td>WASHINGTON AVENUE</td>\n",
       "      <td>ADDRESS</td>\n",
       "      <td>BROOKLYN</td>\n",
       "      <td>Closed</td>\n",
       "      <td>10/01/2016 01:17:58 AM</td>\n",
       "      <td>The Department of Health and Mental Hygiene wi...</td>\n",
       "      <td>09/04/2016 12:00:00 AM</td>\n",
       "      <td>02 BROOKLYN</td>\n",
       "      <td>BROOKLYN</td>\n",
       "      <td>993633.0</td>\n",
       "      <td>189453.0</td>\n",
       "      <td>Unspecified</td>\n",
       "      <td>BROOKLYN</td>\n",
       "      <td>40.686677</td>\n",
       "      <td>-73.966167</td>\n",
       "      <td>(40.68667651821694, -73.96616742133907)</td>\n",
       "    </tr>\n",
       "    <tr>\n",
       "      <td>3</td>\n",
       "      <td>3</td>\n",
       "      <td>34214146</td>\n",
       "      <td>2016-09-01</td>\n",
       "      <td>2016-09-07</td>\n",
       "      <td>DOHMH</td>\n",
       "      <td>Department of Health and Mental Hygiene</td>\n",
       "      <td>Rodent</td>\n",
       "      <td>Rat Sighting</td>\n",
       "      <td>1-2 Family Dwelling</td>\n",
       "      <td>11203.0</td>\n",
       "      <td>813 EAST   51 STREET</td>\n",
       "      <td>EAST   51 STREET</td>\n",
       "      <td>AVENUE D</td>\n",
       "      <td>FOSTER AVENUE</td>\n",
       "      <td>ADDRESS</td>\n",
       "      <td>BROOKLYN</td>\n",
       "      <td>Closed</td>\n",
       "      <td>10/01/2016 02:03:32 AM</td>\n",
       "      <td>The Department of Health and Mental Hygiene wi...</td>\n",
       "      <td>09/07/2016 12:00:00 AM</td>\n",
       "      <td>17 BROOKLYN</td>\n",
       "      <td>BROOKLYN</td>\n",
       "      <td>1004167.0</td>\n",
       "      <td>172906.0</td>\n",
       "      <td>Unspecified</td>\n",
       "      <td>BROOKLYN</td>\n",
       "      <td>40.641241</td>\n",
       "      <td>-73.928234</td>\n",
       "      <td>(40.641241249401865, -73.92823353964022)</td>\n",
       "    </tr>\n",
       "    <tr>\n",
       "      <td>4</td>\n",
       "      <td>4</td>\n",
       "      <td>34216119</td>\n",
       "      <td>2016-09-01</td>\n",
       "      <td>2016-09-07</td>\n",
       "      <td>DOHMH</td>\n",
       "      <td>Department of Health and Mental Hygiene</td>\n",
       "      <td>Rodent</td>\n",
       "      <td>Rat Sighting</td>\n",
       "      <td>1-2 Family Dwelling</td>\n",
       "      <td>11203.0</td>\n",
       "      <td>776 EAST   52 STREET</td>\n",
       "      <td>EAST   52 STREET</td>\n",
       "      <td>AVENUE D</td>\n",
       "      <td>FOSTER AVENUE</td>\n",
       "      <td>ADDRESS</td>\n",
       "      <td>BROOKLYN</td>\n",
       "      <td>Closed</td>\n",
       "      <td>10/01/2016 01:59:10 AM</td>\n",
       "      <td>The Department of Health and Mental Hygiene wi...</td>\n",
       "      <td>09/07/2016 12:00:00 AM</td>\n",
       "      <td>17 BROOKLYN</td>\n",
       "      <td>BROOKLYN</td>\n",
       "      <td>1004421.0</td>\n",
       "      <td>172914.0</td>\n",
       "      <td>Unspecified</td>\n",
       "      <td>BROOKLYN</td>\n",
       "      <td>40.641263</td>\n",
       "      <td>-73.927318</td>\n",
       "      <td>(40.64126263285648, -73.92731828387933)</td>\n",
       "    </tr>\n",
       "  </tbody>\n",
       "</table>\n",
       "</div>"
      ],
      "text/plain": [
       "   Unnamed: 0  Unique Key Created Date Closed Date Agency  \\\n",
       "0           0    34223255   2016-09-01  2016-09-02  DOHMH   \n",
       "1           1    34226273   2016-09-01  2017-01-24  DOHMH   \n",
       "2           2    34213129   2016-09-01  2016-09-04  DOHMH   \n",
       "3           3    34214146   2016-09-01  2016-09-07  DOHMH   \n",
       "4           4    34216119   2016-09-01  2016-09-07  DOHMH   \n",
       "\n",
       "                               Agency Name Complaint Type    Descriptor  \\\n",
       "0  Department of Health and Mental Hygiene         Rodent  Rat Sighting   \n",
       "1  Department of Health and Mental Hygiene         Rodent  Rat Sighting   \n",
       "2  Department of Health and Mental Hygiene         Rodent  Rat Sighting   \n",
       "3  Department of Health and Mental Hygiene         Rodent  Rat Sighting   \n",
       "4  Department of Health and Mental Hygiene         Rodent  Rat Sighting   \n",
       "\n",
       "                  Location Type  Incident Zip      Incident Address  \\\n",
       "0             Catch Basin/Sewer       10037.0       EAST 135 STREET   \n",
       "1                    Vacant Lot           NaN                    19   \n",
       "2  3+ Family Mixed Use Building       11238.0     147 GREENE AVENUE   \n",
       "3           1-2 Family Dwelling       11203.0  813 EAST   51 STREET   \n",
       "4           1-2 Family Dwelling       11203.0  776 EAST   52 STREET   \n",
       "\n",
       "        Street Name  Cross Street 1                 Cross Street 2  \\\n",
       "0   EAST 135 STREET  MADISON AVENUE  HARLEM RIVER DRIVE EXIT 21 NB   \n",
       "1                19          10 AVE                         11 AVE   \n",
       "2     GREENE AVENUE  WAVERLY AVENUE              WASHINGTON AVENUE   \n",
       "3  EAST   51 STREET        AVENUE D                  FOSTER AVENUE   \n",
       "4  EAST   52 STREET        AVENUE D                  FOSTER AVENUE   \n",
       "\n",
       "  Address Type      City  Status                Due Date  \\\n",
       "0    BLOCKFACE  NEW YORK  Closed  10/01/2016 04:23:55 PM   \n",
       "1          NaN       NaN  Closed  10/01/2016 02:25:00 PM   \n",
       "2      ADDRESS  BROOKLYN  Closed  10/01/2016 01:17:58 AM   \n",
       "3      ADDRESS  BROOKLYN  Closed  10/01/2016 02:03:32 AM   \n",
       "4      ADDRESS  BROOKLYN  Closed  10/01/2016 01:59:10 AM   \n",
       "\n",
       "                              Resolution Description  \\\n",
       "0  The Department of Health and Mental Hygiene wi...   \n",
       "1  The Department of Health and Mental Hygiene wi...   \n",
       "2  The Department of Health and Mental Hygiene wi...   \n",
       "3  The Department of Health and Mental Hygiene wi...   \n",
       "4  The Department of Health and Mental Hygiene wi...   \n",
       "\n",
       "  Resolution Action Updated Date        Community Board    Borough  \\\n",
       "0         09/02/2016 12:00:00 AM  Unspecified MANHATTAN  MANHATTAN   \n",
       "1         01/24/2017 12:00:00 AM   Unspecified BROOKLYN   BROOKLYN   \n",
       "2         09/04/2016 12:00:00 AM            02 BROOKLYN   BROOKLYN   \n",
       "3         09/07/2016 12:00:00 AM            17 BROOKLYN   BROOKLYN   \n",
       "4         09/07/2016 12:00:00 AM            17 BROOKLYN   BROOKLYN   \n",
       "\n",
       "   X Coordinate (State Plane)  Y Coordinate (State Plane) Park Facility Name  \\\n",
       "0                         NaN                         NaN        Unspecified   \n",
       "1                         NaN                         NaN        Unspecified   \n",
       "2                    993633.0                    189453.0        Unspecified   \n",
       "3                   1004167.0                    172906.0        Unspecified   \n",
       "4                   1004421.0                    172914.0        Unspecified   \n",
       "\n",
       "  Park Borough   Latitude  Longitude                                  Location  \n",
       "0    MANHATTAN        NaN        NaN                                       NaN  \n",
       "1     BROOKLYN        NaN        NaN                                       NaN  \n",
       "2     BROOKLYN  40.686677 -73.966167   (40.68667651821694, -73.96616742133907)  \n",
       "3     BROOKLYN  40.641241 -73.928234  (40.641241249401865, -73.92823353964022)  \n",
       "4     BROOKLYN  40.641263 -73.927318   (40.64126263285648, -73.92731828387933)  "
      ]
     },
     "execution_count": 364,
     "metadata": {},
     "output_type": "execute_result"
    }
   ],
   "source": [
    "complaints_df.head()"
   ]
  },
  {
   "cell_type": "markdown",
   "metadata": {},
   "source": [
    "---"
   ]
  },
  {
   "cell_type": "code",
   "execution_count": 365,
   "metadata": {
    "ExecuteTime": {
     "end_time": "2020-08-23T07:42:09.665008Z",
     "start_time": "2020-08-23T07:42:09.632737Z"
    },
    "scrolled": true
   },
   "outputs": [],
   "source": [
    "# removing first \"Unnamed:0\" column which is possibly an index which got saved while writing data to CSV\n",
    "complaints_df = complaints_df.iloc[:,1:]"
   ]
  },
  {
   "cell_type": "markdown",
   "metadata": {},
   "source": [
    "---"
   ]
  },
  {
   "cell_type": "code",
   "execution_count": 366,
   "metadata": {
    "ExecuteTime": {
     "end_time": "2020-08-23T07:42:11.404577Z",
     "start_time": "2020-08-23T07:42:11.392620Z"
    }
   },
   "outputs": [
    {
     "data": {
      "text/plain": [
       "True"
      ]
     },
     "execution_count": 366,
     "metadata": {},
     "output_type": "execute_result"
    }
   ],
   "source": [
    "# Unique Key\n",
    "complaints_df['Unique Key'].nunique() == complaints_df.shape[0]\n",
    "\n",
    "# removing Unique key from data as its just an ID\n",
    "complaints_df.drop(columns='Unique Key', inplace=True)"
   ]
  },
  {
   "cell_type": "markdown",
   "metadata": {},
   "source": [
    "---"
   ]
  },
  {
   "cell_type": "code",
   "execution_count": 367,
   "metadata": {
    "ExecuteTime": {
     "end_time": "2020-08-23T07:42:11.445574Z",
     "start_time": "2020-08-23T07:42:11.406689Z"
    },
    "scrolled": true
   },
   "outputs": [
    {
     "data": {
      "text/plain": [
       "DOHMH    2394\n",
       "Name: Agency, dtype: int64"
      ]
     },
     "execution_count": 367,
     "metadata": {},
     "output_type": "execute_result"
    },
    {
     "data": {
      "text/plain": [
       "Department of Health and Mental Hygiene    2394\n",
       "Name: Agency Name, dtype: int64"
      ]
     },
     "execution_count": 367,
     "metadata": {},
     "output_type": "execute_result"
    }
   ],
   "source": [
    "# Agency\n",
    "complaints_df['Agency'].value_counts()\n",
    "complaints_df['Agency Name'].value_counts()\n",
    "\n",
    "# Removing Agency and Agency Name as it has same category for all rows and it would add no additional value in model\n",
    "complaints_df.drop(columns=['Agency', 'Agency Name'], inplace=True)"
   ]
  },
  {
   "cell_type": "markdown",
   "metadata": {},
   "source": [
    "---"
   ]
  },
  {
   "cell_type": "code",
   "execution_count": 368,
   "metadata": {
    "ExecuteTime": {
     "end_time": "2020-08-23T07:42:12.896269Z",
     "start_time": "2020-08-23T07:42:12.883371Z"
    }
   },
   "outputs": [
    {
     "data": {
      "text/plain": [
       "Rodent    2394\n",
       "Name: Complaint Type, dtype: int64"
      ]
     },
     "execution_count": 368,
     "metadata": {},
     "output_type": "execute_result"
    }
   ],
   "source": [
    "# complaint type\n",
    "complaints_df['Complaint Type'].value_counts()\n",
    "\n",
    "# removing complaint type as its just one category for all rows and would add no value in final model\n",
    "complaints_df.drop(columns='Complaint Type', inplace=True)"
   ]
  },
  {
   "cell_type": "markdown",
   "metadata": {},
   "source": [
    "---"
   ]
  },
  {
   "cell_type": "code",
   "execution_count": 369,
   "metadata": {
    "ExecuteTime": {
     "end_time": "2020-08-23T07:42:12.931981Z",
     "start_time": "2020-08-23T07:42:12.898795Z"
    }
   },
   "outputs": [
    {
     "data": {
      "text/plain": [
       "Rat Sighting        1775\n",
       "Mouse Sighting       405\n",
       "Signs of Rodents     214\n",
       "Name: Descriptor, dtype: int64"
      ]
     },
     "execution_count": 369,
     "metadata": {},
     "output_type": "execute_result"
    }
   ],
   "source": [
    "# dependent variable or labels which we are going to predict\n",
    "complaints_df['Descriptor'].value_counts()"
   ]
  },
  {
   "cell_type": "markdown",
   "metadata": {},
   "source": [
    "---"
   ]
  },
  {
   "cell_type": "code",
   "execution_count": 370,
   "metadata": {
    "ExecuteTime": {
     "end_time": "2020-08-23T07:42:13.623466Z",
     "start_time": "2020-08-23T07:42:13.613138Z"
    }
   },
   "outputs": [
    {
     "data": {
      "text/plain": [
       "3+ Family Apt. Building          1079\n",
       "1-2 Family Dwelling               445\n",
       "Other (Explain Below)             336\n",
       "3+ Family Mixed Use Building      132\n",
       "Commercial Building               127\n",
       "Vacant Lot                         78\n",
       "Construction Site                  69\n",
       "Vacant Building                    44\n",
       "1-2 Family Mixed Use Building      28\n",
       "Catch Basin/Sewer                  21\n",
       "Parking Lot/Garage                 15\n",
       "Public Garden                       8\n",
       "Day Care/Nursery                    3\n",
       "School/Pre-School                   2\n",
       "Single Room Occupancy (SRO)         2\n",
       "Public Stairs                       2\n",
       "Office Building                     2\n",
       "Government Building                 1\n",
       "Name: Location Type, dtype: int64"
      ]
     },
     "execution_count": 370,
     "metadata": {},
     "output_type": "execute_result"
    }
   ],
   "source": [
    "complaints_df['Location Type'].value_counts()"
   ]
  },
  {
   "cell_type": "markdown",
   "metadata": {},
   "source": [
    "---"
   ]
  },
  {
   "cell_type": "code",
   "execution_count": 371,
   "metadata": {
    "ExecuteTime": {
     "end_time": "2020-08-23T07:42:14.367731Z",
     "start_time": "2020-08-23T07:42:14.357407Z"
    }
   },
   "outputs": [
    {
     "data": {
      "text/plain": [
       "169"
      ]
     },
     "execution_count": 371,
     "metadata": {},
     "output_type": "execute_result"
    }
   ],
   "source": [
    "# Incident Zip Code\n",
    "complaints_df['Incident Zip'].nunique()\n",
    "\n",
    "# removing zip code as we can use coordinate information in model\n",
    "complaints_df.drop(columns='Incident Zip', inplace=True)"
   ]
  },
  {
   "cell_type": "markdown",
   "metadata": {},
   "source": [
    "---"
   ]
  },
  {
   "cell_type": "code",
   "execution_count": 372,
   "metadata": {
    "ExecuteTime": {
     "end_time": "2020-08-23T07:42:15.095108Z",
     "start_time": "2020-08-23T07:42:15.073742Z"
    }
   },
   "outputs": [
    {
     "data": {
      "text/plain": [
       "1836"
      ]
     },
     "execution_count": 372,
     "metadata": {},
     "output_type": "execute_result"
    },
    {
     "data": {
      "text/plain": [
       "1142"
      ]
     },
     "execution_count": 372,
     "metadata": {},
     "output_type": "execute_result"
    },
    {
     "data": {
      "text/plain": [
       "738"
      ]
     },
     "execution_count": 372,
     "metadata": {},
     "output_type": "execute_result"
    },
    {
     "data": {
      "text/plain": [
       "735"
      ]
     },
     "execution_count": 372,
     "metadata": {},
     "output_type": "execute_result"
    }
   ],
   "source": [
    "complaints_df['Incident Address'].nunique()\n",
    "complaints_df['Street Name'].nunique()\n",
    "complaints_df['Cross Street 1'].nunique()\n",
    "complaints_df['Cross Street 2'].nunique()\n",
    "\n",
    "# removing subjective columns with address details\n",
    "complaints_df.drop(columns=[ 'Incident Address', 'Street Name', 'Cross Street 1', 'Cross Street 2'], inplace=True)"
   ]
  },
  {
   "cell_type": "code",
   "execution_count": 373,
   "metadata": {
    "ExecuteTime": {
     "end_time": "2020-08-23T07:42:15.764506Z",
     "start_time": "2020-08-23T07:42:15.752229Z"
    }
   },
   "outputs": [
    {
     "data": {
      "text/plain": [
       "ADDRESS         1572\n",
       "LATLONG          590\n",
       "INTERSECTION     147\n",
       "BLOCKFACE         81\n",
       "PLACENAME          1\n",
       "Name: Address Type, dtype: int64"
      ]
     },
     "execution_count": 373,
     "metadata": {},
     "output_type": "execute_result"
    }
   ],
   "source": [
    "complaints_df['Address Type'].value_counts()"
   ]
  },
  {
   "cell_type": "markdown",
   "metadata": {},
   "source": [
    "---"
   ]
  },
  {
   "cell_type": "code",
   "execution_count": 374,
   "metadata": {
    "ExecuteTime": {
     "end_time": "2020-08-23T07:42:17.177367Z",
     "start_time": "2020-08-23T07:42:17.164630Z"
    },
    "scrolled": true
   },
   "outputs": [
    {
     "data": {
      "text/plain": [
       "BROOKLYN               743\n",
       "NEW YORK               674\n",
       "BRONX                  481\n",
       "STATEN ISLAND          104\n",
       "Jamaica                 42\n",
       "Astoria                 28\n",
       "Ridgewood               27\n",
       "Corona                  13\n",
       "East Elmhurst           12\n",
       "Woodside                12\n",
       "Elmhurst                11\n",
       "SOUTH OZONE PARK        10\n",
       "Flushing                10\n",
       "JAMAICA                 10\n",
       "Saint Albans            10\n",
       "Middle Village           9\n",
       "Ozone Park               9\n",
       "Far Rockaway             8\n",
       "ROCKAWAY PARK            8\n",
       "FAR ROCKAWAY             7\n",
       "Bayside                  7\n",
       "RIDGEWOOD                7\n",
       "Queens Village           6\n",
       "Long Island City         6\n",
       "Maspeth                  6\n",
       "CENTRAL PARK             6\n",
       "South Ozone Park         6\n",
       "ASTORIA                  6\n",
       "Rockaway Park            5\n",
       "South Richmond Hill      5\n",
       "Woodhaven                5\n",
       "Springfield Gardens      5\n",
       "Jackson Heights          5\n",
       "Richmond Hill            4\n",
       "Whitestone               4\n",
       "Hollis                   4\n",
       "College Point            4\n",
       "WHITESTONE               4\n",
       "REGO PARK                4\n",
       "Sunnyside                4\n",
       "RICHMOND HILL            4\n",
       "ELMHURST                 3\n",
       "HOLLIS                   3\n",
       "Howard Beach             3\n",
       "WOODSIDE                 3\n",
       "BAYSIDE                  3\n",
       "MIDDLE VILLAGE           3\n",
       "Fresh Meadows            3\n",
       "FLUSHING                 3\n",
       "MASPETH                  2\n",
       "SAINT ALBANS             2\n",
       "Rego Park                2\n",
       "FOREST HILLS             2\n",
       "EAST ELMHURST            2\n",
       "HOWARD BEACH             2\n",
       "Kew Gardens              2\n",
       "CORONA                   1\n",
       "CAMBRIA HEIGHTS          1\n",
       "Forest Hills             1\n",
       "LONG ISLAND CITY         1\n",
       "SUNNYSIDE                1\n",
       "COLLEGE POINT            1\n",
       "FLORAL PARK              1\n",
       "QUEENS                   1\n",
       "JACKSON HEIGHTS          1\n",
       "ARVERNE                  1\n",
       "Rosedale                 1\n",
       "Cambria Heights          1\n",
       "BELLEROSE                1\n",
       "OZONE PARK               1\n",
       "QUEENS VILLAGE           1\n",
       "Little Neck              1\n",
       "FRESH MEADOWS            1\n",
       "Name: City, dtype: int64"
      ]
     },
     "execution_count": 374,
     "metadata": {},
     "output_type": "execute_result"
    }
   ],
   "source": [
    "complaints_df['City'].value_counts()\n",
    "\n",
    "# removing CIty as most frequent categories are similar to borough\n",
    "complaints_df.drop(columns='City', inplace=True)"
   ]
  },
  {
   "cell_type": "markdown",
   "metadata": {},
   "source": [
    "---"
   ]
  },
  {
   "cell_type": "code",
   "execution_count": 375,
   "metadata": {
    "ExecuteTime": {
     "end_time": "2020-08-23T07:42:17.907949Z",
     "start_time": "2020-08-23T07:42:17.898134Z"
    }
   },
   "outputs": [
    {
     "data": {
      "text/plain": [
       "Closed      2170\n",
       "Assigned     148\n",
       "Pending       76\n",
       "Name: Status, dtype: int64"
      ]
     },
     "execution_count": 375,
     "metadata": {},
     "output_type": "execute_result"
    }
   ],
   "source": [
    "# Status\n",
    "complaints_df['Status'].value_counts()\n",
    "\n",
    "# Dropping Status as it has nothing to do with rodent category\n",
    "complaints_df.drop(columns='Status', inplace=True)"
   ]
  },
  {
   "cell_type": "markdown",
   "metadata": {},
   "source": [
    "---"
   ]
  },
  {
   "cell_type": "code",
   "execution_count": 376,
   "metadata": {
    "ExecuteTime": {
     "end_time": "2020-08-23T07:42:18.572350Z",
     "start_time": "2020-08-23T07:42:18.561555Z"
    }
   },
   "outputs": [
    {
     "data": {
      "text/plain": [
       "0       10/01/2016 04:23:55 PM\n",
       "1       10/01/2016 02:25:00 PM\n",
       "2       10/01/2016 01:17:58 AM\n",
       "3       10/01/2016 02:03:32 AM\n",
       "4       10/01/2016 01:59:10 AM\n",
       "                 ...          \n",
       "3096    10/30/2016 02:02:17 PM\n",
       "3097    10/30/2016 11:29:01 AM\n",
       "3098    10/30/2016 10:37:09 AM\n",
       "3099    10/30/2016 11:18:41 PM\n",
       "3100    10/30/2016 11:29:33 AM\n",
       "Name: Due Date, Length: 2394, dtype: object"
      ]
     },
     "execution_count": 376,
     "metadata": {},
     "output_type": "execute_result"
    }
   ],
   "source": [
    "complaints_df['Due Date']\n",
    "\n",
    "# due date based on type of complaint - adds no value\n",
    "complaints_df.drop(columns='Due Date', inplace=True)"
   ]
  },
  {
   "cell_type": "markdown",
   "metadata": {},
   "source": [
    "---"
   ]
  },
  {
   "cell_type": "code",
   "execution_count": 377,
   "metadata": {
    "ExecuteTime": {
     "end_time": "2020-08-23T07:42:19.421183Z",
     "start_time": "2020-08-23T07:42:19.411617Z"
    }
   },
   "outputs": [
    {
     "data": {
      "text/plain": [
       "The Department of Health and Mental Hygiene will review your complaint to determine appropriate action.  Complaints of this type usually result in an inspection.  Please call 311 in 30 days from the date of your complaint for status                                                                    2393\n",
       "The Department of Health and Mental Hygiene will review your complaint to determine appropriate action.  Complaints of this type usually result in an inspection.  Please call 311 in 30 days from the date of your complaint for status.  Please note your Service Request number for future reference.       1\n",
       "Name: Resolution Description, dtype: int64"
      ]
     },
     "execution_count": 377,
     "metadata": {},
     "output_type": "execute_result"
    }
   ],
   "source": [
    "complaints_df['Resolution Description'].value_counts()\n",
    "\n",
    "# removing junk column\n",
    "complaints_df.drop(columns='Resolution Description', inplace=True)"
   ]
  },
  {
   "cell_type": "markdown",
   "metadata": {},
   "source": [
    "---"
   ]
  },
  {
   "cell_type": "code",
   "execution_count": 378,
   "metadata": {
    "ExecuteTime": {
     "end_time": "2020-08-23T07:42:20.201752Z",
     "start_time": "2020-08-23T07:42:20.192695Z"
    }
   },
   "outputs": [
    {
     "data": {
      "text/plain": [
       "0       09/02/2016 12:00:00 AM\n",
       "1       01/24/2017 12:00:00 AM\n",
       "2       09/04/2016 12:00:00 AM\n",
       "3       09/07/2016 12:00:00 AM\n",
       "4       09/07/2016 12:00:00 AM\n",
       "                 ...          \n",
       "3096    10/13/2016 12:00:00 AM\n",
       "3097    10/02/2016 12:00:00 AM\n",
       "3098    09/30/2016 10:42:59 AM\n",
       "3099    10/06/2016 12:00:00 AM\n",
       "3100    10/03/2016 12:00:00 AM\n",
       "Name: Resolution Action Updated Date, Length: 2394, dtype: object"
      ]
     },
     "execution_count": 378,
     "metadata": {},
     "output_type": "execute_result"
    }
   ],
   "source": [
    "complaints_df['Resolution Action Updated Date']\n",
    "\n",
    "# Removing for first iteration\n",
    "complaints_df.drop(columns='Resolution Action Updated Date', inplace=True)"
   ]
  },
  {
   "cell_type": "markdown",
   "metadata": {},
   "source": [
    "---"
   ]
  },
  {
   "cell_type": "code",
   "execution_count": 379,
   "metadata": {
    "ExecuteTime": {
     "end_time": "2020-08-23T07:42:20.880161Z",
     "start_time": "2020-08-23T07:42:20.866360Z"
    },
    "scrolled": true
   },
   "outputs": [
    {
     "data": {
      "text/plain": [
       "Unspecified MANHATTAN        268\n",
       "Unspecified BROOKLYN         226\n",
       "Unspecified QUEENS           119\n",
       "Unspecified BRONX            102\n",
       "03 BROOKLYN                   92\n",
       "08 MANHATTAN                  76\n",
       "04 BRONX                      53\n",
       "03 MANHATTAN                  52\n",
       "07 MANHATTAN                  50\n",
       "10 MANHATTAN                  48\n",
       "01 STATEN ISLAND              46\n",
       "05 BRONX                      45\n",
       "01 BROOKLYN                   43\n",
       "16 BROOKLYN                   43\n",
       "12 MANHATTAN                  43\n",
       "17 BROOKLYN                   41\n",
       "05 QUEENS                     41\n",
       "09 BRONX                      41\n",
       "03 BRONX                      40\n",
       "07 BRONX                      39\n",
       "04 BROOKLYN                   39\n",
       "12 QUEENS                     37\n",
       "08 BROOKLYN                   37\n",
       "04 MANHATTAN                  34\n",
       "01 QUEENS                     34\n",
       "02 BROOKLYN                   33\n",
       "12 BRONX                      33\n",
       "09 MANHATTAN                  33\n",
       "08 BRONX                      33\n",
       "09 BROOKLYN                   32\n",
       "05 BROOKLYN                   31\n",
       "06 BROOKLYN                   29\n",
       "01 BRONX                      28\n",
       "11 BRONX                      25\n",
       "06 BRONX                      23\n",
       "18 BROOKLYN                   23\n",
       "Unspecified STATEN ISLAND     23\n",
       "11 MANHATTAN                  23\n",
       "03 QUEENS                     20\n",
       "02 MANHATTAN                  20\n",
       "10 QUEENS                     19\n",
       "07 QUEENS                     19\n",
       "02 STATEN ISLAND              18\n",
       "04 QUEENS                     18\n",
       "03 STATEN ISLAND              17\n",
       "09 QUEENS                     16\n",
       "02 QUEENS                     16\n",
       "13 BROOKLYN                   14\n",
       "14 BROOKLYN                   14\n",
       "14 QUEENS                     14\n",
       "05 MANHATTAN                  14\n",
       "06 MANHATTAN                  14\n",
       "12 BROOKLYN                   13\n",
       "07 BROOKLYN                   13\n",
       "13 QUEENS                     13\n",
       "15 BROOKLYN                   11\n",
       "10 BRONX                      11\n",
       "02 BRONX                      10\n",
       "10 BROOKLYN                    8\n",
       "11 QUEENS                      7\n",
       "08 QUEENS                      6\n",
       "01 MANHATTAN                   5\n",
       "06 QUEENS                      3\n",
       "11 BROOKLYN                    2\n",
       "55 BROOKLYN                    1\n",
       "Name: Community Board, dtype: int64"
      ]
     },
     "execution_count": 379,
     "metadata": {},
     "output_type": "execute_result"
    }
   ],
   "source": [
    "complaints_df['Community Board'].value_counts()\n",
    "\n",
    "# removing Community Board as categories are similar to borough\n",
    "complaints_df.drop(columns='Community Board', inplace=True)"
   ]
  },
  {
   "cell_type": "markdown",
   "metadata": {},
   "source": [
    "---"
   ]
  },
  {
   "cell_type": "code",
   "execution_count": 380,
   "metadata": {
    "ExecuteTime": {
     "end_time": "2020-08-23T07:42:21.551031Z",
     "start_time": "2020-08-23T07:42:21.540805Z"
    }
   },
   "outputs": [
    {
     "data": {
      "text/plain": [
       "BROOKLYN         745\n",
       "MANHATTAN        680\n",
       "BRONX            483\n",
       "QUEENS           382\n",
       "STATEN ISLAND    104\n",
       "Name: Borough, dtype: int64"
      ]
     },
     "execution_count": 380,
     "metadata": {},
     "output_type": "execute_result"
    }
   ],
   "source": [
    "complaints_df['Borough'].value_counts()\n",
    "# good categorical feature"
   ]
  },
  {
   "cell_type": "markdown",
   "metadata": {},
   "source": [
    "---"
   ]
  },
  {
   "cell_type": "code",
   "execution_count": 381,
   "metadata": {
    "ExecuteTime": {
     "end_time": "2020-08-23T07:42:22.299983Z",
     "start_time": "2020-08-23T07:42:22.289884Z"
    }
   },
   "outputs": [
    {
     "data": {
      "text/plain": [
       "BROOKLYN         745\n",
       "MANHATTAN        680\n",
       "BRONX            483\n",
       "QUEENS           382\n",
       "STATEN ISLAND    104\n",
       "Name: Park Borough, dtype: int64"
      ]
     },
     "execution_count": 381,
     "metadata": {},
     "output_type": "execute_result"
    }
   ],
   "source": [
    "complaints_df['Park Borough'].value_counts()"
   ]
  },
  {
   "cell_type": "code",
   "execution_count": 382,
   "metadata": {
    "ExecuteTime": {
     "end_time": "2020-08-23T07:42:22.346260Z",
     "start_time": "2020-08-23T07:42:22.303197Z"
    }
   },
   "outputs": [
    {
     "data": {
      "text/plain": [
       "True"
      ]
     },
     "execution_count": 382,
     "metadata": {},
     "output_type": "execute_result"
    }
   ],
   "source": [
    "# check equality between Borough and Park Borough\n",
    "complaints_df['Borough'].equals(complaints_df['Park Borough'])"
   ]
  },
  {
   "cell_type": "code",
   "execution_count": 383,
   "metadata": {
    "ExecuteTime": {
     "end_time": "2020-08-23T07:42:22.360009Z",
     "start_time": "2020-08-23T07:42:22.348305Z"
    }
   },
   "outputs": [],
   "source": [
    "# removing \"Park Borough\" as it is exactly equal to \"Borough\"\n",
    "complaints_df.drop(columns='Park Borough', inplace=True)"
   ]
  },
  {
   "cell_type": "markdown",
   "metadata": {},
   "source": [
    "---"
   ]
  },
  {
   "cell_type": "code",
   "execution_count": 384,
   "metadata": {
    "ExecuteTime": {
     "end_time": "2020-08-23T07:42:23.772783Z",
     "start_time": "2020-08-23T07:42:23.758257Z"
    }
   },
   "outputs": [
    {
     "data": {
      "text/plain": [
       "Unspecified    2394\n",
       "Name: Park Facility Name, dtype: int64"
      ]
     },
     "execution_count": 384,
     "metadata": {},
     "output_type": "execute_result"
    }
   ],
   "source": [
    "# park facility name\n",
    "complaints_df['Park Facility Name'].value_counts()\n",
    "\n",
    "# removing park facility name as it has same category for all rows and it would add no additional value in model\n",
    "complaints_df.drop(columns='Park Facility Name', inplace=True)"
   ]
  },
  {
   "cell_type": "markdown",
   "metadata": {},
   "source": [
    "---"
   ]
  },
  {
   "cell_type": "code",
   "execution_count": 385,
   "metadata": {
    "ExecuteTime": {
     "end_time": "2020-08-23T07:42:24.459878Z",
     "start_time": "2020-08-23T07:42:24.450210Z"
    }
   },
   "outputs": [],
   "source": [
    "# dropping lat, long and location as we can use X,Y coordinates\n",
    "complaints_df.drop(columns=['Latitude','Longitude','Location'], inplace=True)"
   ]
  },
  {
   "cell_type": "markdown",
   "metadata": {},
   "source": [
    "---"
   ]
  },
  {
   "cell_type": "code",
   "execution_count": 386,
   "metadata": {
    "ExecuteTime": {
     "end_time": "2020-08-23T07:42:26.010827Z",
     "start_time": "2020-08-23T07:42:26.002320Z"
    }
   },
   "outputs": [],
   "source": [
    "# Dropping Closed Date\n",
    "complaints_df.drop(columns='Closed Date', inplace=True)"
   ]
  },
  {
   "cell_type": "markdown",
   "metadata": {},
   "source": [
    "---"
   ]
  },
  {
   "cell_type": "markdown",
   "metadata": {},
   "source": [
    "## Deep Dive on Variables"
   ]
  },
  {
   "cell_type": "code",
   "execution_count": 387,
   "metadata": {
    "ExecuteTime": {
     "end_time": "2020-08-23T07:42:26.804129Z",
     "start_time": "2020-08-23T07:42:26.797740Z"
    }
   },
   "outputs": [],
   "source": [
    "# renaming variables\n",
    "complaints_df.rename(columns={\"X Coordinate (State Plane)\" : 'X_Coordinate',\n",
    "                             \"Y Coordinate (State Plane)\" : \"Y_Coordinate\"}, inplace=True)"
   ]
  },
  {
   "cell_type": "markdown",
   "metadata": {},
   "source": [
    "### Missing Values"
   ]
  },
  {
   "cell_type": "code",
   "execution_count": 388,
   "metadata": {
    "ExecuteTime": {
     "end_time": "2020-08-23T07:42:27.425041Z",
     "start_time": "2020-08-23T07:42:27.415496Z"
    }
   },
   "outputs": [
    {
     "data": {
      "text/plain": [
       "Created Date      0\n",
       "Descriptor        0\n",
       "Location Type     0\n",
       "Address Type      3\n",
       "Borough           0\n",
       "X_Coordinate     19\n",
       "Y_Coordinate     19\n",
       "dtype: int64"
      ]
     },
     "execution_count": 388,
     "metadata": {},
     "output_type": "execute_result"
    }
   ],
   "source": [
    "complaints_df.isna().sum()"
   ]
  },
  {
   "cell_type": "markdown",
   "metadata": {},
   "source": [
    "**Coordinates**"
   ]
  },
  {
   "cell_type": "code",
   "execution_count": 389,
   "metadata": {
    "ExecuteTime": {
     "end_time": "2020-08-23T07:42:28.440842Z",
     "start_time": "2020-08-23T07:42:28.061907Z"
    }
   },
   "outputs": [
    {
     "data": {
      "image/png": "[encoded data removed]",
      "text/plain": [
       "<Figure size 1152x576 with 1 Axes>"
      ]
     },
     "metadata": {
      "needs_background": "light"
     },
     "output_type": "display_data"
    }
   ],
   "source": [
    "plt.figure(figsize=(16, 8))\n",
    "sns.scatterplot(x='X_Coordinate',y='Y_Coordinate',data=test_label_df,hue='Borough');"
   ]
  },
  {
   "cell_type": "markdown",
   "metadata": {},
   "source": [
    "Boroughs are good clusters and their centroids can be used to impute the missing values"
   ]
  },
  {
   "cell_type": "code",
   "execution_count": 390,
   "metadata": {
    "ExecuteTime": {
     "end_time": "2020-08-23T07:42:29.078365Z",
     "start_time": "2020-08-23T07:42:29.059381Z"
    }
   },
   "outputs": [],
   "source": [
    "# groupby Borough and imputing NAs in coordinates with mean of each category\n",
    "complaints_df['X_Coordinate'] = complaints_df.groupby(\"Borough\")['X_Coordinate'].transform(lambda x: x.fillna(x.mean()))\n",
    "complaints_df['Y_Coordinate'] = complaints_df.groupby(\"Borough\")['Y_Coordinate'].transform(lambda x: x.fillna(x.mean()))"
   ]
  },
  {
   "cell_type": "markdown",
   "metadata": {},
   "source": [
    "---"
   ]
  },
  {
   "cell_type": "markdown",
   "metadata": {},
   "source": [
    "**Address Type**"
   ]
  },
  {
   "cell_type": "code",
   "execution_count": 391,
   "metadata": {
    "ExecuteTime": {
     "end_time": "2020-08-23T07:42:29.722822Z",
     "start_time": "2020-08-23T07:42:29.713521Z"
    }
   },
   "outputs": [],
   "source": [
    "# removing 3 rows with NA in Address Type\n",
    "complaints_df.dropna(inplace=True)"
   ]
  },
  {
   "cell_type": "markdown",
   "metadata": {},
   "source": [
    "---"
   ]
  },
  {
   "cell_type": "markdown",
   "metadata": {},
   "source": [
    "### Feature Creation"
   ]
  },
  {
   "cell_type": "markdown",
   "metadata": {},
   "source": [
    "**Day of Week**"
   ]
  },
  {
   "cell_type": "code",
   "execution_count": 395,
   "metadata": {
    "ExecuteTime": {
     "end_time": "2020-08-23T07:43:04.848329Z",
     "start_time": "2020-08-23T07:43:04.840928Z"
    }
   },
   "outputs": [],
   "source": [
    "complaints_df['day_of_week'] = complaints_df['Created Date'].dt.day_name()"
   ]
  },
  {
   "cell_type": "markdown",
   "metadata": {},
   "source": [
    "Most requests were created on Thursday and least on Sunday"
   ]
  },
  {
   "cell_type": "code",
   "execution_count": 396,
   "metadata": {
    "ExecuteTime": {
     "end_time": "2020-08-23T07:43:06.400736Z",
     "start_time": "2020-08-23T07:43:06.387965Z"
    }
   },
   "outputs": [
    {
     "data": {
      "text/plain": [
       "Thursday     459\n",
       "Wednesday    401\n",
       "Friday       385\n",
       "Tuesday      384\n",
       "Monday       320\n",
       "Saturday     237\n",
       "Sunday       205\n",
       "Name: day_of_week, dtype: int64"
      ]
     },
     "execution_count": 396,
     "metadata": {},
     "output_type": "execute_result"
    }
   ],
   "source": [
    "complaints_df['day_of_week'].value_counts()"
   ]
  },
  {
   "cell_type": "code",
   "execution_count": 397,
   "metadata": {
    "ExecuteTime": {
     "end_time": "2020-08-23T07:43:07.634239Z",
     "start_time": "2020-08-23T07:43:07.449739Z"
    }
   },
   "outputs": [
    {
     "data": {
      "image/png": "[encoded data removed]",
      "text/plain": [
       "<Figure size 576x576 with 1 Axes>"
      ]
     },
     "metadata": {
      "needs_background": "light"
     },
     "output_type": "display_data"
    }
   ],
   "source": [
    "plt.figure(figsize=(8, 8))\n",
    "sns.countplot(x='day_of_week',data=complaints_df);"
   ]
  },
  {
   "cell_type": "markdown",
   "metadata": {},
   "source": [
    "----"
   ]
  },
  {
   "cell_type": "markdown",
   "metadata": {},
   "source": [
    "**Location Type**"
   ]
  },
  {
   "cell_type": "code",
   "execution_count": 398,
   "metadata": {
    "ExecuteTime": {
     "end_time": "2020-08-23T07:43:09.940595Z",
     "start_time": "2020-08-23T07:43:09.931773Z"
    }
   },
   "outputs": [
    {
     "data": {
      "text/plain": [
       "3+ Family Apt. Building          1079\n",
       "1-2 Family Dwelling               445\n",
       "Other (Explain Below)             335\n",
       "3+ Family Mixed Use Building      132\n",
       "Commercial Building               126\n",
       "Vacant Lot                         77\n",
       "Construction Site                  69\n",
       "Vacant Building                    44\n",
       "1-2 Family Mixed Use Building      28\n",
       "Catch Basin/Sewer                  21\n",
       "Parking Lot/Garage                 15\n",
       "Public Garden                       8\n",
       "Day Care/Nursery                    3\n",
       "School/Pre-School                   2\n",
       "Single Room Occupancy (SRO)         2\n",
       "Public Stairs                       2\n",
       "Office Building                     2\n",
       "Government Building                 1\n",
       "Name: Location Type, dtype: int64"
      ]
     },
     "execution_count": 398,
     "metadata": {},
     "output_type": "execute_result"
    }
   ],
   "source": [
    "complaints_df['Location Type'].value_counts()"
   ]
  },
  {
   "cell_type": "markdown",
   "metadata": {},
   "source": [
    "Different categories can be merged together - example Residential / Non - Residential"
   ]
  },
  {
   "cell_type": "code",
   "execution_count": 399,
   "metadata": {
    "ExecuteTime": {
     "end_time": "2020-08-23T07:43:12.194868Z",
     "start_time": "2020-08-23T07:43:12.188217Z"
    }
   },
   "outputs": [],
   "source": [
    "residential_categories = ['3+ Family Mixed Use Building', '1-2 Family Dwelling',\n",
    "                          '3+ Family Apt. Building','1-2 Family Mixed Use Building',\n",
    "                          'Single Room Occupancy (SRO)']"
   ]
  },
  {
   "cell_type": "code",
   "execution_count": 400,
   "metadata": {
    "ExecuteTime": {
     "end_time": "2020-08-23T07:43:12.953563Z",
     "start_time": "2020-08-23T07:43:12.948632Z"
    }
   },
   "outputs": [],
   "source": [
    "# Updating Location Type from multiple categories to Binary based on residential location\n",
    "complaints_df['Location Type'] = np.where(complaints_df['Location Type'].isin(residential_categories),\"Residential\",\"Non-Residential\")"
   ]
  },
  {
   "cell_type": "code",
   "execution_count": 401,
   "metadata": {
    "ExecuteTime": {
     "end_time": "2020-08-23T07:43:13.688785Z",
     "start_time": "2020-08-23T07:43:13.678598Z"
    }
   },
   "outputs": [
    {
     "data": {
      "text/plain": [
       "Residential        1686\n",
       "Non-Residential     705\n",
       "Name: Location Type, dtype: int64"
      ]
     },
     "execution_count": 401,
     "metadata": {},
     "output_type": "execute_result"
    }
   ],
   "source": [
    "complaints_df['Location Type'].value_counts()"
   ]
  },
  {
   "cell_type": "code",
   "execution_count": 402,
   "metadata": {
    "ExecuteTime": {
     "end_time": "2020-08-23T07:43:14.572515Z",
     "start_time": "2020-08-23T07:43:14.441005Z"
    }
   },
   "outputs": [
    {
     "data": {
      "image/png": "[encoded data removed]",
      "text/plain": [
       "<Figure size 360x432 with 1 Axes>"
      ]
     },
     "metadata": {
      "needs_background": "light"
     },
     "output_type": "display_data"
    }
   ],
   "source": [
    "plt.figure(figsize=(5, 6))\n",
    "sns.countplot(x='Location Type',data=complaints_df);"
   ]
  },
  {
   "cell_type": "markdown",
   "metadata": {},
   "source": [
    "----"
   ]
  },
  {
   "cell_type": "code",
   "execution_count": 403,
   "metadata": {
    "ExecuteTime": {
     "end_time": "2020-08-23T07:43:15.226541Z",
     "start_time": "2020-08-23T07:43:15.218061Z"
    }
   },
   "outputs": [],
   "source": [
    "# Dropping Created Date before modeling\n",
    "complaints_df.drop(columns='Created Date', inplace=True)"
   ]
  },
  {
   "cell_type": "markdown",
   "metadata": {},
   "source": [
    "----"
   ]
  },
  {
   "cell_type": "markdown",
   "metadata": {},
   "source": [
    "## Modeling"
   ]
  },
  {
   "cell_type": "markdown",
   "metadata": {},
   "source": [
    "Given Categorical variables and non-parametric nature its good to choose tree based methods"
   ]
  },
  {
   "cell_type": "code",
   "execution_count": 419,
   "metadata": {
    "ExecuteTime": {
     "end_time": "2020-08-23T07:46:02.006418Z",
     "start_time": "2020-08-23T07:46:02.000814Z"
    }
   },
   "outputs": [],
   "source": [
    "# creating copy from cleaned and formatted DF\n",
    "final_df = complaints_df.copy()"
   ]
  },
  {
   "cell_type": "code",
   "execution_count": 420,
   "metadata": {
    "ExecuteTime": {
     "end_time": "2020-08-23T07:46:02.868286Z",
     "start_time": "2020-08-23T07:46:02.862390Z"
    }
   },
   "outputs": [],
   "source": [
    "# resetting index\n",
    "final_df.reset_index(drop=True, inplace=True)"
   ]
  },
  {
   "cell_type": "code",
   "execution_count": 421,
   "metadata": {
    "ExecuteTime": {
     "end_time": "2020-08-23T07:46:03.657706Z",
     "start_time": "2020-08-23T07:46:03.643335Z"
    }
   },
   "outputs": [
    {
     "data": {
      "text/html": [
       "<div>\n",
       "<style scoped>\n",
       "    .dataframe tbody tr th:only-of-type {\n",
       "        vertical-align: middle;\n",
       "    }\n",
       "\n",
       "    .dataframe tbody tr th {\n",
       "        vertical-align: top;\n",
       "    }\n",
       "\n",
       "    .dataframe thead th {\n",
       "        text-align: right;\n",
       "    }\n",
       "</style>\n",
       "<table border=\"1\" class=\"dataframe\">\n",
       "  <thead>\n",
       "    <tr style=\"text-align: right;\">\n",
       "      <th></th>\n",
       "      <th>Descriptor</th>\n",
       "      <th>Location Type</th>\n",
       "      <th>Address Type</th>\n",
       "      <th>Borough</th>\n",
       "      <th>X_Coordinate</th>\n",
       "      <th>Y_Coordinate</th>\n",
       "      <th>day_of_week</th>\n",
       "    </tr>\n",
       "  </thead>\n",
       "  <tbody>\n",
       "    <tr>\n",
       "      <td>0</td>\n",
       "      <td>Rat Sighting</td>\n",
       "      <td>Non-Residential</td>\n",
       "      <td>BLOCKFACE</td>\n",
       "      <td>MANHATTAN</td>\n",
       "      <td>9.936099e+05</td>\n",
       "      <td>222724.076119</td>\n",
       "      <td>Thursday</td>\n",
       "    </tr>\n",
       "    <tr>\n",
       "      <td>1</td>\n",
       "      <td>Rat Sighting</td>\n",
       "      <td>Residential</td>\n",
       "      <td>ADDRESS</td>\n",
       "      <td>BROOKLYN</td>\n",
       "      <td>9.936330e+05</td>\n",
       "      <td>189453.000000</td>\n",
       "      <td>Thursday</td>\n",
       "    </tr>\n",
       "    <tr>\n",
       "      <td>2</td>\n",
       "      <td>Rat Sighting</td>\n",
       "      <td>Residential</td>\n",
       "      <td>ADDRESS</td>\n",
       "      <td>BROOKLYN</td>\n",
       "      <td>1.004167e+06</td>\n",
       "      <td>172906.000000</td>\n",
       "      <td>Thursday</td>\n",
       "    </tr>\n",
       "    <tr>\n",
       "      <td>3</td>\n",
       "      <td>Rat Sighting</td>\n",
       "      <td>Residential</td>\n",
       "      <td>ADDRESS</td>\n",
       "      <td>BROOKLYN</td>\n",
       "      <td>1.004421e+06</td>\n",
       "      <td>172914.000000</td>\n",
       "      <td>Thursday</td>\n",
       "    </tr>\n",
       "    <tr>\n",
       "      <td>4</td>\n",
       "      <td>Mouse Sighting</td>\n",
       "      <td>Residential</td>\n",
       "      <td>LATLONG</td>\n",
       "      <td>MANHATTAN</td>\n",
       "      <td>9.894000e+05</td>\n",
       "      <td>207641.000000</td>\n",
       "      <td>Thursday</td>\n",
       "    </tr>\n",
       "  </tbody>\n",
       "</table>\n",
       "</div>"
      ],
      "text/plain": [
       "       Descriptor    Location Type Address Type    Borough  X_Coordinate  \\\n",
       "0    Rat Sighting  Non-Residential    BLOCKFACE  MANHATTAN  9.936099e+05   \n",
       "1    Rat Sighting      Residential      ADDRESS   BROOKLYN  9.936330e+05   \n",
       "2    Rat Sighting      Residential      ADDRESS   BROOKLYN  1.004167e+06   \n",
       "3    Rat Sighting      Residential      ADDRESS   BROOKLYN  1.004421e+06   \n",
       "4  Mouse Sighting      Residential      LATLONG  MANHATTAN  9.894000e+05   \n",
       "\n",
       "    Y_Coordinate day_of_week  \n",
       "0  222724.076119    Thursday  \n",
       "1  189453.000000    Thursday  \n",
       "2  172906.000000    Thursday  \n",
       "3  172914.000000    Thursday  \n",
       "4  207641.000000    Thursday  "
      ]
     },
     "execution_count": 421,
     "metadata": {},
     "output_type": "execute_result"
    }
   ],
   "source": [
    "final_df.head()"
   ]
  },
  {
   "cell_type": "markdown",
   "metadata": {},
   "source": [
    "---"
   ]
  },
  {
   "cell_type": "code",
   "execution_count": 422,
   "metadata": {
    "ExecuteTime": {
     "end_time": "2020-08-23T07:46:04.399864Z",
     "start_time": "2020-08-23T07:46:04.393745Z"
    }
   },
   "outputs": [],
   "source": [
    "# arranging columns\n",
    "final_df = final_df.loc[:,['Location Type', 'Address Type', 'Borough', 'day_of_week',\n",
    "                'X_Coordinate', 'Y_Coordinate', 'Descriptor']]"
   ]
  },
  {
   "cell_type": "code",
   "execution_count": 423,
   "metadata": {
    "ExecuteTime": {
     "end_time": "2020-08-23T07:46:05.132393Z",
     "start_time": "2020-08-23T07:46:05.109756Z"
    }
   },
   "outputs": [],
   "source": [
    "# One Hot Encoding categorical Variables\n",
    "var_categorical = ['Location Type', 'Address Type', 'Borough', 'day_of_week']\n",
    "categorical_df = pd.get_dummies(final_df.loc[:,var_categorical], drop_first=True)\n",
    "final_df = pd.concat([categorical_df,final_df.drop(columns=var_categorical)], axis=1)"
   ]
  },
  {
   "cell_type": "code",
   "execution_count": 424,
   "metadata": {
    "ExecuteTime": {
     "end_time": "2020-08-23T07:46:05.919814Z",
     "start_time": "2020-08-23T07:46:05.914852Z"
    }
   },
   "outputs": [],
   "source": [
    "# Creating the dependent variable factors and storinng definitions\n",
    "factor = pd.factorize(final_df['Descriptor'])\n",
    "final_df['Descriptor'] = factor[0]\n",
    "definitions = factor[1]"
   ]
  },
  {
   "cell_type": "markdown",
   "metadata": {},
   "source": [
    "---"
   ]
  },
  {
   "cell_type": "markdown",
   "metadata": {},
   "source": [
    "### Train - Test Split"
   ]
  },
  {
   "cell_type": "code",
   "execution_count": 500,
   "metadata": {
    "ExecuteTime": {
     "end_time": "2020-08-23T08:19:48.347144Z",
     "start_time": "2020-08-23T08:19:48.332185Z"
    }
   },
   "outputs": [],
   "source": [
    "X = final_df.iloc[:,:-1]\n",
    "y = final_df.iloc[:,-1]\n",
    "X_train, X_test, y_train, y_test = train_test_split(X, y, train_size=0.80, shuffle=True, random_state = 42, stratify = y)"
   ]
  },
  {
   "cell_type": "markdown",
   "metadata": {},
   "source": [
    "### RandomForest"
   ]
  },
  {
   "cell_type": "code",
   "execution_count": 501,
   "metadata": {
    "ExecuteTime": {
     "end_time": "2020-08-23T08:19:49.643678Z",
     "start_time": "2020-08-23T08:19:49.244714Z"
    }
   },
   "outputs": [
    {
     "data": {
      "text/plain": [
       "RandomForestClassifier(random_state=42)"
      ]
     },
     "execution_count": 501,
     "metadata": {},
     "output_type": "execute_result"
    }
   ],
   "source": [
    "# Fitting baseline Random Forest Classification to the Training set\n",
    "model = RandomForestClassifier(random_state = 42)\n",
    "model.fit(X_train, y_train)\n",
    "\n",
    "# Predicting the Test set results\n",
    "y_pred = model.predict(X_test)"
   ]
  },
  {
   "cell_type": "code",
   "execution_count": 502,
   "metadata": {
    "ExecuteTime": {
     "end_time": "2020-08-23T08:19:50.388159Z",
     "start_time": "2020-08-23T08:19:50.381175Z"
    }
   },
   "outputs": [
    {
     "name": "stdout",
     "output_type": "stream",
     "text": [
      "accuracy: 0.7244\n"
     ]
    }
   ],
   "source": [
    "# TEST\n",
    "print('accuracy: %.4f'% accuracy_score(y_pred=y_pred, y_true=y_test))"
   ]
  },
  {
   "cell_type": "code",
   "execution_count": 484,
   "metadata": {
    "ExecuteTime": {
     "end_time": "2020-08-23T08:15:19.296839Z",
     "start_time": "2020-08-23T08:15:19.289896Z"
    }
   },
   "outputs": [],
   "source": [
    "#Reverse factorize\n",
    "reversefactor = dict(zip(range(4),definitions))\n",
    "y_test = np.vectorize(reversefactor.get)(y_test)\n",
    "y_pred = np.vectorize(reversefactor.get)(y_pred)"
   ]
  },
  {
   "cell_type": "code",
   "execution_count": 485,
   "metadata": {
    "ExecuteTime": {
     "end_time": "2020-08-23T08:15:20.189520Z",
     "start_time": "2020-08-23T08:15:20.167579Z"
    }
   },
   "outputs": [
    {
     "name": "stdout",
     "output_type": "stream",
     "text": [
      "Predicted         Mouse Sighting  Rat Sighting  Signs of Rodents\n",
      "Actual                                                          \n",
      "Mouse Sighting                16            63                 2\n",
      "Rat Sighting                  25           325                 5\n",
      "Signs of Rodents               3            34                 6\n"
     ]
    }
   ],
   "source": [
    "# Confusion Matrix\n",
    "print(pd.crosstab(y_test, y_pred, rownames=['Actual'], colnames=['Predicted']))"
   ]
  },
  {
   "cell_type": "markdown",
   "metadata": {},
   "source": [
    "### XGBoost"
   ]
  },
  {
   "cell_type": "code",
   "execution_count": 496,
   "metadata": {
    "ExecuteTime": {
     "end_time": "2020-08-23T08:15:58.209088Z",
     "start_time": "2020-08-23T08:15:58.195127Z"
    }
   },
   "outputs": [],
   "source": [
    "X = final_df.iloc[:,:-1]\n",
    "y = final_df.iloc[:,-1]\n",
    "X_train, X_test, y_train, y_test = train_test_split(X, y, train_size=0.80, shuffle=True, random_state = 42, stratify = y)"
   ]
  },
  {
   "cell_type": "code",
   "execution_count": 497,
   "metadata": {
    "ExecuteTime": {
     "end_time": "2020-08-23T08:15:59.531349Z",
     "start_time": "2020-08-23T08:15:59.061605Z"
    }
   },
   "outputs": [
    {
     "data": {
      "text/plain": [
       "XGBRFClassifier(base_score=0.5, booster='gbtree', colsample_bylevel=1,\n",
       "                colsample_bytree=1, gamma=0, gpu_id=-1, importance_type='gain',\n",
       "                interaction_constraints='', max_delta_step=0, max_depth=6,\n",
       "                min_child_weight=1, missing=nan, monotone_constraints='()',\n",
       "                n_estimators=100, n_jobs=0, num_parallel_tree=100,\n",
       "                objective='multi:softprob', random_state=42, reg_alpha=0,\n",
       "                scale_pos_weight=None, tree_method='exact',\n",
       "                validate_parameters=1, verbosity=None)"
      ]
     },
     "execution_count": 497,
     "metadata": {},
     "output_type": "execute_result"
    }
   ],
   "source": [
    "# Fitting baseline XGboost Classification to the Training set\n",
    "model = xgboost.XGBRFClassifier(random_state = 42)\n",
    "# model = xgboost.XGBClassifier(random_state = 42)\n",
    "model.fit(X_train, y_train)\n",
    "\n",
    "# Predicting the Test set results\n",
    "y_pred = model.predict(X_test)\n",
    "\n",
    "#Reverse factorize\n",
    "reversefactor = dict(zip(range(4),definitions))\n",
    "y_test = np.vectorize(reversefactor.get)(y_test)\n",
    "y_pred = np.vectorize(reversefactor.get)(y_pred)"
   ]
  },
  {
   "cell_type": "code",
   "execution_count": 498,
   "metadata": {
    "ExecuteTime": {
     "end_time": "2020-08-23T08:16:00.355774Z",
     "start_time": "2020-08-23T08:16:00.347794Z"
    }
   },
   "outputs": [
    {
     "name": "stdout",
     "output_type": "stream",
     "text": [
      "accuracy: 0.7370\n"
     ]
    }
   ],
   "source": [
    "print('accuracy: %.4f'% accuracy_score(y_pred=y_pred, y_true=y_test))"
   ]
  },
  {
   "cell_type": "code",
   "execution_count": 499,
   "metadata": {
    "ExecuteTime": {
     "end_time": "2020-08-23T08:16:01.149856Z",
     "start_time": "2020-08-23T08:16:01.126914Z"
    }
   },
   "outputs": [
    {
     "name": "stdout",
     "output_type": "stream",
     "text": [
      "Predicted         Mouse Sighting  Rat Sighting  Signs of Rodents\n",
      "Actual                                                          \n",
      "Mouse Sighting                 7            73                 1\n",
      "Rat Sighting                   5           342                 8\n",
      "Signs of Rodents               1            38                 4\n"
     ]
    }
   ],
   "source": [
    "# Confusion Matrix\n",
    "print(pd.crosstab(y_test, y_pred, rownames=['Actual'], colnames=['Predicted']))"
   ]
  },
  {
   "cell_type": "markdown",
   "metadata": {},
   "source": [
    "----"
   ]
  },
  {
   "cell_type": "markdown",
   "metadata": {},
   "source": [
    "### RandomSearchCV\n",
    "\n",
    "Trying to improve baseline XGBoost model based on hyperparameters tuning"
   ]
  },
  {
   "cell_type": "code",
   "execution_count": 438,
   "metadata": {
    "ExecuteTime": {
     "end_time": "2020-08-23T07:55:17.730405Z",
     "start_time": "2020-08-23T07:55:17.717406Z"
    }
   },
   "outputs": [],
   "source": [
    "X = final_df.iloc[:,:-1]\n",
    "y = final_df.iloc[:,-1]\n",
    "X_train, X_test, y_train, y_test = train_test_split(X, y, train_size=0.80, shuffle=True, random_state = 42, stratify = y)"
   ]
  },
  {
   "cell_type": "code",
   "execution_count": 352,
   "metadata": {
    "ExecuteTime": {
     "end_time": "2020-08-23T07:32:13.937628Z",
     "start_time": "2020-08-23T07:32:13.930437Z"
    }
   },
   "outputs": [],
   "source": [
    "distributions = {'max_depth' : [3,5,6,10],\n",
    "                'learning_rate' : [0.01, 0.05, 0.1, 0.3, 0.5],\n",
    "                'n_estimators': [80,100,150,200],\n",
    "                'gamma': [0, 0.1, 0.5, 1, 2],\n",
    "                'subsample': [0.6, 0.8, 1.0],\n",
    "                'colsample_bytree': [0.6, 0.8, 1.0]}"
   ]
  },
  {
   "cell_type": "code",
   "execution_count": 440,
   "metadata": {
    "ExecuteTime": {
     "end_time": "2020-08-23T07:56:35.849328Z",
     "start_time": "2020-08-23T07:56:35.845341Z"
    }
   },
   "outputs": [],
   "source": [
    "xgb = xgboost.XGBRFClassifier()\n",
    "model = RandomizedSearchCV(xgb, distributions, random_state=42, n_jobs=-1)\n",
    "search = model.fit(X_train, y_train)\n",
    "search.best_params_"
   ]
  },
  {
   "cell_type": "markdown",
   "metadata": {},
   "source": [
    "### GridSearchCV\n",
    "\n",
    "Grid Search based on few iterations from RandomSearch"
   ]
  },
  {
   "cell_type": "code",
   "execution_count": 441,
   "metadata": {
    "ExecuteTime": {
     "end_time": "2020-08-23T08:01:53.828760Z",
     "start_time": "2020-08-23T08:01:53.822775Z"
    }
   },
   "outputs": [],
   "source": [
    "grid = {'max_depth' : [6,8,10,12],\n",
    "                'learning_rate' : [0.01, 0.05, 0.1, 0.3, 0.5],\n",
    "                'n_estimators': [100,120,150,160,180],\n",
    "                'gamma': [0.5, 0.75, 1, 1.25, 1.5],\n",
    "                'subsample': [0.6, 0.8, 1.0],\n",
    "                'colsample_bytree': [0.6, 0.8, 1.0]}"
   ]
  },
  {
   "cell_type": "code",
   "execution_count": 442,
   "metadata": {
    "ExecuteTime": {
     "end_time": "2020-08-23T08:01:58.592422Z",
     "start_time": "2020-08-23T08:01:58.587437Z"
    }
   },
   "outputs": [],
   "source": [
    "xgb = xgboost.XGBRFClassifier()\n",
    "model = GridSearchCV(xgb, grid, n_jobs=-1)\n",
    "search = model.fit(X_train, y_train)\n",
    "search.best_params_"
   ]
  },
  {
   "cell_type": "code",
   "execution_count": 469,
   "metadata": {
    "ExecuteTime": {
     "end_time": "2020-08-23T08:10:14.132987Z",
     "start_time": "2020-08-23T08:10:14.126006Z"
    }
   },
   "outputs": [],
   "source": [
    "# model based on optimum hyperparameters\n",
    "model = xgboost.XGBRFClassifier(\n",
    "     colsample_bytree= 0.6,\n",
    "     gamma= 0.5,\n",
    "     learning_rate= 0.01,\n",
    "     max_depth= 10,\n",
    "     n_estimators= 200,\n",
    "     subsample= 1.0)"
   ]
  },
  {
   "cell_type": "code",
   "execution_count": 470,
   "metadata": {
    "ExecuteTime": {
     "end_time": "2020-08-23T08:10:16.029401Z",
     "start_time": "2020-08-23T08:10:15.028079Z"
    }
   },
   "outputs": [
    {
     "data": {
      "text/plain": [
       "XGBRFClassifier(base_score=0.5, booster='gbtree', colsample_bylevel=1,\n",
       "                colsample_bytree=0.6, gamma=0.5, gpu_id=-1,\n",
       "                importance_type='gain', interaction_constraints='',\n",
       "                learning_rate=0.01, max_delta_step=0, max_depth=10,\n",
       "                min_child_weight=1, missing=nan, monotone_constraints='()',\n",
       "                n_estimators=200, n_jobs=0, num_parallel_tree=200,\n",
       "                objective='multi:softprob', random_state=0, reg_alpha=0,\n",
       "                scale_pos_weight=None, subsample=1.0, tree_method='exact',\n",
       "                validate_parameters=1, verbosity=None)"
      ]
     },
     "execution_count": 470,
     "metadata": {},
     "output_type": "execute_result"
    }
   ],
   "source": [
    "model.fit(X_train, y_train)\n",
    "y_pred = model.predict(X_test)"
   ]
  },
  {
   "cell_type": "code",
   "execution_count": 471,
   "metadata": {
    "ExecuteTime": {
     "end_time": "2020-08-23T08:10:16.959102Z",
     "start_time": "2020-08-23T08:10:16.949129Z"
    }
   },
   "outputs": [
    {
     "name": "stdout",
     "output_type": "stream",
     "text": [
      "accuracy: 0.7573\n",
      "recall: 0.7573\n"
     ]
    }
   ],
   "source": [
    "print('accuracy: %.4f'% accuracy_score(y_pred=y_pred, y_true=y_test))\n",
    "print('recall: %.4f'% recall_score(y_pred=y_pred, y_true=y_test,average='micro'))"
   ]
  },
  {
   "cell_type": "code",
   "execution_count": 473,
   "metadata": {
    "ExecuteTime": {
     "end_time": "2020-08-23T08:10:44.325857Z",
     "start_time": "2020-08-23T08:10:43.471058Z"
    }
   },
   "outputs": [
    {
     "data": {
      "text/html": [
       "<div>\n",
       "<style scoped>\n",
       "    .dataframe tbody tr th:only-of-type {\n",
       "        vertical-align: middle;\n",
       "    }\n",
       "\n",
       "    .dataframe tbody tr th {\n",
       "        vertical-align: top;\n",
       "    }\n",
       "\n",
       "    .dataframe thead th {\n",
       "        text-align: right;\n",
       "    }\n",
       "</style>\n",
       "<table border=\"1\" class=\"dataframe\">\n",
       "  <thead>\n",
       "    <tr style=\"text-align: right;\">\n",
       "      <th></th>\n",
       "      <th>Feature</th>\n",
       "      <th>gini_importance_%</th>\n",
       "    </tr>\n",
       "  </thead>\n",
       "  <tbody>\n",
       "    <tr>\n",
       "      <td>3</td>\n",
       "      <td>Address Type_LATLONG</td>\n",
       "      <td>23.327919</td>\n",
       "    </tr>\n",
       "    <tr>\n",
       "      <td>0</td>\n",
       "      <td>Location Type_Residential</td>\n",
       "      <td>18.569963</td>\n",
       "    </tr>\n",
       "    <tr>\n",
       "      <td>16</td>\n",
       "      <td>Y_Coordinate</td>\n",
       "      <td>5.687449</td>\n",
       "    </tr>\n",
       "    <tr>\n",
       "      <td>15</td>\n",
       "      <td>X_Coordinate</td>\n",
       "      <td>5.672132</td>\n",
       "    </tr>\n",
       "    <tr>\n",
       "      <td>6</td>\n",
       "      <td>Borough_MANHATTAN</td>\n",
       "      <td>5.392201</td>\n",
       "    </tr>\n",
       "    <tr>\n",
       "      <td>8</td>\n",
       "      <td>Borough_STATEN ISLAND</td>\n",
       "      <td>4.786777</td>\n",
       "    </tr>\n",
       "    <tr>\n",
       "      <td>7</td>\n",
       "      <td>Borough_QUEENS</td>\n",
       "      <td>4.772870</td>\n",
       "    </tr>\n",
       "    <tr>\n",
       "      <td>1</td>\n",
       "      <td>Address Type_BLOCKFACE</td>\n",
       "      <td>4.566598</td>\n",
       "    </tr>\n",
       "    <tr>\n",
       "      <td>2</td>\n",
       "      <td>Address Type_INTERSECTION</td>\n",
       "      <td>4.517962</td>\n",
       "    </tr>\n",
       "    <tr>\n",
       "      <td>5</td>\n",
       "      <td>Borough_BROOKLYN</td>\n",
       "      <td>4.224378</td>\n",
       "    </tr>\n",
       "    <tr>\n",
       "      <td>10</td>\n",
       "      <td>day_of_week_Saturday</td>\n",
       "      <td>3.737693</td>\n",
       "    </tr>\n",
       "    <tr>\n",
       "      <td>11</td>\n",
       "      <td>day_of_week_Sunday</td>\n",
       "      <td>3.284166</td>\n",
       "    </tr>\n",
       "    <tr>\n",
       "      <td>14</td>\n",
       "      <td>day_of_week_Wednesday</td>\n",
       "      <td>3.103171</td>\n",
       "    </tr>\n",
       "    <tr>\n",
       "      <td>12</td>\n",
       "      <td>day_of_week_Thursday</td>\n",
       "      <td>3.089255</td>\n",
       "    </tr>\n",
       "    <tr>\n",
       "      <td>9</td>\n",
       "      <td>day_of_week_Monday</td>\n",
       "      <td>2.679176</td>\n",
       "    </tr>\n",
       "    <tr>\n",
       "      <td>13</td>\n",
       "      <td>day_of_week_Tuesday</td>\n",
       "      <td>2.588290</td>\n",
       "    </tr>\n",
       "    <tr>\n",
       "      <td>4</td>\n",
       "      <td>Address Type_PLACENAME</td>\n",
       "      <td>0.000000</td>\n",
       "    </tr>\n",
       "  </tbody>\n",
       "</table>\n",
       "</div>"
      ],
      "text/plain": [
       "                      Feature  gini_importance_%\n",
       "3        Address Type_LATLONG          23.327919\n",
       "0   Location Type_Residential          18.569963\n",
       "16               Y_Coordinate           5.687449\n",
       "15               X_Coordinate           5.672132\n",
       "6           Borough_MANHATTAN           5.392201\n",
       "8       Borough_STATEN ISLAND           4.786777\n",
       "7              Borough_QUEENS           4.772870\n",
       "1      Address Type_BLOCKFACE           4.566598\n",
       "2   Address Type_INTERSECTION           4.517962\n",
       "5            Borough_BROOKLYN           4.224378\n",
       "10       day_of_week_Saturday           3.737693\n",
       "11         day_of_week_Sunday           3.284166\n",
       "14      day_of_week_Wednesday           3.103171\n",
       "12       day_of_week_Thursday           3.089255\n",
       "9          day_of_week_Monday           2.679176\n",
       "13        day_of_week_Tuesday           2.588290\n",
       "4      Address Type_PLACENAME           0.000000"
      ]
     },
     "execution_count": 473,
     "metadata": {},
     "output_type": "execute_result"
    }
   ],
   "source": [
    "importance_df = pd.DataFrame({\"Feature\": list(X_test.columns), \"gini_importance_%\": list(100*model.feature_importances_)})\n",
    "importance_df = importance_df.sort_values('gini_importance_%', ascending=False)\n",
    "importance_df"
   ]
  },
  {
   "cell_type": "code",
   "execution_count": 474,
   "metadata": {
    "ExecuteTime": {
     "end_time": "2020-08-23T08:11:00.714720Z",
     "start_time": "2020-08-23T08:11:00.706743Z"
    }
   },
   "outputs": [],
   "source": [
    "#Reverse factorize\n",
    "reversefactor = dict(zip(range(4),definitions))\n",
    "\n",
    "y_test = np.vectorize(reversefactor.get)(y_test)\n",
    "y_pred = np.vectorize(reversefactor.get)(y_pred)"
   ]
  },
  {
   "cell_type": "code",
   "execution_count": 475,
   "metadata": {
    "ExecuteTime": {
     "end_time": "2020-08-23T08:11:01.884592Z",
     "start_time": "2020-08-23T08:11:01.865644Z"
    }
   },
   "outputs": [
    {
     "name": "stdout",
     "output_type": "stream",
     "text": [
      "                  precision    recall  f1-score   support\n",
      "\n",
      "  Mouse Sighting       0.11      0.69      0.19        13\n",
      "    Rat Sighting       0.99      0.76      0.86       464\n",
      "Signs of Rodents       0.02      1.00      0.05         1\n",
      "\n",
      "        accuracy                           0.76       478\n",
      "       macro avg       0.38      0.82      0.37       478\n",
      "    weighted avg       0.97      0.76      0.84       478\n",
      "\n"
     ]
    }
   ],
   "source": [
    "print(classification_report(y_pred, y_test))"
   ]
  },
  {
   "cell_type": "markdown",
   "metadata": {},
   "source": [
    "---"
   ]
  },
  {
   "cell_type": "markdown",
   "metadata": {},
   "source": [
    "## Cross Validation"
   ]
  },
  {
   "cell_type": "code",
   "execution_count": 452,
   "metadata": {
    "ExecuteTime": {
     "end_time": "2020-08-23T08:04:08.149192Z",
     "start_time": "2020-08-23T08:04:08.143243Z"
    }
   },
   "outputs": [],
   "source": [
    "# Define X and y matrix\n",
    "X = final_df.iloc[:,:-1]\n",
    "y = final_df.iloc[:,-1]"
   ]
  },
  {
   "cell_type": "code",
   "execution_count": 453,
   "metadata": {
    "ExecuteTime": {
     "end_time": "2020-08-23T08:04:09.012466Z",
     "start_time": "2020-08-23T08:04:09.005487Z"
    }
   },
   "outputs": [
    {
     "data": {
      "text/plain": [
       "5"
      ]
     },
     "execution_count": 453,
     "metadata": {},
     "output_type": "execute_result"
    }
   ],
   "source": [
    "# Create 5-Folds \n",
    "kf = StratifiedKFold(n_splits=5, random_state=42, shuffle=True)\n",
    "kf.get_n_splits(X, y)"
   ]
  },
  {
   "cell_type": "code",
   "execution_count": 454,
   "metadata": {
    "ExecuteTime": {
     "end_time": "2020-08-23T08:04:18.638075Z",
     "start_time": "2020-08-23T08:04:12.929337Z"
    }
   },
   "outputs": [
    {
     "data": {
      "text/plain": [
       "XGBRFClassifier(base_score=0.5, booster='gbtree', colsample_bylevel=1,\n",
       "                colsample_bytree=0.6, gamma=0, gpu_id=-1,\n",
       "                importance_type='gain', interaction_constraints='',\n",
       "                learning_rate=0.01, max_delta_step=0, max_depth=10,\n",
       "                min_child_weight=1, missing=nan, monotone_constraints='()',\n",
       "                n_estimators=200, n_jobs=0, num_parallel_tree=200,\n",
       "                objective='multi:softprob', random_state=0, reg_alpha=0,\n",
       "                scale_pos_weight=None, subsample=1.0, tree_method='exact',\n",
       "                validate_parameters=1, verbosity=None)"
      ]
     },
     "execution_count": 454,
     "metadata": {},
     "output_type": "execute_result"
    },
    {
     "name": "stdout",
     "output_type": "stream",
     "text": [
      "X test size: 479 ; X train size: 1912\n",
      "Test Accuracy: 0.7537\n"
     ]
    },
    {
     "data": {
      "text/plain": [
       "XGBRFClassifier(base_score=0.5, booster='gbtree', colsample_bylevel=1,\n",
       "                colsample_bytree=0.6, gamma=0, gpu_id=-1,\n",
       "                importance_type='gain', interaction_constraints='',\n",
       "                learning_rate=0.01, max_delta_step=0, max_depth=10,\n",
       "                min_child_weight=1, missing=nan, monotone_constraints='()',\n",
       "                n_estimators=200, n_jobs=0, num_parallel_tree=200,\n",
       "                objective='multi:softprob', random_state=0, reg_alpha=0,\n",
       "                scale_pos_weight=None, subsample=1.0, tree_method='exact',\n",
       "                validate_parameters=1, verbosity=None)"
      ]
     },
     "execution_count": 454,
     "metadata": {},
     "output_type": "execute_result"
    },
    {
     "name": "stdout",
     "output_type": "stream",
     "text": [
      "X test size: 478 ; X train size: 1913\n",
      "Test Accuracy: 0.7699\n"
     ]
    },
    {
     "data": {
      "text/plain": [
       "XGBRFClassifier(base_score=0.5, booster='gbtree', colsample_bylevel=1,\n",
       "                colsample_bytree=0.6, gamma=0, gpu_id=-1,\n",
       "                importance_type='gain', interaction_constraints='',\n",
       "                learning_rate=0.01, max_delta_step=0, max_depth=10,\n",
       "                min_child_weight=1, missing=nan, monotone_constraints='()',\n",
       "                n_estimators=200, n_jobs=0, num_parallel_tree=200,\n",
       "                objective='multi:softprob', random_state=0, reg_alpha=0,\n",
       "                scale_pos_weight=None, subsample=1.0, tree_method='exact',\n",
       "                validate_parameters=1, verbosity=None)"
      ]
     },
     "execution_count": 454,
     "metadata": {},
     "output_type": "execute_result"
    },
    {
     "name": "stdout",
     "output_type": "stream",
     "text": [
      "X test size: 478 ; X train size: 1913\n",
      "Test Accuracy: 0.7448\n"
     ]
    },
    {
     "data": {
      "text/plain": [
       "XGBRFClassifier(base_score=0.5, booster='gbtree', colsample_bylevel=1,\n",
       "                colsample_bytree=0.6, gamma=0, gpu_id=-1,\n",
       "                importance_type='gain', interaction_constraints='',\n",
       "                learning_rate=0.01, max_delta_step=0, max_depth=10,\n",
       "                min_child_weight=1, missing=nan, monotone_constraints='()',\n",
       "                n_estimators=200, n_jobs=0, num_parallel_tree=200,\n",
       "                objective='multi:softprob', random_state=0, reg_alpha=0,\n",
       "                scale_pos_weight=None, subsample=1.0, tree_method='exact',\n",
       "                validate_parameters=1, verbosity=None)"
      ]
     },
     "execution_count": 454,
     "metadata": {},
     "output_type": "execute_result"
    },
    {
     "name": "stdout",
     "output_type": "stream",
     "text": [
      "X test size: 478 ; X train size: 1913\n",
      "Test Accuracy: 0.7573\n"
     ]
    },
    {
     "data": {
      "text/plain": [
       "XGBRFClassifier(base_score=0.5, booster='gbtree', colsample_bylevel=1,\n",
       "                colsample_bytree=0.6, gamma=0, gpu_id=-1,\n",
       "                importance_type='gain', interaction_constraints='',\n",
       "                learning_rate=0.01, max_delta_step=0, max_depth=10,\n",
       "                min_child_weight=1, missing=nan, monotone_constraints='()',\n",
       "                n_estimators=200, n_jobs=0, num_parallel_tree=200,\n",
       "                objective='multi:softprob', random_state=0, reg_alpha=0,\n",
       "                scale_pos_weight=None, subsample=1.0, tree_method='exact',\n",
       "                validate_parameters=1, verbosity=None)"
      ]
     },
     "execution_count": 454,
     "metadata": {},
     "output_type": "execute_result"
    },
    {
     "name": "stdout",
     "output_type": "stream",
     "text": [
      "X test size: 478 ; X train size: 1913\n",
      "Test Accuracy: 0.7573\n"
     ]
    }
   ],
   "source": [
    "# for train_index, test_index in kf.split(X, Y):\n",
    "for train_index, test_index in kf.split(X, y):\n",
    "    \n",
    "    X_train, X_test = X.iloc[train_index,:], X.iloc[test_index,:]\n",
    "    y_train, y_test = y.iloc[train_index], y.iloc[test_index]\n",
    "    \n",
    "    model.fit(X_train, y_train, verbose=False)\n",
    "    y_pred = model.predict(X_test)\n",
    "    \n",
    "    print(\"X test size: {} ; X train size: {}\".format(len(X_test), len(X_train)))\n",
    "    # print the various evaluation metrics\n",
    "    print('Test Accuracy: %.4f'% accuracy_score(y_pred=y_pred, y_true=y_test))"
   ]
  },
  {
   "cell_type": "markdown",
   "metadata": {},
   "source": [
    "**Model test-test accuracies are stable across all 5 folds**"
   ]
  },
  {
   "cell_type": "markdown",
   "metadata": {},
   "source": [
    "----"
   ]
  },
  {
   "cell_type": "markdown",
   "metadata": {},
   "source": [
    "**Creating model on full dataset which can be tested on validation set**"
   ]
  },
  {
   "cell_type": "code",
   "execution_count": 476,
   "metadata": {
    "ExecuteTime": {
     "end_time": "2020-08-23T08:12:23.358479Z",
     "start_time": "2020-08-23T08:12:22.138740Z"
    }
   },
   "outputs": [
    {
     "data": {
      "text/plain": [
       "XGBRFClassifier(base_score=0.5, booster='gbtree', colsample_bylevel=1,\n",
       "                colsample_bytree=0.6, gamma=0.5, gpu_id=-1,\n",
       "                importance_type='gain', interaction_constraints='',\n",
       "                learning_rate=0.01, max_delta_step=0, max_depth=10,\n",
       "                min_child_weight=1, missing=nan, monotone_constraints='()',\n",
       "                n_estimators=200, n_jobs=0, num_parallel_tree=200,\n",
       "                objective='multi:softprob', random_state=0, reg_alpha=0,\n",
       "                scale_pos_weight=None, subsample=1.0, tree_method='exact',\n",
       "                validate_parameters=1, verbosity=None)"
      ]
     },
     "execution_count": 476,
     "metadata": {},
     "output_type": "execute_result"
    }
   ],
   "source": [
    "# model based on optimum hyperparameters\n",
    "xgb_model = xgboost.XGBRFClassifier(\n",
    "     colsample_bytree= 0.6,\n",
    "     gamma= 0.5,\n",
    "     learning_rate= 0.01,\n",
    "     max_depth= 10,\n",
    "     n_estimators= 200,\n",
    "     subsample= 1.0)\n",
    "\n",
    "# Fit entire data\n",
    "xgb_model.fit(X, y)"
   ]
  },
  {
   "cell_type": "code",
   "execution_count": 477,
   "metadata": {
    "ExecuteTime": {
     "end_time": "2020-08-23T08:12:42.122505Z",
     "start_time": "2020-08-23T08:12:42.092552Z"
    }
   },
   "outputs": [],
   "source": [
    "# save model to pickle file\n",
    "pickle.dump(xgb_model, open(\"xgb_model_v1.pkl\", 'wb'))"
   ]
  },
  {
   "cell_type": "markdown",
   "metadata": {},
   "source": [
    "----"
   ]
  }
 ],
 "metadata": {
  "kernelspec": {
   "display_name": "Python 3",
   "language": "python",
   "name": "python3"
  },
  "language_info": {
   "codemirror_mode": {
    "name": "ipython",
    "version": 3
   },
   "file_extension": ".py",
   "mimetype": "text/x-python",
   "name": "python",
   "nbconvert_exporter": "python",
   "pygments_lexer": "ipython3",
   "version": "3.7.4"
  },
  "toc": {
   "base_numbering": 1,
   "nav_menu": {},
   "number_sections": true,
   "sideBar": true,
   "skip_h1_title": false,
   "title_cell": "Table of Contents",
   "title_sidebar": "Contents",
   "toc_cell": false,
   "toc_position": {
    "height": "calc(100% - 180px)",
    "left": "10px",
    "top": "150px",
    "width": "298.2px"
   },
   "toc_section_display": true,
   "toc_window_display": true
  },
  "varInspector": {
   "cols": {
    "lenName": 16,
    "lenType": 16,
    "lenVar": 40
   },
   "kernels_config": {
    "python": {
     "delete_cmd_postfix": "",
     "delete_cmd_prefix": "del ",
     "library": "var_list.py",
     "varRefreshCmd": "print(var_dic_list())"
    },
    "r": {
     "delete_cmd_postfix": ") ",
     "delete_cmd_prefix": "rm(",
     "library": "var_list.r",
     "varRefreshCmd": "cat(var_dic_list()) "
    }
   },
   "types_to_exclude": [
    "module",
    "function",
    "builtin_function_or_method",
    "instance",
    "_Feature"
   ],
   "window_display": false
  }
 },
 "nbformat": 4,
 "nbformat_minor": 2
}
