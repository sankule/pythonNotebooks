{
 "cells": [
  {
   "cell_type": "markdown",
   "metadata": {},
   "source": [
    "# OTO Capital Assignment Notebook"
   ]
  },
  {
   "cell_type": "markdown",
   "metadata": {},
   "source": [
    "## Libraries"
   ]
  },
  {
   "cell_type": "code",
   "execution_count": 1,
   "metadata": {
    "ExecuteTime": {
     "end_time": "2020-09-05T19:11:28.291083Z",
     "start_time": "2020-09-05T19:11:14.104583Z"
    }
   },
   "outputs": [],
   "source": [
    "# libraries\n",
    "import pandas as pd\n",
    "import numpy as np\n",
    "from scipy import stats\n",
    "import matplotlib.pyplot as plt\n",
    "import seaborn as sns\n",
    "\n",
    "# display settings for jupyter notebook\n",
    "from IPython.core.interactiveshell import InteractiveShell\n",
    "InteractiveShell.ast_node_interactivity = \"all\"\n",
    "pd.set_option('display.max_rows', 500)\n",
    "pd.set_option('display.max_columns', 500)"
   ]
  },
  {
   "cell_type": "markdown",
   "metadata": {},
   "source": [
    "----"
   ]
  },
  {
   "cell_type": "raw",
   "metadata": {},
   "source": [
    "# Formatted random JSON to understand the structure\n",
    "{\n",
    "   \"acc\":{\n",
    "      \"acc\":3,\n",
    "      \"val\":[\n",
    "         1.2762148,\n",
    "         6.680032,\n",
    "         -7.040942\n",
    "      ]\n",
    "   },\n",
    "   \"gyr\":{\n",
    "      \"acc\":3,\n",
    "      \"val\":[\n",
    "         -4.192636E-4,\n",
    "         0.0045472165,\n",
    "         8.591551E-4\n",
    "      ]\n",
    "   },\n",
    "   \"locations\":[\n",
    "      {\n",
    "         \"ac\":4.421,\n",
    "         \"altitude\":\"841.5\",\n",
    "         \"rotation\":\"133.37166\",\n",
    "         \"rotation_accuracy_degrees\":\"0.0\",\n",
    "         \"lt\":12.9793587,\n",
    "         \"lts\":1583298764000,\n",
    "         \"lg\":77.6023152,\n",
    "         \"speed\":\"0.027187278\",\n",
    "         \"speedAccuracyMetersPerSecond\":\"0.43416587\",\n",
    "         \"verticalAccuracyMeters\":\"2.0\"\n",
    "      }\n",
    "   ],\n",
    "   \"mag\":{\n",
    "      \"acc\":2,\n",
    "      \"val\":[\n",
    "         -11.344757,\n",
    "         25.50758,\n",
    "         29.597145\n",
    "      ]\n",
    "   },\n",
    "   \"orientationAngles\":[\n",
    "      -0.1464205,\n",
    "      -0.7510342,\n",
    "      -2.9622831\n",
    "   ],\n",
    "   \"ts\":1583298762152,\n",
    "   \"value1\":{\n",
    "      \"acc\":0,\n",
    "      \"val\":[\n",
    "         0.0,\n",
    "         0.0,\n",
    "         0.0\n",
    "      ]\n",
    "   },\n",
    "   \"value2\":{\n",
    "      \"acc\":0,\n",
    "      \"val\":[\n",
    "         -2.5299551,\n",
    "         -0.059103236,\n",
    "         9.456334\n",
    "      ]\n",
    "   }\n",
    "}"
   ]
  },
  {
   "cell_type": "markdown",
   "metadata": {},
   "source": [
    "---"
   ]
  },
  {
   "cell_type": "markdown",
   "metadata": {},
   "source": [
    "## Import data"
   ]
  },
  {
   "cell_type": "code",
   "execution_count": 2,
   "metadata": {
    "ExecuteTime": {
     "end_time": "2020-09-05T19:11:28.690982Z",
     "start_time": "2020-09-05T19:11:28.332937Z"
    }
   },
   "outputs": [],
   "source": [
    "# Imprting data using pandas read json\n",
    "raw_df = pd.read_json(\"sensor_data.json\", lines=True, orient='values', typ='frame')"
   ]
  },
  {
   "cell_type": "code",
   "execution_count": 3,
   "metadata": {
    "ExecuteTime": {
     "end_time": "2020-09-05T19:11:28.892441Z",
     "start_time": "2020-09-05T19:11:28.828611Z"
    },
    "scrolled": true
   },
   "outputs": [
    {
     "data": {
      "text/html": [
       "<div>\n",
       "<style scoped>\n",
       "    .dataframe tbody tr th:only-of-type {\n",
       "        vertical-align: middle;\n",
       "    }\n",
       "\n",
       "    .dataframe tbody tr th {\n",
       "        vertical-align: top;\n",
       "    }\n",
       "\n",
       "    .dataframe thead th {\n",
       "        text-align: right;\n",
       "    }\n",
       "</style>\n",
       "<table border=\"1\" class=\"dataframe\">\n",
       "  <thead>\n",
       "    <tr style=\"text-align: right;\">\n",
       "      <th></th>\n",
       "      <th>acc</th>\n",
       "      <th>gyr</th>\n",
       "      <th>locations</th>\n",
       "      <th>mag</th>\n",
       "      <th>orientationAngles</th>\n",
       "      <th>ts</th>\n",
       "      <th>value1</th>\n",
       "      <th>value2</th>\n",
       "    </tr>\n",
       "  </thead>\n",
       "  <tbody>\n",
       "    <tr>\n",
       "      <td>0</td>\n",
       "      <td>{'acc': 3, 'val': [-1.8379072, 5.630812, 8.084...</td>\n",
       "      <td>{'acc': 0, 'val': []}</td>\n",
       "      <td>[]</td>\n",
       "      <td>{'acc': 0, 'val': []}</td>\n",
       "      <td>[0.0, 0.0, 0.0]</td>\n",
       "      <td>1583298716729</td>\n",
       "      <td>{'acc': 0, 'val': []}</td>\n",
       "      <td>{'acc': 0, 'val': [-1.8379072, 5.630812, 8.084...</td>\n",
       "    </tr>\n",
       "    <tr>\n",
       "      <td>1</td>\n",
       "      <td>{'acc': 3, 'val': [-1.7995796, 5.626021, 8.050...</td>\n",
       "      <td>{'acc': 0, 'val': []}</td>\n",
       "      <td>[]</td>\n",
       "      <td>{'acc': 0, 'val': []}</td>\n",
       "      <td>[0.0, 0.0, 0.0]</td>\n",
       "      <td>1583298716772</td>\n",
       "      <td>{'acc': 0, 'val': []}</td>\n",
       "      <td>{'acc': 0, 'val': [-1.7995796, 5.626021, 8.050...</td>\n",
       "    </tr>\n",
       "    <tr>\n",
       "      <td>2</td>\n",
       "      <td>{'acc': 3, 'val': [-1.7899976999999998, 5.6116...</td>\n",
       "      <td>{'acc': 0, 'val': []}</td>\n",
       "      <td>[]</td>\n",
       "      <td>{'acc': 0, 'val': []}</td>\n",
       "      <td>[0.0, 0.0, 0.0]</td>\n",
       "      <td>1583298716790</td>\n",
       "      <td>{'acc': 0, 'val': []}</td>\n",
       "      <td>{'acc': 0, 'val': [-1.7899976999999998, 5.6116...</td>\n",
       "    </tr>\n",
       "    <tr>\n",
       "      <td>3</td>\n",
       "      <td>{'acc': 3, 'val': [-1.7612519, 5.6164393, 7.99...</td>\n",
       "      <td>{'acc': 0, 'val': []}</td>\n",
       "      <td>[]</td>\n",
       "      <td>{'acc': 0, 'val': []}</td>\n",
       "      <td>[0.0, 0.0, 0.0]</td>\n",
       "      <td>1583298716820</td>\n",
       "      <td>{'acc': 0, 'val': []}</td>\n",
       "      <td>{'acc': 0, 'val': [-1.7612519, 5.6164393, 7.99...</td>\n",
       "    </tr>\n",
       "    <tr>\n",
       "      <td>4</td>\n",
       "      <td>{'acc': 3, 'val': [-1.5744045999999998, 5.5158...</td>\n",
       "      <td>{'acc': 0, 'val': []}</td>\n",
       "      <td>[]</td>\n",
       "      <td>{'acc': 0, 'val': []}</td>\n",
       "      <td>[0.0, 0.0, 0.0]</td>\n",
       "      <td>1583298716840</td>\n",
       "      <td>{'acc': 0, 'val': []}</td>\n",
       "      <td>{'acc': 0, 'val': [-1.5744045999999998, 5.5158...</td>\n",
       "    </tr>\n",
       "    <tr>\n",
       "      <td>...</td>\n",
       "      <td>...</td>\n",
       "      <td>...</td>\n",
       "      <td>...</td>\n",
       "      <td>...</td>\n",
       "      <td>...</td>\n",
       "      <td>...</td>\n",
       "      <td>...</td>\n",
       "      <td>...</td>\n",
       "    </tr>\n",
       "    <tr>\n",
       "      <td>17553</td>\n",
       "      <td>{'acc': 3, 'val': [-5.6179724, 7.4897037, 9.43...</td>\n",
       "      <td>{'acc': 3, 'val': [-0.6246636999999999, -0.677...</td>\n",
       "      <td>[]</td>\n",
       "      <td>{'acc': 2, 'val': [-42.15477, -8.99263, -15.85...</td>\n",
       "      <td>[1.8333184, -0.5987557, 0.5372753]</td>\n",
       "      <td>1583300546327</td>\n",
       "      <td>{'acc': 0, 'val': [0.0, 0.0, 0.35000002]}</td>\n",
       "      <td>{'acc': 0, 'val': [5.635123, 8.481034, 8.538536]}</td>\n",
       "    </tr>\n",
       "    <tr>\n",
       "      <td>17554</td>\n",
       "      <td>{'acc': 3, 'val': [-5.426334, 6.6273313, 11.29...</td>\n",
       "      <td>{'acc': 3, 'val': [-0.9953753999999999, -0.980...</td>\n",
       "      <td>[]</td>\n",
       "      <td>{'acc': 2, 'val': [-42.555717, -5.3520355, -17...</td>\n",
       "      <td>[1.6979096, -0.48651305, 0.44789332]</td>\n",
       "      <td>1583300546337</td>\n",
       "      <td>{'acc': 0, 'val': [0.0, 0.0, 0.44000006]}</td>\n",
       "      <td>{'acc': 0, 'val': [3.419809, 9.424681, 10.0201...</td>\n",
       "    </tr>\n",
       "    <tr>\n",
       "      <td>17555</td>\n",
       "      <td>{'acc': 3, 'val': [-4.779555, 4.4522367, 12.10...</td>\n",
       "      <td>{'acc': 3, 'val': [-0.64064264, -0.65378565, 0...</td>\n",
       "      <td>[]</td>\n",
       "      <td>{'acc': 2, 'val': [-42.653687, -6.615814, -14....</td>\n",
       "      <td>[1.7211596999999998, -0.32964787, 0.37608743]</td>\n",
       "      <td>1583300546347</td>\n",
       "      <td>{'acc': 0, 'val': [0.0, 0.0, 0.399999980000000...</td>\n",
       "      <td>{'acc': 0, 'val': [2.455543, 8.620443999999999...</td>\n",
       "    </tr>\n",
       "    <tr>\n",
       "      <td>17556</td>\n",
       "      <td>{'acc': 3, 'val': [-4.769973, 4.2462254, 11.92...</td>\n",
       "      <td>{'acc': 3, 'val': [-0.5192026, -0.5525856, 0.7...</td>\n",
       "      <td>[]</td>\n",
       "      <td>{'acc': 0, 'val': []}</td>\n",
       "      <td>[0.0, 0.0, 0.0]</td>\n",
       "      <td>1583300546357</td>\n",
       "      <td>{'acc': 0, 'val': []}</td>\n",
       "      <td>{'acc': 0, 'val': [-4.769973, 4.2462254, 11.92...</td>\n",
       "    </tr>\n",
       "    <tr>\n",
       "      <td>17557</td>\n",
       "      <td>{'acc': 3, 'val': [-4.0273747, 3.987514, 10.91...</td>\n",
       "      <td>{'acc': 3, 'val': [-0.1335772, -0.1030444, 1.0...</td>\n",
       "      <td>[]</td>\n",
       "      <td>{'acc': 2, 'val': [-43.388275, -5.815399, -12....</td>\n",
       "      <td>[1.7163024999999998, -0.33017653, 0.35346222]</td>\n",
       "      <td>1583300546374</td>\n",
       "      <td>{'acc': 0, 'val': [0.0, 0.0, 0.25]}</td>\n",
       "      <td>{'acc': 0, 'val': [1.9900749, 7.345883, 9.6616...</td>\n",
       "    </tr>\n",
       "  </tbody>\n",
       "</table>\n",
       "<p>17558 rows × 8 columns</p>\n",
       "</div>"
      ],
      "text/plain": [
       "                                                     acc  \\\n",
       "0      {'acc': 3, 'val': [-1.8379072, 5.630812, 8.084...   \n",
       "1      {'acc': 3, 'val': [-1.7995796, 5.626021, 8.050...   \n",
       "2      {'acc': 3, 'val': [-1.7899976999999998, 5.6116...   \n",
       "3      {'acc': 3, 'val': [-1.7612519, 5.6164393, 7.99...   \n",
       "4      {'acc': 3, 'val': [-1.5744045999999998, 5.5158...   \n",
       "...                                                  ...   \n",
       "17553  {'acc': 3, 'val': [-5.6179724, 7.4897037, 9.43...   \n",
       "17554  {'acc': 3, 'val': [-5.426334, 6.6273313, 11.29...   \n",
       "17555  {'acc': 3, 'val': [-4.779555, 4.4522367, 12.10...   \n",
       "17556  {'acc': 3, 'val': [-4.769973, 4.2462254, 11.92...   \n",
       "17557  {'acc': 3, 'val': [-4.0273747, 3.987514, 10.91...   \n",
       "\n",
       "                                                     gyr locations  \\\n",
       "0                                  {'acc': 0, 'val': []}        []   \n",
       "1                                  {'acc': 0, 'val': []}        []   \n",
       "2                                  {'acc': 0, 'val': []}        []   \n",
       "3                                  {'acc': 0, 'val': []}        []   \n",
       "4                                  {'acc': 0, 'val': []}        []   \n",
       "...                                                  ...       ...   \n",
       "17553  {'acc': 3, 'val': [-0.6246636999999999, -0.677...        []   \n",
       "17554  {'acc': 3, 'val': [-0.9953753999999999, -0.980...        []   \n",
       "17555  {'acc': 3, 'val': [-0.64064264, -0.65378565, 0...        []   \n",
       "17556  {'acc': 3, 'val': [-0.5192026, -0.5525856, 0.7...        []   \n",
       "17557  {'acc': 3, 'val': [-0.1335772, -0.1030444, 1.0...        []   \n",
       "\n",
       "                                                     mag  \\\n",
       "0                                  {'acc': 0, 'val': []}   \n",
       "1                                  {'acc': 0, 'val': []}   \n",
       "2                                  {'acc': 0, 'val': []}   \n",
       "3                                  {'acc': 0, 'val': []}   \n",
       "4                                  {'acc': 0, 'val': []}   \n",
       "...                                                  ...   \n",
       "17553  {'acc': 2, 'val': [-42.15477, -8.99263, -15.85...   \n",
       "17554  {'acc': 2, 'val': [-42.555717, -5.3520355, -17...   \n",
       "17555  {'acc': 2, 'val': [-42.653687, -6.615814, -14....   \n",
       "17556                              {'acc': 0, 'val': []}   \n",
       "17557  {'acc': 2, 'val': [-43.388275, -5.815399, -12....   \n",
       "\n",
       "                                   orientationAngles             ts  \\\n",
       "0                                    [0.0, 0.0, 0.0]  1583298716729   \n",
       "1                                    [0.0, 0.0, 0.0]  1583298716772   \n",
       "2                                    [0.0, 0.0, 0.0]  1583298716790   \n",
       "3                                    [0.0, 0.0, 0.0]  1583298716820   \n",
       "4                                    [0.0, 0.0, 0.0]  1583298716840   \n",
       "...                                              ...            ...   \n",
       "17553             [1.8333184, -0.5987557, 0.5372753]  1583300546327   \n",
       "17554           [1.6979096, -0.48651305, 0.44789332]  1583300546337   \n",
       "17555  [1.7211596999999998, -0.32964787, 0.37608743]  1583300546347   \n",
       "17556                                [0.0, 0.0, 0.0]  1583300546357   \n",
       "17557  [1.7163024999999998, -0.33017653, 0.35346222]  1583300546374   \n",
       "\n",
       "                                                  value1  \\\n",
       "0                                  {'acc': 0, 'val': []}   \n",
       "1                                  {'acc': 0, 'val': []}   \n",
       "2                                  {'acc': 0, 'val': []}   \n",
       "3                                  {'acc': 0, 'val': []}   \n",
       "4                                  {'acc': 0, 'val': []}   \n",
       "...                                                  ...   \n",
       "17553          {'acc': 0, 'val': [0.0, 0.0, 0.35000002]}   \n",
       "17554          {'acc': 0, 'val': [0.0, 0.0, 0.44000006]}   \n",
       "17555  {'acc': 0, 'val': [0.0, 0.0, 0.399999980000000...   \n",
       "17556                              {'acc': 0, 'val': []}   \n",
       "17557                {'acc': 0, 'val': [0.0, 0.0, 0.25]}   \n",
       "\n",
       "                                                  value2  \n",
       "0      {'acc': 0, 'val': [-1.8379072, 5.630812, 8.084...  \n",
       "1      {'acc': 0, 'val': [-1.7995796, 5.626021, 8.050...  \n",
       "2      {'acc': 0, 'val': [-1.7899976999999998, 5.6116...  \n",
       "3      {'acc': 0, 'val': [-1.7612519, 5.6164393, 7.99...  \n",
       "4      {'acc': 0, 'val': [-1.5744045999999998, 5.5158...  \n",
       "...                                                  ...  \n",
       "17553  {'acc': 0, 'val': [5.635123, 8.481034, 8.538536]}  \n",
       "17554  {'acc': 0, 'val': [3.419809, 9.424681, 10.0201...  \n",
       "17555  {'acc': 0, 'val': [2.455543, 8.620443999999999...  \n",
       "17556  {'acc': 0, 'val': [-4.769973, 4.2462254, 11.92...  \n",
       "17557  {'acc': 0, 'val': [1.9900749, 7.345883, 9.6616...  \n",
       "\n",
       "[17558 rows x 8 columns]"
      ]
     },
     "execution_count": 3,
     "metadata": {},
     "output_type": "execute_result"
    }
   ],
   "source": [
    "raw_df"
   ]
  },
  {
   "cell_type": "markdown",
   "metadata": {},
   "source": [
    "### Acceleration"
   ]
  },
  {
   "cell_type": "code",
   "execution_count": 4,
   "metadata": {
    "ExecuteTime": {
     "end_time": "2020-09-05T19:11:29.122825Z",
     "start_time": "2020-09-05T19:11:29.082933Z"
    },
    "scrolled": true
   },
   "outputs": [],
   "source": [
    "# Lambda function to extract list\n",
    "raw_df['Acceleration_Extract'] = raw_df['acc'].apply(lambda x: x['val'])\n",
    "\n",
    "# Split each X,Y and Z from the list and saving columns to final dataframe\n",
    "final_df = pd.DataFrame(raw_df['Acceleration_Extract'].tolist(), \n",
    "                        columns=['x_axis_acceleration','y_axis_acceleration','z_axis_acceleration'],\n",
    "                        index= raw_df.index)"
   ]
  },
  {
   "cell_type": "markdown",
   "metadata": {},
   "source": [
    "### Location"
   ]
  },
  {
   "cell_type": "code",
   "execution_count": 5,
   "metadata": {
    "ExecuteTime": {
     "end_time": "2020-09-05T19:11:41.474884Z",
     "start_time": "2020-09-05T19:11:29.302058Z"
    }
   },
   "outputs": [],
   "source": [
    "raw_df['Locations_Extract'] = pd.DataFrame(raw_df['locations'].to_list())[0]"
   ]
  },
  {
   "cell_type": "markdown",
   "metadata": {},
   "source": [
    "#### Latitude"
   ]
  },
  {
   "cell_type": "code",
   "execution_count": 6,
   "metadata": {
    "ExecuteTime": {
     "end_time": "2020-09-05T19:11:41.673321Z",
     "start_time": "2020-09-05T19:11:41.663347Z"
    }
   },
   "outputs": [],
   "source": [
    "# add latitude in final_df\n",
    "final_df['lat'] = raw_df['Locations_Extract'].apply(lambda x : x['lt'] if x != None else x)"
   ]
  },
  {
   "cell_type": "markdown",
   "metadata": {},
   "source": [
    "#### Longitude"
   ]
  },
  {
   "cell_type": "code",
   "execution_count": 7,
   "metadata": {
    "ExecuteTime": {
     "end_time": "2020-09-05T19:11:41.862947Z",
     "start_time": "2020-09-05T19:11:41.851841Z"
    }
   },
   "outputs": [],
   "source": [
    "# add longitude in final_df\n",
    "final_df['long'] = raw_df['Locations_Extract'].apply(lambda x : x['lg'] if x != None else x)"
   ]
  },
  {
   "cell_type": "markdown",
   "metadata": {},
   "source": [
    "#### Speed"
   ]
  },
  {
   "cell_type": "code",
   "execution_count": 8,
   "metadata": {
    "ExecuteTime": {
     "end_time": "2020-09-05T19:11:42.089208Z",
     "start_time": "2020-09-05T19:11:42.070259Z"
    }
   },
   "outputs": [],
   "source": [
    "# add speed in final_df\n",
    "final_df['speed'] = raw_df['Locations_Extract'].apply(lambda x : x['speed'] if x != None else x)\n",
    "\n",
    "# changing dtype to float\n",
    "final_df['speed'] = final_df['speed'].astype(float)"
   ]
  },
  {
   "cell_type": "markdown",
   "metadata": {},
   "source": [
    "### TimeStamp"
   ]
  },
  {
   "cell_type": "code",
   "execution_count": 9,
   "metadata": {
    "ExecuteTime": {
     "end_time": "2020-09-05T19:11:42.308652Z",
     "start_time": "2020-09-05T19:11:42.301641Z"
    }
   },
   "outputs": [],
   "source": [
    "# adding date-time to final_df\n",
    "final_df['timeStamp'] = pd.to_datetime(raw_df['ts'], unit='ms')"
   ]
  },
  {
   "cell_type": "markdown",
   "metadata": {},
   "source": [
    "---"
   ]
  },
  {
   "cell_type": "markdown",
   "metadata": {},
   "source": [
    "### Interpolate and BackFill Missing Values\n",
    "using default linear interpolation for now and backfill for remaining rows in beginning"
   ]
  },
  {
   "cell_type": "code",
   "execution_count": 10,
   "metadata": {
    "ExecuteTime": {
     "end_time": "2020-09-05T19:11:42.624777Z",
     "start_time": "2020-09-05T19:11:42.557956Z"
    },
    "scrolled": true
   },
   "outputs": [
    {
     "name": "stdout",
     "output_type": "stream",
     "text": [
      "x_axis_acceleration\n",
      "y_axis_acceleration\n",
      "z_axis_acceleration\n",
      "lat\n",
      "long\n",
      "speed\n",
      "timeStamp\n"
     ]
    }
   ],
   "source": [
    "# Interpolate missing values in all columns\n",
    "for col in final_df.columns.to_list():\n",
    "    print(col)\n",
    "    # interpolate the missing values\n",
    "    final_df[col] = final_df[col].interpolate()\n",
    "    \n",
    "    # backfill on remaining NA values\n",
    "    final_df[col] = final_df[col].fillna(method=\"bfill\")"
   ]
  },
  {
   "cell_type": "code",
   "execution_count": 11,
   "metadata": {
    "ExecuteTime": {
     "end_time": "2020-09-05T19:11:42.876105Z",
     "start_time": "2020-09-05T19:11:42.853165Z"
    },
    "scrolled": true
   },
   "outputs": [
    {
     "data": {
      "text/html": [
       "<div>\n",
       "<style scoped>\n",
       "    .dataframe tbody tr th:only-of-type {\n",
       "        vertical-align: middle;\n",
       "    }\n",
       "\n",
       "    .dataframe tbody tr th {\n",
       "        vertical-align: top;\n",
       "    }\n",
       "\n",
       "    .dataframe thead th {\n",
       "        text-align: right;\n",
       "    }\n",
       "</style>\n",
       "<table border=\"1\" class=\"dataframe\">\n",
       "  <thead>\n",
       "    <tr style=\"text-align: right;\">\n",
       "      <th></th>\n",
       "      <th>x_axis_acceleration</th>\n",
       "      <th>y_axis_acceleration</th>\n",
       "      <th>z_axis_acceleration</th>\n",
       "      <th>lat</th>\n",
       "      <th>long</th>\n",
       "      <th>speed</th>\n",
       "      <th>timeStamp</th>\n",
       "    </tr>\n",
       "  </thead>\n",
       "  <tbody>\n",
       "    <tr>\n",
       "      <td>0</td>\n",
       "      <td>-1.837907</td>\n",
       "      <td>5.630812</td>\n",
       "      <td>8.084110</td>\n",
       "      <td>12.979606</td>\n",
       "      <td>77.601591</td>\n",
       "      <td>0.052741</td>\n",
       "      <td>2020-03-04 05:11:56.729</td>\n",
       "    </tr>\n",
       "    <tr>\n",
       "      <td>1</td>\n",
       "      <td>-1.799580</td>\n",
       "      <td>5.626021</td>\n",
       "      <td>8.050573</td>\n",
       "      <td>12.979606</td>\n",
       "      <td>77.601591</td>\n",
       "      <td>0.052741</td>\n",
       "      <td>2020-03-04 05:11:56.772</td>\n",
       "    </tr>\n",
       "    <tr>\n",
       "      <td>2</td>\n",
       "      <td>-1.789998</td>\n",
       "      <td>5.611648</td>\n",
       "      <td>8.021828</td>\n",
       "      <td>12.979606</td>\n",
       "      <td>77.601591</td>\n",
       "      <td>0.052741</td>\n",
       "      <td>2020-03-04 05:11:56.790</td>\n",
       "    </tr>\n",
       "    <tr>\n",
       "      <td>3</td>\n",
       "      <td>-1.761252</td>\n",
       "      <td>5.616439</td>\n",
       "      <td>7.993082</td>\n",
       "      <td>12.979606</td>\n",
       "      <td>77.601591</td>\n",
       "      <td>0.052741</td>\n",
       "      <td>2020-03-04 05:11:56.820</td>\n",
       "    </tr>\n",
       "    <tr>\n",
       "      <td>4</td>\n",
       "      <td>-1.574405</td>\n",
       "      <td>5.515829</td>\n",
       "      <td>7.887681</td>\n",
       "      <td>12.979606</td>\n",
       "      <td>77.601591</td>\n",
       "      <td>0.052741</td>\n",
       "      <td>2020-03-04 05:11:56.840</td>\n",
       "    </tr>\n",
       "    <tr>\n",
       "      <td>...</td>\n",
       "      <td>...</td>\n",
       "      <td>...</td>\n",
       "      <td>...</td>\n",
       "      <td>...</td>\n",
       "      <td>...</td>\n",
       "      <td>...</td>\n",
       "      <td>...</td>\n",
       "    </tr>\n",
       "    <tr>\n",
       "      <td>17553</td>\n",
       "      <td>-5.617972</td>\n",
       "      <td>7.489704</td>\n",
       "      <td>9.430369</td>\n",
       "      <td>12.917346</td>\n",
       "      <td>77.627528</td>\n",
       "      <td>1.013462</td>\n",
       "      <td>2020-03-04 05:42:26.327</td>\n",
       "    </tr>\n",
       "    <tr>\n",
       "      <td>17554</td>\n",
       "      <td>-5.426334</td>\n",
       "      <td>6.627331</td>\n",
       "      <td>11.294051</td>\n",
       "      <td>12.917346</td>\n",
       "      <td>77.627528</td>\n",
       "      <td>1.013462</td>\n",
       "      <td>2020-03-04 05:42:26.337</td>\n",
       "    </tr>\n",
       "    <tr>\n",
       "      <td>17555</td>\n",
       "      <td>-4.779555</td>\n",
       "      <td>4.452237</td>\n",
       "      <td>12.103723</td>\n",
       "      <td>12.917346</td>\n",
       "      <td>77.627528</td>\n",
       "      <td>1.013462</td>\n",
       "      <td>2020-03-04 05:42:26.347</td>\n",
       "    </tr>\n",
       "    <tr>\n",
       "      <td>17556</td>\n",
       "      <td>-4.769973</td>\n",
       "      <td>4.246225</td>\n",
       "      <td>11.921667</td>\n",
       "      <td>12.917346</td>\n",
       "      <td>77.627528</td>\n",
       "      <td>1.013462</td>\n",
       "      <td>2020-03-04 05:42:26.357</td>\n",
       "    </tr>\n",
       "    <tr>\n",
       "      <td>17557</td>\n",
       "      <td>-4.027375</td>\n",
       "      <td>3.987514</td>\n",
       "      <td>10.915565</td>\n",
       "      <td>12.917346</td>\n",
       "      <td>77.627528</td>\n",
       "      <td>1.013462</td>\n",
       "      <td>2020-03-04 05:42:26.374</td>\n",
       "    </tr>\n",
       "  </tbody>\n",
       "</table>\n",
       "<p>17558 rows × 7 columns</p>\n",
       "</div>"
      ],
      "text/plain": [
       "       x_axis_acceleration  y_axis_acceleration  z_axis_acceleration  \\\n",
       "0                -1.837907             5.630812             8.084110   \n",
       "1                -1.799580             5.626021             8.050573   \n",
       "2                -1.789998             5.611648             8.021828   \n",
       "3                -1.761252             5.616439             7.993082   \n",
       "4                -1.574405             5.515829             7.887681   \n",
       "...                    ...                  ...                  ...   \n",
       "17553            -5.617972             7.489704             9.430369   \n",
       "17554            -5.426334             6.627331            11.294051   \n",
       "17555            -4.779555             4.452237            12.103723   \n",
       "17556            -4.769973             4.246225            11.921667   \n",
       "17557            -4.027375             3.987514            10.915565   \n",
       "\n",
       "             lat       long     speed               timeStamp  \n",
       "0      12.979606  77.601591  0.052741 2020-03-04 05:11:56.729  \n",
       "1      12.979606  77.601591  0.052741 2020-03-04 05:11:56.772  \n",
       "2      12.979606  77.601591  0.052741 2020-03-04 05:11:56.790  \n",
       "3      12.979606  77.601591  0.052741 2020-03-04 05:11:56.820  \n",
       "4      12.979606  77.601591  0.052741 2020-03-04 05:11:56.840  \n",
       "...          ...        ...       ...                     ...  \n",
       "17553  12.917346  77.627528  1.013462 2020-03-04 05:42:26.327  \n",
       "17554  12.917346  77.627528  1.013462 2020-03-04 05:42:26.337  \n",
       "17555  12.917346  77.627528  1.013462 2020-03-04 05:42:26.347  \n",
       "17556  12.917346  77.627528  1.013462 2020-03-04 05:42:26.357  \n",
       "17557  12.917346  77.627528  1.013462 2020-03-04 05:42:26.374  \n",
       "\n",
       "[17558 rows x 7 columns]"
      ]
     },
     "execution_count": 11,
     "metadata": {},
     "output_type": "execute_result"
    }
   ],
   "source": [
    "final_df"
   ]
  },
  {
   "cell_type": "code",
   "execution_count": 12,
   "metadata": {
    "ExecuteTime": {
     "end_time": "2020-09-05T19:11:43.080560Z",
     "start_time": "2020-09-05T19:11:43.070588Z"
    }
   },
   "outputs": [
    {
     "data": {
      "text/plain": [
       "Timedelta('0 days 00:30:29.645000')"
      ]
     },
     "execution_count": 12,
     "metadata": {},
     "output_type": "execute_result"
    }
   ],
   "source": [
    "(final_df['timeStamp'].max() - final_df['timeStamp'].min())\n",
    "# 30 mins of data"
   ]
  },
  {
   "cell_type": "markdown",
   "metadata": {},
   "source": [
    "----"
   ]
  },
  {
   "cell_type": "markdown",
   "metadata": {},
   "source": [
    "# Solution Approach "
   ]
  },
  {
   "cell_type": "markdown",
   "metadata": {},
   "source": [
    "**Assuming mobile will be in Horizontal position when user is riding a bike/scooter**"
   ]
  },
  {
   "attachments": {
    "image.png": {
     "image/png": "[encoded data removed]"
    }
   },
   "cell_type": "markdown",
   "metadata": {},
   "source": [
    "![image.png](attachment:image.png)"
   ]
  },
  {
   "cell_type": "markdown",
   "metadata": {},
   "source": [
    "----"
   ]
  },
  {
   "cell_type": "code",
   "execution_count": 13,
   "metadata": {
    "ExecuteTime": {
     "end_time": "2020-09-05T19:11:56.301607Z",
     "start_time": "2020-09-05T19:11:56.294625Z"
    }
   },
   "outputs": [],
   "source": [
    "sns.set(style=\"whitegrid\")"
   ]
  },
  {
   "cell_type": "markdown",
   "metadata": {},
   "source": [
    "Box plots for acceleration"
   ]
  },
  {
   "cell_type": "code",
   "execution_count": 14,
   "metadata": {
    "ExecuteTime": {
     "end_time": "2020-09-05T19:11:57.068088Z",
     "start_time": "2020-09-05T19:11:57.053158Z"
    }
   },
   "outputs": [
    {
     "data": {
      "text/plain": [
       "count    17558.000000\n",
       "mean        -7.141828\n",
       "std          3.523429\n",
       "min        -52.578987\n",
       "25%         -8.783652\n",
       "50%         -7.045732\n",
       "75%         -6.949914\n",
       "max         17.666023\n",
       "Name: z_axis_acceleration, dtype: float64"
      ]
     },
     "execution_count": 14,
     "metadata": {},
     "output_type": "execute_result"
    }
   ],
   "source": [
    "final_df['z_axis_acceleration'].describe()"
   ]
  },
  {
   "cell_type": "code",
   "execution_count": 15,
   "metadata": {
    "ExecuteTime": {
     "end_time": "2020-09-05T19:11:57.707464Z",
     "start_time": "2020-09-05T19:11:57.369280Z"
    }
   },
   "outputs": [
    {
     "data": {
      "image/png": "[encoded data removed]",
      "text/plain": [
       "<Figure size 1440x360 with 1 Axes>"
      ]
     },
     "metadata": {},
     "output_type": "display_data"
    }
   ],
   "source": [
    "# Z - Axis Acceleration\n",
    "plt.figure(figsize=(20,5))\n",
    "ax = sns.boxplot(x=final_df[\"z_axis_acceleration\"]);"
   ]
  },
  {
   "cell_type": "markdown",
   "metadata": {},
   "source": [
    "---"
   ]
  },
  {
   "cell_type": "code",
   "execution_count": 16,
   "metadata": {
    "ExecuteTime": {
     "end_time": "2020-09-05T19:11:58.730865Z",
     "start_time": "2020-09-05T19:11:58.717932Z"
    }
   },
   "outputs": [
    {
     "data": {
      "text/plain": [
       "count    17558.000000\n",
       "mean         4.768668\n",
       "std          3.089130\n",
       "min        -15.885376\n",
       "25%          2.823311\n",
       "50%          6.632122\n",
       "75%          6.675241\n",
       "max         45.443670\n",
       "Name: y_axis_acceleration, dtype: float64"
      ]
     },
     "execution_count": 16,
     "metadata": {},
     "output_type": "execute_result"
    }
   ],
   "source": [
    "final_df['y_axis_acceleration'].describe()"
   ]
  },
  {
   "cell_type": "code",
   "execution_count": 17,
   "metadata": {
    "ExecuteTime": {
     "end_time": "2020-09-05T19:11:59.360626Z",
     "start_time": "2020-09-05T19:11:58.995466Z"
    }
   },
   "outputs": [
    {
     "data": {
      "image/png": "[encoded data removed]",
      "text/plain": [
       "<Figure size 1440x360 with 1 Axes>"
      ]
     },
     "metadata": {},
     "output_type": "display_data"
    }
   ],
   "source": [
    "# Y - Axis Acceleration \n",
    "plt.figure(figsize=(20,5))\n",
    "ax = sns.boxplot(x=final_df[\"y_axis_acceleration\"]);"
   ]
  },
  {
   "cell_type": "markdown",
   "metadata": {},
   "source": [
    "---"
   ]
  },
  {
   "cell_type": "code",
   "execution_count": 18,
   "metadata": {
    "ExecuteTime": {
     "end_time": "2020-09-05T19:12:22.225481Z",
     "start_time": "2020-09-05T19:12:22.212486Z"
    }
   },
   "outputs": [
    {
     "data": {
      "text/plain": [
       "count    17558.000000\n",
       "mean         2.607702\n",
       "std          4.767284\n",
       "min          0.000176\n",
       "25%          0.016159\n",
       "50%          0.068818\n",
       "75%          2.924328\n",
       "max         19.095121\n",
       "Name: speed, dtype: float64"
      ]
     },
     "execution_count": 18,
     "metadata": {},
     "output_type": "execute_result"
    }
   ],
   "source": [
    "final_df['speed'].describe()"
   ]
  },
  {
   "cell_type": "code",
   "execution_count": 19,
   "metadata": {
    "ExecuteTime": {
     "end_time": "2020-09-05T19:12:23.299020Z",
     "start_time": "2020-09-05T19:12:22.972910Z"
    }
   },
   "outputs": [
    {
     "data": {
      "image/png": "[encoded data removed]",
      "text/plain": [
       "<Figure size 1440x360 with 1 Axes>"
      ]
     },
     "metadata": {},
     "output_type": "display_data"
    }
   ],
   "source": [
    "# Y - Axis Acceleration \n",
    "plt.figure(figsize=(20,5))\n",
    "ax = sns.boxplot(x=final_df[\"speed\"]);"
   ]
  },
  {
   "cell_type": "markdown",
   "metadata": {},
   "source": [
    "---\n",
    "\n",
    "Box plots show high number of outliers\n",
    "\n",
    "---"
   ]
  },
  {
   "cell_type": "markdown",
   "metadata": {},
   "source": [
    "## Pothole\n",
    "\n",
    "Z-axis accelerometer reading would **drop** sharply when a biker runs over a pothole. A z-score of more than 3"
   ]
  },
  {
   "cell_type": "code",
   "execution_count": 20,
   "metadata": {
    "ExecuteTime": {
     "end_time": "2020-09-05T19:12:34.218426Z",
     "start_time": "2020-09-05T19:12:34.205462Z"
    }
   },
   "outputs": [
    {
     "data": {
      "text/plain": [
       "count    1.755800e+04\n",
       "mean     1.936510e-15\n",
       "std      1.000028e+00\n",
       "min     -1.289609e+01\n",
       "25%     -4.659867e-01\n",
       "50%      2.727408e-02\n",
       "75%      5.446953e-02\n",
       "max      7.041028e+00\n",
       "dtype: float64"
      ]
     },
     "execution_count": 20,
     "metadata": {},
     "output_type": "execute_result"
    }
   ],
   "source": [
    "# summary of z scores of z-axis\n",
    "pd.Series(stats.zscore(final_df['z_axis_acceleration'])).describe()"
   ]
  },
  {
   "cell_type": "code",
   "execution_count": 21,
   "metadata": {
    "ExecuteTime": {
     "end_time": "2020-09-05T19:12:35.112769Z",
     "start_time": "2020-09-05T19:12:35.105754Z"
    }
   },
   "outputs": [],
   "source": [
    "# creating new column with z-scores\n",
    "final_df['zscore_z_axis'] = pd.Series(stats.zscore(final_df['z_axis_acceleration']))"
   ]
  },
  {
   "cell_type": "code",
   "execution_count": 22,
   "metadata": {
    "ExecuteTime": {
     "end_time": "2020-09-05T19:12:35.672841Z",
     "start_time": "2020-09-05T19:12:35.666858Z"
    }
   },
   "outputs": [],
   "source": [
    "# initiating flag for pothole\n",
    "final_df['pothole'] = 0"
   ]
  },
  {
   "cell_type": "code",
   "execution_count": 23,
   "metadata": {
    "ExecuteTime": {
     "end_time": "2020-09-05T19:12:35.922899Z",
     "start_time": "2020-09-05T19:12:35.914888Z"
    }
   },
   "outputs": [
    {
     "data": {
      "text/plain": [
       "10"
      ]
     },
     "execution_count": 23,
     "metadata": {},
     "output_type": "execute_result"
    }
   ],
   "source": [
    "# how many records are there?\n",
    "final_df.loc[final_df['zscore_z_axis'] <= -3, 'pothole'].shape[0]"
   ]
  },
  {
   "cell_type": "code",
   "execution_count": 24,
   "metadata": {
    "ExecuteTime": {
     "end_time": "2020-09-05T19:12:36.206110Z",
     "start_time": "2020-09-05T19:12:36.190153Z"
    }
   },
   "outputs": [],
   "source": [
    "# updating flag for pothole\n",
    "final_df.loc[final_df['zscore_z_axis'] <= -3, 'pothole'] = 1"
   ]
  },
  {
   "cell_type": "code",
   "execution_count": 41,
   "metadata": {
    "ExecuteTime": {
     "end_time": "2020-09-05T19:14:47.888953Z",
     "start_time": "2020-09-05T19:14:47.869006Z"
    }
   },
   "outputs": [
    {
     "data": {
      "text/html": [
       "<div>\n",
       "<style scoped>\n",
       "    .dataframe tbody tr th:only-of-type {\n",
       "        vertical-align: middle;\n",
       "    }\n",
       "\n",
       "    .dataframe tbody tr th {\n",
       "        vertical-align: top;\n",
       "    }\n",
       "\n",
       "    .dataframe thead th {\n",
       "        text-align: right;\n",
       "    }\n",
       "</style>\n",
       "<table border=\"1\" class=\"dataframe\">\n",
       "  <thead>\n",
       "    <tr style=\"text-align: right;\">\n",
       "      <th></th>\n",
       "      <th>lat</th>\n",
       "      <th>long</th>\n",
       "      <th>timeStamp</th>\n",
       "      <th>pothole</th>\n",
       "    </tr>\n",
       "  </thead>\n",
       "  <tbody>\n",
       "    <tr>\n",
       "      <td>11357</td>\n",
       "      <td>12.979334</td>\n",
       "      <td>77.602328</td>\n",
       "      <td>2020-03-04 05:14:01.058</td>\n",
       "      <td>1</td>\n",
       "    </tr>\n",
       "    <tr>\n",
       "      <td>11358</td>\n",
       "      <td>12.979334</td>\n",
       "      <td>77.602328</td>\n",
       "      <td>2020-03-04 05:14:01.070</td>\n",
       "      <td>1</td>\n",
       "    </tr>\n",
       "    <tr>\n",
       "      <td>11411</td>\n",
       "      <td>12.979334</td>\n",
       "      <td>77.602328</td>\n",
       "      <td>2020-03-04 05:14:01.657</td>\n",
       "      <td>1</td>\n",
       "    </tr>\n",
       "    <tr>\n",
       "      <td>11413</td>\n",
       "      <td>12.979334</td>\n",
       "      <td>77.602328</td>\n",
       "      <td>2020-03-04 05:14:01.677</td>\n",
       "      <td>1</td>\n",
       "    </tr>\n",
       "    <tr>\n",
       "      <td>13207</td>\n",
       "      <td>12.979311</td>\n",
       "      <td>77.602291</td>\n",
       "      <td>2020-03-04 05:14:21.175</td>\n",
       "      <td>1</td>\n",
       "    </tr>\n",
       "    <tr>\n",
       "      <td>13208</td>\n",
       "      <td>12.979311</td>\n",
       "      <td>77.602291</td>\n",
       "      <td>2020-03-04 05:14:21.186</td>\n",
       "      <td>1</td>\n",
       "    </tr>\n",
       "    <tr>\n",
       "      <td>15661</td>\n",
       "      <td>12.976757</td>\n",
       "      <td>77.602115</td>\n",
       "      <td>2020-03-04 05:14:47.781</td>\n",
       "      <td>1</td>\n",
       "    </tr>\n",
       "    <tr>\n",
       "      <td>15662</td>\n",
       "      <td>12.976757</td>\n",
       "      <td>77.602115</td>\n",
       "      <td>2020-03-04 05:14:47.792</td>\n",
       "      <td>1</td>\n",
       "    </tr>\n",
       "    <tr>\n",
       "      <td>15663</td>\n",
       "      <td>12.976756</td>\n",
       "      <td>77.602115</td>\n",
       "      <td>2020-03-04 05:14:47.803</td>\n",
       "      <td>1</td>\n",
       "    </tr>\n",
       "    <tr>\n",
       "      <td>15664</td>\n",
       "      <td>12.976756</td>\n",
       "      <td>77.602116</td>\n",
       "      <td>2020-03-04 05:14:47.815</td>\n",
       "      <td>1</td>\n",
       "    </tr>\n",
       "  </tbody>\n",
       "</table>\n",
       "</div>"
      ],
      "text/plain": [
       "             lat       long               timeStamp  pothole\n",
       "11357  12.979334  77.602328 2020-03-04 05:14:01.058        1\n",
       "11358  12.979334  77.602328 2020-03-04 05:14:01.070        1\n",
       "11411  12.979334  77.602328 2020-03-04 05:14:01.657        1\n",
       "11413  12.979334  77.602328 2020-03-04 05:14:01.677        1\n",
       "13207  12.979311  77.602291 2020-03-04 05:14:21.175        1\n",
       "13208  12.979311  77.602291 2020-03-04 05:14:21.186        1\n",
       "15661  12.976757  77.602115 2020-03-04 05:14:47.781        1\n",
       "15662  12.976757  77.602115 2020-03-04 05:14:47.792        1\n",
       "15663  12.976756  77.602115 2020-03-04 05:14:47.803        1\n",
       "15664  12.976756  77.602116 2020-03-04 05:14:47.815        1"
      ]
     },
     "execution_count": 41,
     "metadata": {},
     "output_type": "execute_result"
    }
   ],
   "source": [
    "final_df.loc[final_df['pothole'] == 1, ['lat', 'long', 'timeStamp', 'pothole']]"
   ]
  },
  {
   "cell_type": "markdown",
   "metadata": {},
   "source": [
    "----"
   ]
  },
  {
   "cell_type": "markdown",
   "metadata": {},
   "source": [
    "## Speed Breaker\n",
    "\n",
    "Z-axis accelerometer reading would **rise** sharply when a biker goes over a speedbreaker"
   ]
  },
  {
   "cell_type": "code",
   "execution_count": 26,
   "metadata": {
    "ExecuteTime": {
     "end_time": "2020-09-05T19:12:37.206664Z",
     "start_time": "2020-09-05T19:12:37.201677Z"
    }
   },
   "outputs": [],
   "source": [
    "# initiating flag for speed_breaker\n",
    "final_df['speed_breaker'] = 0"
   ]
  },
  {
   "cell_type": "code",
   "execution_count": 27,
   "metadata": {
    "ExecuteTime": {
     "end_time": "2020-09-05T19:12:37.473979Z",
     "start_time": "2020-09-05T19:12:37.463976Z"
    }
   },
   "outputs": [
    {
     "data": {
      "text/plain": [
       "581"
      ]
     },
     "execution_count": 27,
     "metadata": {},
     "output_type": "execute_result"
    }
   ],
   "source": [
    "# how many records are there?\n",
    "final_df.loc[final_df['zscore_z_axis'] >= 3,].shape[0]"
   ]
  },
  {
   "cell_type": "code",
   "execution_count": 28,
   "metadata": {
    "ExecuteTime": {
     "end_time": "2020-09-05T19:12:37.719292Z",
     "start_time": "2020-09-05T19:12:37.706327Z"
    }
   },
   "outputs": [],
   "source": [
    "# updating flag for speed breakers\n",
    "final_df.loc[final_df['zscore_z_axis'] >= 3, 'speed_breaker'] = 1"
   ]
  },
  {
   "cell_type": "code",
   "execution_count": 42,
   "metadata": {
    "ExecuteTime": {
     "end_time": "2020-09-05T19:15:07.852838Z",
     "start_time": "2020-09-05T19:15:07.830895Z"
    }
   },
   "outputs": [
    {
     "data": {
      "text/html": [
       "<div>\n",
       "<style scoped>\n",
       "    .dataframe tbody tr th:only-of-type {\n",
       "        vertical-align: middle;\n",
       "    }\n",
       "\n",
       "    .dataframe tbody tr th {\n",
       "        vertical-align: top;\n",
       "    }\n",
       "\n",
       "    .dataframe thead th {\n",
       "        text-align: right;\n",
       "    }\n",
       "</style>\n",
       "<table border=\"1\" class=\"dataframe\">\n",
       "  <thead>\n",
       "    <tr style=\"text-align: right;\">\n",
       "      <th></th>\n",
       "      <th>lat</th>\n",
       "      <th>long</th>\n",
       "      <th>timeStamp</th>\n",
       "      <th>speed_breaker</th>\n",
       "    </tr>\n",
       "  </thead>\n",
       "  <tbody>\n",
       "    <tr>\n",
       "      <td>0</td>\n",
       "      <td>12.979606</td>\n",
       "      <td>77.601591</td>\n",
       "      <td>2020-03-04 05:11:56.729</td>\n",
       "      <td>1</td>\n",
       "    </tr>\n",
       "    <tr>\n",
       "      <td>1</td>\n",
       "      <td>12.979606</td>\n",
       "      <td>77.601591</td>\n",
       "      <td>2020-03-04 05:11:56.772</td>\n",
       "      <td>1</td>\n",
       "    </tr>\n",
       "    <tr>\n",
       "      <td>2</td>\n",
       "      <td>12.979606</td>\n",
       "      <td>77.601591</td>\n",
       "      <td>2020-03-04 05:11:56.790</td>\n",
       "      <td>1</td>\n",
       "    </tr>\n",
       "    <tr>\n",
       "      <td>3</td>\n",
       "      <td>12.979606</td>\n",
       "      <td>77.601591</td>\n",
       "      <td>2020-03-04 05:11:56.820</td>\n",
       "      <td>1</td>\n",
       "    </tr>\n",
       "    <tr>\n",
       "      <td>4</td>\n",
       "      <td>12.979606</td>\n",
       "      <td>77.601591</td>\n",
       "      <td>2020-03-04 05:11:56.840</td>\n",
       "      <td>1</td>\n",
       "    </tr>\n",
       "    <tr>\n",
       "      <td>...</td>\n",
       "      <td>...</td>\n",
       "      <td>...</td>\n",
       "      <td>...</td>\n",
       "      <td>...</td>\n",
       "    </tr>\n",
       "    <tr>\n",
       "      <td>17553</td>\n",
       "      <td>12.917346</td>\n",
       "      <td>77.627528</td>\n",
       "      <td>2020-03-04 05:42:26.327</td>\n",
       "      <td>1</td>\n",
       "    </tr>\n",
       "    <tr>\n",
       "      <td>17554</td>\n",
       "      <td>12.917346</td>\n",
       "      <td>77.627528</td>\n",
       "      <td>2020-03-04 05:42:26.337</td>\n",
       "      <td>1</td>\n",
       "    </tr>\n",
       "    <tr>\n",
       "      <td>17555</td>\n",
       "      <td>12.917346</td>\n",
       "      <td>77.627528</td>\n",
       "      <td>2020-03-04 05:42:26.347</td>\n",
       "      <td>1</td>\n",
       "    </tr>\n",
       "    <tr>\n",
       "      <td>17556</td>\n",
       "      <td>12.917346</td>\n",
       "      <td>77.627528</td>\n",
       "      <td>2020-03-04 05:42:26.357</td>\n",
       "      <td>1</td>\n",
       "    </tr>\n",
       "    <tr>\n",
       "      <td>17557</td>\n",
       "      <td>12.917346</td>\n",
       "      <td>77.627528</td>\n",
       "      <td>2020-03-04 05:42:26.374</td>\n",
       "      <td>1</td>\n",
       "    </tr>\n",
       "  </tbody>\n",
       "</table>\n",
       "<p>581 rows × 4 columns</p>\n",
       "</div>"
      ],
      "text/plain": [
       "             lat       long               timeStamp  speed_breaker\n",
       "0      12.979606  77.601591 2020-03-04 05:11:56.729              1\n",
       "1      12.979606  77.601591 2020-03-04 05:11:56.772              1\n",
       "2      12.979606  77.601591 2020-03-04 05:11:56.790              1\n",
       "3      12.979606  77.601591 2020-03-04 05:11:56.820              1\n",
       "4      12.979606  77.601591 2020-03-04 05:11:56.840              1\n",
       "...          ...        ...                     ...            ...\n",
       "17553  12.917346  77.627528 2020-03-04 05:42:26.327              1\n",
       "17554  12.917346  77.627528 2020-03-04 05:42:26.337              1\n",
       "17555  12.917346  77.627528 2020-03-04 05:42:26.347              1\n",
       "17556  12.917346  77.627528 2020-03-04 05:42:26.357              1\n",
       "17557  12.917346  77.627528 2020-03-04 05:42:26.374              1\n",
       "\n",
       "[581 rows x 4 columns]"
      ]
     },
     "execution_count": 42,
     "metadata": {},
     "output_type": "execute_result"
    }
   ],
   "source": [
    "final_df.loc[final_df['speed_breaker'] == 1,['lat', 'long', 'timeStamp', 'speed_breaker']]"
   ]
  },
  {
   "cell_type": "markdown",
   "metadata": {},
   "source": [
    "----"
   ]
  },
  {
   "cell_type": "markdown",
   "metadata": {},
   "source": [
    "## Rash Acceleration\n",
    "Rapid increase in Y-axis accelerometer reading would indicate a biker accelerating above normal"
   ]
  },
  {
   "cell_type": "code",
   "execution_count": 30,
   "metadata": {
    "ExecuteTime": {
     "end_time": "2020-09-05T19:12:38.454679Z",
     "start_time": "2020-09-05T19:12:38.446703Z"
    }
   },
   "outputs": [],
   "source": [
    "# creating new column with z-scores\n",
    "final_df['zscore_y_axis'] = pd.Series(stats.zscore(final_df['y_axis_acceleration']))"
   ]
  },
  {
   "cell_type": "code",
   "execution_count": 31,
   "metadata": {
    "ExecuteTime": {
     "end_time": "2020-09-05T19:12:38.806740Z",
     "start_time": "2020-09-05T19:12:38.800756Z"
    }
   },
   "outputs": [],
   "source": [
    "# initiating flag for rash acceleration\n",
    "final_df['rash_acceleration'] = 0"
   ]
  },
  {
   "cell_type": "code",
   "execution_count": 32,
   "metadata": {
    "ExecuteTime": {
     "end_time": "2020-09-05T19:12:39.120901Z",
     "start_time": "2020-09-05T19:12:39.107940Z"
    }
   },
   "outputs": [
    {
     "data": {
      "text/plain": [
       "count    1.755800e+04\n",
       "mean     1.190399e-14\n",
       "std      1.000028e+00\n",
       "min     -6.686229e+00\n",
       "25%     -6.297603e-01\n",
       "50%      6.032466e-01\n",
       "75%      6.172052e-01\n",
       "max      1.316751e+01\n",
       "dtype: float64"
      ]
     },
     "execution_count": 32,
     "metadata": {},
     "output_type": "execute_result"
    }
   ],
   "source": [
    "# summary of z scores of z-axis\n",
    "pd.Series(stats.zscore(final_df['y_axis_acceleration'])).describe()"
   ]
  },
  {
   "cell_type": "code",
   "execution_count": 33,
   "metadata": {
    "ExecuteTime": {
     "end_time": "2020-09-05T19:12:39.428080Z",
     "start_time": "2020-09-05T19:12:39.415113Z"
    }
   },
   "outputs": [
    {
     "data": {
      "text/plain": [
       "11"
      ]
     },
     "execution_count": 33,
     "metadata": {},
     "output_type": "execute_result"
    }
   ],
   "source": [
    "# how many records are there?\n",
    "final_df.loc[final_df['zscore_y_axis'] >= 3,].shape[0]"
   ]
  },
  {
   "cell_type": "code",
   "execution_count": 34,
   "metadata": {
    "ExecuteTime": {
     "end_time": "2020-09-05T19:12:39.710324Z",
     "start_time": "2020-09-05T19:12:39.700351Z"
    }
   },
   "outputs": [],
   "source": [
    "# updating flag for rash_acceleration\n",
    "final_df.loc[final_df['zscore_y_axis'] >= 3, 'rash_acceleration'] = 1"
   ]
  },
  {
   "cell_type": "code",
   "execution_count": 44,
   "metadata": {
    "ExecuteTime": {
     "end_time": "2020-09-05T19:15:29.095274Z",
     "start_time": "2020-09-05T19:15:29.078317Z"
    }
   },
   "outputs": [
    {
     "data": {
      "text/html": [
       "<div>\n",
       "<style scoped>\n",
       "    .dataframe tbody tr th:only-of-type {\n",
       "        vertical-align: middle;\n",
       "    }\n",
       "\n",
       "    .dataframe tbody tr th {\n",
       "        vertical-align: top;\n",
       "    }\n",
       "\n",
       "    .dataframe thead th {\n",
       "        text-align: right;\n",
       "    }\n",
       "</style>\n",
       "<table border=\"1\" class=\"dataframe\">\n",
       "  <thead>\n",
       "    <tr style=\"text-align: right;\">\n",
       "      <th></th>\n",
       "      <th>lat</th>\n",
       "      <th>long</th>\n",
       "      <th>timeStamp</th>\n",
       "      <th>rash_acceleration</th>\n",
       "    </tr>\n",
       "  </thead>\n",
       "  <tbody>\n",
       "    <tr>\n",
       "      <td>356</td>\n",
       "      <td>12.979606</td>\n",
       "      <td>77.601591</td>\n",
       "      <td>2020-03-04 05:12:01.682</td>\n",
       "      <td>1</td>\n",
       "    </tr>\n",
       "    <tr>\n",
       "      <td>357</td>\n",
       "      <td>12.979606</td>\n",
       "      <td>77.601591</td>\n",
       "      <td>2020-03-04 05:12:01.730</td>\n",
       "      <td>1</td>\n",
       "    </tr>\n",
       "    <tr>\n",
       "      <td>358</td>\n",
       "      <td>12.979606</td>\n",
       "      <td>77.601591</td>\n",
       "      <td>2020-03-04 05:12:01.745</td>\n",
       "      <td>1</td>\n",
       "    </tr>\n",
       "    <tr>\n",
       "      <td>359</td>\n",
       "      <td>12.979606</td>\n",
       "      <td>77.601591</td>\n",
       "      <td>2020-03-04 05:12:01.755</td>\n",
       "      <td>1</td>\n",
       "    </tr>\n",
       "    <tr>\n",
       "      <td>360</td>\n",
       "      <td>12.979606</td>\n",
       "      <td>77.601591</td>\n",
       "      <td>2020-03-04 05:12:01.765</td>\n",
       "      <td>1</td>\n",
       "    </tr>\n",
       "    <tr>\n",
       "      <td>413</td>\n",
       "      <td>12.979606</td>\n",
       "      <td>77.601591</td>\n",
       "      <td>2020-03-04 05:12:02.476</td>\n",
       "      <td>1</td>\n",
       "    </tr>\n",
       "    <tr>\n",
       "      <td>11404</td>\n",
       "      <td>12.979334</td>\n",
       "      <td>77.602328</td>\n",
       "      <td>2020-03-04 05:14:01.584</td>\n",
       "      <td>1</td>\n",
       "    </tr>\n",
       "    <tr>\n",
       "      <td>11410</td>\n",
       "      <td>12.979334</td>\n",
       "      <td>77.602328</td>\n",
       "      <td>2020-03-04 05:14:01.647</td>\n",
       "      <td>1</td>\n",
       "    </tr>\n",
       "    <tr>\n",
       "      <td>11411</td>\n",
       "      <td>12.979334</td>\n",
       "      <td>77.602328</td>\n",
       "      <td>2020-03-04 05:14:01.657</td>\n",
       "      <td>1</td>\n",
       "    </tr>\n",
       "    <tr>\n",
       "      <td>11412</td>\n",
       "      <td>12.979334</td>\n",
       "      <td>77.602328</td>\n",
       "      <td>2020-03-04 05:14:01.667</td>\n",
       "      <td>1</td>\n",
       "    </tr>\n",
       "    <tr>\n",
       "      <td>11413</td>\n",
       "      <td>12.979334</td>\n",
       "      <td>77.602328</td>\n",
       "      <td>2020-03-04 05:14:01.677</td>\n",
       "      <td>1</td>\n",
       "    </tr>\n",
       "  </tbody>\n",
       "</table>\n",
       "</div>"
      ],
      "text/plain": [
       "             lat       long               timeStamp  rash_acceleration\n",
       "356    12.979606  77.601591 2020-03-04 05:12:01.682                  1\n",
       "357    12.979606  77.601591 2020-03-04 05:12:01.730                  1\n",
       "358    12.979606  77.601591 2020-03-04 05:12:01.745                  1\n",
       "359    12.979606  77.601591 2020-03-04 05:12:01.755                  1\n",
       "360    12.979606  77.601591 2020-03-04 05:12:01.765                  1\n",
       "413    12.979606  77.601591 2020-03-04 05:12:02.476                  1\n",
       "11404  12.979334  77.602328 2020-03-04 05:14:01.584                  1\n",
       "11410  12.979334  77.602328 2020-03-04 05:14:01.647                  1\n",
       "11411  12.979334  77.602328 2020-03-04 05:14:01.657                  1\n",
       "11412  12.979334  77.602328 2020-03-04 05:14:01.667                  1\n",
       "11413  12.979334  77.602328 2020-03-04 05:14:01.677                  1"
      ]
     },
     "execution_count": 44,
     "metadata": {},
     "output_type": "execute_result"
    }
   ],
   "source": [
    "final_df.loc[final_df['rash_acceleration'] == 1,['lat', 'long', 'timeStamp', 'rash_acceleration']]"
   ]
  },
  {
   "cell_type": "markdown",
   "metadata": {},
   "source": [
    "---"
   ]
  },
  {
   "cell_type": "markdown",
   "metadata": {},
   "source": [
    "## Hard Brakes\n",
    "Sharp drop in Y-axis accelerometer reading would indicate a biker braking abnormally"
   ]
  },
  {
   "cell_type": "code",
   "execution_count": 36,
   "metadata": {
    "ExecuteTime": {
     "end_time": "2020-09-05T19:12:40.271453Z",
     "start_time": "2020-09-05T19:12:40.266465Z"
    }
   },
   "outputs": [],
   "source": [
    "# initiating flag for hard brakes\n",
    "final_df['hard_brakes'] = 0"
   ]
  },
  {
   "cell_type": "code",
   "execution_count": 37,
   "metadata": {
    "ExecuteTime": {
     "end_time": "2020-09-05T19:12:40.571683Z",
     "start_time": "2020-09-05T19:12:40.559684Z"
    }
   },
   "outputs": [
    {
     "data": {
      "text/plain": [
       "count    1.755800e+04\n",
       "mean     1.190399e-14\n",
       "std      1.000028e+00\n",
       "min     -6.686229e+00\n",
       "25%     -6.297603e-01\n",
       "50%      6.032466e-01\n",
       "75%      6.172052e-01\n",
       "max      1.316751e+01\n",
       "dtype: float64"
      ]
     },
     "execution_count": 37,
     "metadata": {},
     "output_type": "execute_result"
    }
   ],
   "source": [
    "# summary of z scores of z-axis\n",
    "pd.Series(stats.zscore(final_df['y_axis_acceleration'])).describe()"
   ]
  },
  {
   "cell_type": "code",
   "execution_count": 38,
   "metadata": {
    "ExecuteTime": {
     "end_time": "2020-09-05T19:12:40.833990Z",
     "start_time": "2020-09-05T19:12:40.819931Z"
    }
   },
   "outputs": [],
   "source": [
    "# hard braking can be associated when bike is in good speed only - taking above average speed for hard brake\n",
    "final_df.loc[(final_df['speed'] >= final_df['speed'].mean()) & (final_df['zscore_y_axis'] <= -3), 'hard_brakes'] = 1"
   ]
  },
  {
   "cell_type": "code",
   "execution_count": 45,
   "metadata": {
    "ExecuteTime": {
     "end_time": "2020-09-05T19:15:44.222058Z",
     "start_time": "2020-09-05T19:15:44.206097Z"
    }
   },
   "outputs": [
    {
     "data": {
      "text/html": [
       "<div>\n",
       "<style scoped>\n",
       "    .dataframe tbody tr th:only-of-type {\n",
       "        vertical-align: middle;\n",
       "    }\n",
       "\n",
       "    .dataframe tbody tr th {\n",
       "        vertical-align: top;\n",
       "    }\n",
       "\n",
       "    .dataframe thead th {\n",
       "        text-align: right;\n",
       "    }\n",
       "</style>\n",
       "<table border=\"1\" class=\"dataframe\">\n",
       "  <thead>\n",
       "    <tr style=\"text-align: right;\">\n",
       "      <th></th>\n",
       "      <th>lat</th>\n",
       "      <th>long</th>\n",
       "      <th>timeStamp</th>\n",
       "      <th>hard_brakes</th>\n",
       "    </tr>\n",
       "  </thead>\n",
       "  <tbody>\n",
       "    <tr>\n",
       "      <td>16920</td>\n",
       "      <td>12.93736</td>\n",
       "      <td>77.619421</td>\n",
       "      <td>2020-03-04 05:42:19.155</td>\n",
       "      <td>1</td>\n",
       "    </tr>\n",
       "  </tbody>\n",
       "</table>\n",
       "</div>"
      ],
      "text/plain": [
       "            lat       long               timeStamp  hard_brakes\n",
       "16920  12.93736  77.619421 2020-03-04 05:42:19.155            1"
      ]
     },
     "execution_count": 45,
     "metadata": {},
     "output_type": "execute_result"
    }
   ],
   "source": [
    "final_df.loc[final_df['hard_brakes'] == 1,['lat', 'long', 'timeStamp', 'hard_brakes']]"
   ]
  },
  {
   "cell_type": "markdown",
   "metadata": {},
   "source": [
    "---\n",
    "\n",
    "**Filters on each flag created can be used to identify Lat, Long and Time of each event**\n",
    "\n",
    "---"
   ]
  },
  {
   "cell_type": "markdown",
   "metadata": {},
   "source": [
    "# Possible next steps\n",
    "\n",
    "1. Validate rule-based flags with data which has manually labelled readings by running experiments\n",
    "3. Validated flags on riding patterns can then be used to build Machine Learning Models to classify each pattern\n",
    "3. Study ongoing research on topic to understand proven ways to determine riding patterns"
   ]
  },
  {
   "cell_type": "markdown",
   "metadata": {},
   "source": [
    "----"
   ]
  }
 ],
 "metadata": {
  "kernelspec": {
   "display_name": "Python 3",
   "language": "python",
   "name": "python3"
  },
  "language_info": {
   "codemirror_mode": {
    "name": "ipython",
    "version": 3
   },
   "file_extension": ".py",
   "mimetype": "text/x-python",
   "name": "python",
   "nbconvert_exporter": "python",
   "pygments_lexer": "ipython3",
   "version": "3.7.4"
  },
  "toc": {
   "base_numbering": 1,
   "nav_menu": {},
   "number_sections": true,
   "sideBar": true,
   "skip_h1_title": false,
   "title_cell": "Table of Contents",
   "title_sidebar": "Contents",
   "toc_cell": false,
   "toc_position": {
    "height": "calc(100% - 180px)",
    "left": "10px",
    "top": "150px",
    "width": "362.2px"
   },
   "toc_section_display": true,
   "toc_window_display": true
  },
  "varInspector": {
   "cols": {
    "lenName": 16,
    "lenType": 16,
    "lenVar": 40
   },
   "kernels_config": {
    "python": {
     "delete_cmd_postfix": "",
     "delete_cmd_prefix": "del ",
     "library": "var_list.py",
     "varRefreshCmd": "print(var_dic_list())"
    },
    "r": {
     "delete_cmd_postfix": ") ",
     "delete_cmd_prefix": "rm(",
     "library": "var_list.r",
     "varRefreshCmd": "cat(var_dic_list()) "
    }
   },
   "types_to_exclude": [
    "module",
    "function",
    "builtin_function_or_method",
    "instance",
    "_Feature"
   ],
   "window_display": false
  }
 },
 "nbformat": 4,
 "nbformat_minor": 2
}
