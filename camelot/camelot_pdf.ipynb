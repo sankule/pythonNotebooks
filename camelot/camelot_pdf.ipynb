{
 "cells": [
  {
   "cell_type": "code",
   "execution_count": 1,
   "metadata": {
    "ExecuteTime": {
     "end_time": "2019-07-18T09:49:51.225157Z",
     "start_time": "2019-07-18T09:49:51.221156Z"
    }
   },
   "outputs": [],
   "source": [
    "from IPython.core.interactiveshell import InteractiveShell\n",
    "InteractiveShell.ast_node_interactivity = \"all\""
   ]
  },
  {
   "cell_type": "markdown",
   "metadata": {},
   "source": [
    "Repo: https://github.com/atlanhq/camelot"
   ]
  },
  {
   "cell_type": "markdown",
   "metadata": {},
   "source": [
    "**Comparsion with other OpenSource libraries**\n",
    "\n",
    "https://github.com/camelot-dev/camelot/wiki/Comparison-with-other-PDF-Table-Extraction-libraries-and-tools"
   ]
  },
  {
   "cell_type": "markdown",
   "metadata": {},
   "source": [
    "### Basic Use"
   ]
  },
  {
   "cell_type": "code",
   "execution_count": 2,
   "metadata": {
    "ExecuteTime": {
     "end_time": "2019-07-18T09:49:52.441967Z",
     "start_time": "2019-07-18T09:49:52.438969Z"
    }
   },
   "outputs": [],
   "source": [
    "# install Camelot \n",
    "# !pip install camelot-py\n",
    "\n",
    "# install OpenCV to address dependencies issues\n",
    "# !pip install opencv-python"
   ]
  },
  {
   "cell_type": "code",
   "execution_count": 3,
   "metadata": {
    "ExecuteTime": {
     "end_time": "2019-07-18T09:49:55.855142Z",
     "start_time": "2019-07-18T09:49:54.552828Z"
    }
   },
   "outputs": [],
   "source": [
    "# import camelot\n",
    "import camelot"
   ]
  },
  {
   "cell_type": "code",
   "execution_count": 4,
   "metadata": {
    "ExecuteTime": {
     "end_time": "2019-07-18T09:49:58.145290Z",
     "start_time": "2019-07-18T09:49:56.435561Z"
    }
   },
   "outputs": [],
   "source": [
    "# reading the PDF file\n",
    "tables = camelot.read_pdf('foo.pdf')"
   ]
  },
  {
   "cell_type": "code",
   "execution_count": 5,
   "metadata": {
    "ExecuteTime": {
     "end_time": "2019-07-18T09:49:58.182257Z",
     "start_time": "2019-07-18T09:49:58.173260Z"
    }
   },
   "outputs": [
    {
     "data": {
      "text/plain": [
       "1"
      ]
     },
     "execution_count": 5,
     "metadata": {},
     "output_type": "execute_result"
    }
   ],
   "source": [
    "# number of tables \n",
    "tables.n"
   ]
  },
  {
   "cell_type": "code",
   "execution_count": 6,
   "metadata": {
    "ExecuteTime": {
     "end_time": "2019-07-18T09:49:58.234225Z",
     "start_time": "2019-07-18T09:49:58.208240Z"
    }
   },
   "outputs": [],
   "source": [
    "# exporting all the tables to zip file\n",
    "tables.export('foo.csv', f='csv', compress=True) # json, excel, html"
   ]
  },
  {
   "cell_type": "code",
   "execution_count": 7,
   "metadata": {
    "ExecuteTime": {
     "end_time": "2019-07-18T09:49:58.271204Z",
     "start_time": "2019-07-18T09:49:58.258212Z"
    }
   },
   "outputs": [],
   "source": [
    "# exporting specific table to CSV / JSON / EXCEL / HTML\n",
    "tables[0].to_csv('foo.csv') # to_json, to_excel, to_html"
   ]
  },
  {
   "cell_type": "markdown",
   "metadata": {},
   "source": [
    "### Other useful Methods\n",
    "\n",
    "API Reference: https://camelot-py.readthedocs.io/en/master/api.html"
   ]
  },
  {
   "cell_type": "code",
   "execution_count": 8,
   "metadata": {
    "ExecuteTime": {
     "end_time": "2019-07-18T09:49:59.458269Z",
     "start_time": "2019-07-18T09:49:59.452275Z"
    }
   },
   "outputs": [
    {
     "data": {
      "text/plain": [
       "1"
      ]
     },
     "execution_count": 8,
     "metadata": {},
     "output_type": "execute_result"
    }
   ],
   "source": [
    "tables.n"
   ]
  },
  {
   "cell_type": "code",
   "execution_count": 9,
   "metadata": {
    "ExecuteTime": {
     "end_time": "2019-07-18T09:49:59.894030Z",
     "start_time": "2019-07-18T09:49:59.889033Z"
    }
   },
   "outputs": [
    {
     "data": {
      "text/plain": [
       "(7, 7)"
      ]
     },
     "execution_count": 9,
     "metadata": {},
     "output_type": "execute_result"
    }
   ],
   "source": [
    "# shape of first table\n",
    "tables[0].shape"
   ]
  },
  {
   "cell_type": "code",
   "execution_count": 10,
   "metadata": {
    "ExecuteTime": {
     "end_time": "2019-07-18T09:50:01.025341Z",
     "start_time": "2019-07-18T09:50:01.007352Z"
    }
   },
   "outputs": [
    {
     "data": {
      "text/html": [
       "<div>\n",
       "<style scoped>\n",
       "    .dataframe tbody tr th:only-of-type {\n",
       "        vertical-align: middle;\n",
       "    }\n",
       "\n",
       "    .dataframe tbody tr th {\n",
       "        vertical-align: top;\n",
       "    }\n",
       "\n",
       "    .dataframe thead th {\n",
       "        text-align: right;\n",
       "    }\n",
       "</style>\n",
       "<table border=\"1\" class=\"dataframe\">\n",
       "  <thead>\n",
       "    <tr style=\"text-align: right;\">\n",
       "      <th></th>\n",
       "      <th>0</th>\n",
       "      <th>1</th>\n",
       "      <th>2</th>\n",
       "      <th>3</th>\n",
       "      <th>4</th>\n",
       "      <th>5</th>\n",
       "      <th>6</th>\n",
       "    </tr>\n",
       "  </thead>\n",
       "  <tbody>\n",
       "    <tr>\n",
       "      <th>0</th>\n",
       "      <td>Cycle \\nName</td>\n",
       "      <td>KI \\n(1/km)</td>\n",
       "      <td>Distance \\n(mi)</td>\n",
       "      <td>Percent Fuel Savings</td>\n",
       "      <td></td>\n",
       "      <td></td>\n",
       "      <td></td>\n",
       "    </tr>\n",
       "    <tr>\n",
       "      <th>1</th>\n",
       "      <td></td>\n",
       "      <td></td>\n",
       "      <td></td>\n",
       "      <td>Improved \\nSpeed</td>\n",
       "      <td>Decreased \\nAccel</td>\n",
       "      <td>Eliminate \\nStops</td>\n",
       "      <td>Decreased \\nIdle</td>\n",
       "    </tr>\n",
       "    <tr>\n",
       "      <th>2</th>\n",
       "      <td>2012_2</td>\n",
       "      <td>3.30</td>\n",
       "      <td>1.3</td>\n",
       "      <td>5.9%</td>\n",
       "      <td>9.5%</td>\n",
       "      <td>29.2%</td>\n",
       "      <td>17.4%</td>\n",
       "    </tr>\n",
       "    <tr>\n",
       "      <th>3</th>\n",
       "      <td>2145_1</td>\n",
       "      <td>0.68</td>\n",
       "      <td>11.2</td>\n",
       "      <td>2.4%</td>\n",
       "      <td>0.1%</td>\n",
       "      <td>9.5%</td>\n",
       "      <td>2.7%</td>\n",
       "    </tr>\n",
       "    <tr>\n",
       "      <th>4</th>\n",
       "      <td>4234_1</td>\n",
       "      <td>0.59</td>\n",
       "      <td>58.7</td>\n",
       "      <td>8.5%</td>\n",
       "      <td>1.3%</td>\n",
       "      <td>8.5%</td>\n",
       "      <td>3.3%</td>\n",
       "    </tr>\n",
       "    <tr>\n",
       "      <th>5</th>\n",
       "      <td>2032_2</td>\n",
       "      <td>0.17</td>\n",
       "      <td>57.8</td>\n",
       "      <td>21.7%</td>\n",
       "      <td>0.3%</td>\n",
       "      <td>2.7%</td>\n",
       "      <td>1.2%</td>\n",
       "    </tr>\n",
       "    <tr>\n",
       "      <th>6</th>\n",
       "      <td>4171_1</td>\n",
       "      <td>0.07</td>\n",
       "      <td>173.9</td>\n",
       "      <td>58.1%</td>\n",
       "      <td>1.6%</td>\n",
       "      <td>2.1%</td>\n",
       "      <td>0.5%</td>\n",
       "    </tr>\n",
       "  </tbody>\n",
       "</table>\n",
       "</div>"
      ],
      "text/plain": [
       "              0            1                2                     3  \\\n",
       "0  Cycle \\nName  KI \\n(1/km)  Distance \\n(mi)  Percent Fuel Savings   \n",
       "1                                                  Improved \\nSpeed   \n",
       "2        2012_2         3.30              1.3                  5.9%   \n",
       "3        2145_1         0.68             11.2                  2.4%   \n",
       "4        4234_1         0.59             58.7                  8.5%   \n",
       "5        2032_2         0.17             57.8                 21.7%   \n",
       "6        4171_1         0.07            173.9                 58.1%   \n",
       "\n",
       "                   4                  5                 6  \n",
       "0                                                          \n",
       "1  Decreased \\nAccel  Eliminate \\nStops  Decreased \\nIdle  \n",
       "2               9.5%              29.2%             17.4%  \n",
       "3               0.1%               9.5%              2.7%  \n",
       "4               1.3%               8.5%              3.3%  \n",
       "5               0.3%               2.7%              1.2%  \n",
       "6               1.6%               2.1%              0.5%  "
      ]
     },
     "execution_count": 10,
     "metadata": {},
     "output_type": "execute_result"
    }
   ],
   "source": [
    "# get a pandas DataFrame!\n",
    "tables[0].df"
   ]
  },
  {
   "cell_type": "code",
   "execution_count": 11,
   "metadata": {
    "ExecuteTime": {
     "end_time": "2019-07-18T09:50:01.935105Z",
     "start_time": "2019-07-18T09:50:01.930109Z"
    }
   },
   "outputs": [
    {
     "data": {
      "text/plain": [
       "99.02369482929429"
      ]
     },
     "execution_count": 11,
     "metadata": {},
     "output_type": "execute_result"
    }
   ],
   "source": [
    "# accuracy  -- part of parsing report\n",
    "tables[0].accuracy"
   ]
  },
  {
   "cell_type": "code",
   "execution_count": 12,
   "metadata": {
    "ExecuteTime": {
     "end_time": "2019-07-18T09:50:03.114688Z",
     "start_time": "2019-07-18T09:50:03.109691Z"
    }
   },
   "outputs": [
    {
     "data": {
      "text/plain": [
       "{'accuracy': 99.02, 'whitespace': 12.24, 'order': 1, 'page': 1}"
      ]
     },
     "execution_count": 12,
     "metadata": {},
     "output_type": "execute_result"
    }
   ],
   "source": [
    "tables[0].parsing_report"
   ]
  },
  {
   "cell_type": "code",
   "execution_count": 13,
   "metadata": {
    "ExecuteTime": {
     "end_time": "2019-07-18T09:50:03.609614Z",
     "start_time": "2019-07-18T09:50:03.603434Z"
    }
   },
   "outputs": [
    {
     "data": {
      "text/plain": [
       "1"
      ]
     },
     "execution_count": 13,
     "metadata": {},
     "output_type": "execute_result"
    }
   ],
   "source": [
    "# table number on page\n",
    "tables[0].order"
   ]
  },
  {
   "cell_type": "code",
   "execution_count": 14,
   "metadata": {
    "ExecuteTime": {
     "end_time": "2019-07-18T09:50:03.998389Z",
     "start_time": "2019-07-18T09:50:03.992391Z"
    }
   },
   "outputs": [
    {
     "data": {
      "text/plain": [
       "1"
      ]
     },
     "execution_count": 14,
     "metadata": {},
     "output_type": "execute_result"
    }
   ],
   "source": [
    "# PDF page number of table\n",
    "tables[0].page"
   ]
  },
  {
   "cell_type": "code",
   "execution_count": 15,
   "metadata": {
    "ExecuteTime": {
     "end_time": "2019-07-18T09:50:04.807272Z",
     "start_time": "2019-07-18T09:50:04.799277Z"
    }
   },
   "outputs": [
    {
     "data": {
      "text/plain": [
       "[['Cycle \\nName',\n",
       "  'KI \\n(1/km)',\n",
       "  'Distance \\n(mi)',\n",
       "  'Percent Fuel Savings',\n",
       "  '',\n",
       "  '',\n",
       "  ''],\n",
       " ['',\n",
       "  '',\n",
       "  '',\n",
       "  'Improved \\nSpeed',\n",
       "  'Decreased \\nAccel',\n",
       "  'Eliminate \\nStops',\n",
       "  'Decreased \\nIdle'],\n",
       " ['2012_2', '3.30', '1.3', '5.9%', '9.5%', '29.2%', '17.4%'],\n",
       " ['2145_1', '0.68', '11.2', '2.4%', '0.1%', '9.5%', '2.7%'],\n",
       " ['4234_1', '0.59', '58.7', '8.5%', '1.3%', '8.5%', '3.3%'],\n",
       " ['2032_2', '0.17', '57.8', '21.7%', '0.3%', '2.7%', '1.2%'],\n",
       " ['4171_1', '0.07', '173.9', '58.1%', '1.6%', '2.1%', '0.5%']]"
      ]
     },
     "execution_count": 15,
     "metadata": {},
     "output_type": "execute_result"
    }
   ],
   "source": [
    "# returns 2-dimensional list of strings in table\n",
    "tables[0].data"
   ]
  },
  {
   "cell_type": "markdown",
   "metadata": {},
   "source": [
    "### Advanced Usage"
   ]
  },
  {
   "cell_type": "markdown",
   "metadata": {},
   "source": [
    "API Reference: https://camelot-py.readthedocs.io/en/master/user/advanced.html"
   ]
  },
  {
   "cell_type": "markdown",
   "metadata": {},
   "source": [
    "The naming for parsing methods inside Camelot (i.e. Lattice and Stream) was inspired from Tabula. **Lattice** is used to parse tables that have demarcated lines between cells, while **Stream** is used to parse tables that have whitespaces between cells to simulate a table structure."
   ]
  },
  {
   "cell_type": "markdown",
   "metadata": {},
   "source": [
    "Need to process the background for this PDF "
   ]
  },
  {
   "cell_type": "code",
   "execution_count": 21,
   "metadata": {
    "ExecuteTime": {
     "end_time": "2019-07-18T10:07:14.271635Z",
     "start_time": "2019-07-18T10:07:10.720189Z"
    }
   },
   "outputs": [],
   "source": [
    "tb1 = camelot.read_pdf(\"https://camelot-py.readthedocs.io/en/master/_static/pdf/background_lines.pdf\", process_background = True)"
   ]
  },
  {
   "cell_type": "code",
   "execution_count": 25,
   "metadata": {
    "ExecuteTime": {
     "end_time": "2019-07-18T13:47:18.025980Z",
     "start_time": "2019-07-18T13:47:18.008989Z"
    }
   },
   "outputs": [
    {
     "data": {
      "text/plain": [
       "2"
      ]
     },
     "execution_count": 25,
     "metadata": {},
     "output_type": "execute_result"
    }
   ],
   "source": [
    "tb1.n"
   ]
  },
  {
   "cell_type": "code",
   "execution_count": 26,
   "metadata": {
    "ExecuteTime": {
     "end_time": "2019-07-18T13:47:19.225597Z",
     "start_time": "2019-07-18T13:47:19.199595Z"
    }
   },
   "outputs": [
    {
     "data": {
      "text/html": [
       "<div>\n",
       "<style scoped>\n",
       "    .dataframe tbody tr th:only-of-type {\n",
       "        vertical-align: middle;\n",
       "    }\n",
       "\n",
       "    .dataframe tbody tr th {\n",
       "        vertical-align: top;\n",
       "    }\n",
       "\n",
       "    .dataframe thead th {\n",
       "        text-align: right;\n",
       "    }\n",
       "</style>\n",
       "<table border=\"1\" class=\"dataframe\">\n",
       "  <thead>\n",
       "    <tr style=\"text-align: right;\">\n",
       "      <th></th>\n",
       "      <th>0</th>\n",
       "      <th>1</th>\n",
       "      <th>2</th>\n",
       "      <th>3</th>\n",
       "      <th>4</th>\n",
       "      <th>5</th>\n",
       "      <th>6</th>\n",
       "      <th>7</th>\n",
       "    </tr>\n",
       "  </thead>\n",
       "  <tbody>\n",
       "    <tr>\n",
       "      <th>0</th>\n",
       "      <td>State</td>\n",
       "      <td>Date</td>\n",
       "      <td>Halt \\nstations</td>\n",
       "      <td>Halt \\ndays</td>\n",
       "      <td>Persons \\ndirectly \\nreached\\n(in lakh)</td>\n",
       "      <td>Persons \\ntrained</td>\n",
       "      <td>Persons \\ncounseled</td>\n",
       "      <td>Persons \\ntested\\nfor HIV</td>\n",
       "    </tr>\n",
       "    <tr>\n",
       "      <th>1</th>\n",
       "      <td>Delhi</td>\n",
       "      <td>1.12.2009</td>\n",
       "      <td>8</td>\n",
       "      <td>17</td>\n",
       "      <td>1.29</td>\n",
       "      <td>3,665</td>\n",
       "      <td>2,409</td>\n",
       "      <td>1,000</td>\n",
       "    </tr>\n",
       "    <tr>\n",
       "      <th>2</th>\n",
       "      <td>Rajasthan</td>\n",
       "      <td>2.12.2009 to \\n19.12.2009</td>\n",
       "      <td></td>\n",
       "      <td></td>\n",
       "      <td></td>\n",
       "      <td></td>\n",
       "      <td></td>\n",
       "      <td></td>\n",
       "    </tr>\n",
       "    <tr>\n",
       "      <th>3</th>\n",
       "      <td>Gujarat</td>\n",
       "      <td>20.12.2009 to \\n3.1.2010</td>\n",
       "      <td>6</td>\n",
       "      <td>13</td>\n",
       "      <td>6.03</td>\n",
       "      <td>3,810</td>\n",
       "      <td>2,317</td>\n",
       "      <td>1,453</td>\n",
       "    </tr>\n",
       "    <tr>\n",
       "      <th>4</th>\n",
       "      <td>Maharashtra</td>\n",
       "      <td>4.01.2010 to \\n1.2.2010</td>\n",
       "      <td>13</td>\n",
       "      <td>26</td>\n",
       "      <td>1.27</td>\n",
       "      <td>5,680</td>\n",
       "      <td>9,027</td>\n",
       "      <td>4,153</td>\n",
       "    </tr>\n",
       "    <tr>\n",
       "      <th>5</th>\n",
       "      <td>Karnataka</td>\n",
       "      <td>2.2.2010 to \\n22.2.2010</td>\n",
       "      <td>11</td>\n",
       "      <td>19</td>\n",
       "      <td>1.80</td>\n",
       "      <td>5,741</td>\n",
       "      <td>3,658</td>\n",
       "      <td>3,183</td>\n",
       "    </tr>\n",
       "    <tr>\n",
       "      <th>6</th>\n",
       "      <td>Kerala</td>\n",
       "      <td>23.2.2010 to \\n11.3.2010</td>\n",
       "      <td>9</td>\n",
       "      <td>17</td>\n",
       "      <td>1.42</td>\n",
       "      <td>3,559</td>\n",
       "      <td>2,173</td>\n",
       "      <td>855</td>\n",
       "    </tr>\n",
       "    <tr>\n",
       "      <th>7</th>\n",
       "      <td>Total</td>\n",
       "      <td></td>\n",
       "      <td>47</td>\n",
       "      <td>92</td>\n",
       "      <td>11.81</td>\n",
       "      <td>22,455</td>\n",
       "      <td>19,584</td>\n",
       "      <td>10,644</td>\n",
       "    </tr>\n",
       "  </tbody>\n",
       "</table>\n",
       "</div>"
      ],
      "text/plain": [
       "             0                          1                2            3  \\\n",
       "0        State                       Date  Halt \\nstations  Halt \\ndays   \n",
       "1        Delhi                  1.12.2009                8           17   \n",
       "2    Rajasthan  2.12.2009 to \\n19.12.2009                                 \n",
       "3      Gujarat   20.12.2009 to \\n3.1.2010                6           13   \n",
       "4  Maharashtra    4.01.2010 to \\n1.2.2010               13           26   \n",
       "5    Karnataka    2.2.2010 to \\n22.2.2010               11           19   \n",
       "6       Kerala   23.2.2010 to \\n11.3.2010                9           17   \n",
       "7        Total                                          47           92   \n",
       "\n",
       "                                         4                  5  \\\n",
       "0  Persons \\ndirectly \\nreached\\n(in lakh)  Persons \\ntrained   \n",
       "1                                     1.29              3,665   \n",
       "2                                                               \n",
       "3                                     6.03              3,810   \n",
       "4                                     1.27              5,680   \n",
       "5                                     1.80              5,741   \n",
       "6                                     1.42              3,559   \n",
       "7                                    11.81             22,455   \n",
       "\n",
       "                     6                          7  \n",
       "0  Persons \\ncounseled  Persons \\ntested\\nfor HIV  \n",
       "1                2,409                      1,000  \n",
       "2                                                  \n",
       "3                2,317                      1,453  \n",
       "4                9,027                      4,153  \n",
       "5                3,658                      3,183  \n",
       "6                2,173                        855  \n",
       "7               19,584                     10,644  "
      ]
     },
     "execution_count": 26,
     "metadata": {},
     "output_type": "execute_result"
    }
   ],
   "source": [
    "tb1[1].df"
   ]
  }
 ],
 "metadata": {
  "kernelspec": {
   "display_name": "Python 3",
   "language": "python",
   "name": "python3"
  },
  "language_info": {
   "codemirror_mode": {
    "name": "ipython",
    "version": 3
   },
   "file_extension": ".py",
   "mimetype": "text/x-python",
   "name": "python",
   "nbconvert_exporter": "python",
   "pygments_lexer": "ipython3",
   "version": "3.7.0"
  },
  "toc": {
   "base_numbering": 1,
   "nav_menu": {},
   "number_sections": true,
   "sideBar": true,
   "skip_h1_title": false,
   "title_cell": "Table of Contents",
   "title_sidebar": "Contents",
   "toc_cell": false,
   "toc_position": {},
   "toc_section_display": true,
   "toc_window_display": false
  },
  "varInspector": {
   "cols": {
    "lenName": 16,
    "lenType": 16,
    "lenVar": 40
   },
   "kernels_config": {
    "python": {
     "delete_cmd_postfix": "",
     "delete_cmd_prefix": "del ",
     "library": "var_list.py",
     "varRefreshCmd": "print(var_dic_list())"
    },
    "r": {
     "delete_cmd_postfix": ") ",
     "delete_cmd_prefix": "rm(",
     "library": "var_list.r",
     "varRefreshCmd": "cat(var_dic_list()) "
    }
   },
   "types_to_exclude": [
    "module",
    "function",
    "builtin_function_or_method",
    "instance",
    "_Feature"
   ],
   "window_display": false
  }
 },
 "nbformat": 4,
 "nbformat_minor": 2
}
